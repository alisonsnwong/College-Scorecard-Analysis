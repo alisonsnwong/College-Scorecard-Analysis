{
 "cells": [
  {
   "cell_type": "markdown",
   "id": "0a3e448d",
   "metadata": {},
   "source": [
    "# <center>STA 141B Final Project: College Scorecard Data Analysis</center>\n",
    "#### <center>Abhay Thacker, Alison Wong, Josh Hernandez</center>"
   ]
  },
  {
   "cell_type": "markdown",
   "id": "880362e6",
   "metadata": {},
   "source": [
    "# Introduction"
   ]
  },
  {
   "cell_type": "markdown",
   "id": "0c4d0a81",
   "metadata": {},
   "source": [
    "As the Biden Administration announced their student loan forgiveness plan in August of 2022, it came to our minds that attending college comes with many financial burdens. With having a bachelor's degree being more common than ever and many jobs requiring at least a bachelor’s degree, we are interested in analyzing the overall value of an undergraduate degree and whether attending college is a worthwhile investment in the long run for all students, especially ones that require students to take out loans to pay for their college tuition. \n",
    "\n",
    "We think exploring the growth and decline of debt and the value of college provides insight into our usefulness and our meaning as college students. College has always been seen as the “right” thing to go to, especially in most cultures, but is the value really there to back up this claim? Our research hopes to answer that question and provides meaning to us, since we are, after all, undergraduate college students who hope to profit from our decision to receive undergraduate education. \n",
    "\n",
    "__With this in mind, we came up with the following questions:__\n",
    "* How have student debt and post-graduate income changed over the past 10 years?\n",
    "* Is there any correlation between median projected income, completion rate, and cost of tuition?\n",
    "* Is there a significant difference in median earnings (10 years after graduation) and student debt in public vs. private institutions?\n"
   ]
  },
  {
   "cell_type": "markdown",
   "id": "a5668211",
   "metadata": {},
   "source": [
    "# Dataset Summary"
   ]
  },
  {
   "cell_type": "markdown",
   "id": "5abd8843",
   "metadata": {},
   "source": [
    "To investiage the questions we posed, we used data from **College Scorecard**, an online database maintained by the **United States Department of Education**. It contains over 3,000 distinct features spanning the past 50+ years regarding various aspects of colleges and universities in the U.S. including the cost of attendence, student debt-levels, and post-college earnings. The database is intended to help parents and students compare the cost and value of educational institutions, so it contains sufficient data for us to perform a comprehensive analysis of the value of college.  "
   ]
  },
  {
   "cell_type": "markdown",
   "id": "8541a0a3",
   "metadata": {},
   "source": [
    "## Features\n",
    "The data set's features are broadly divided into the following 10 categories:\n",
    "\n",
    "`Root`: University ID information\n",
    "\n",
    "`Academics`: University academic programs and degrees offered\n",
    "\n",
    "`Admissions`: Test scores and admissions rates\n",
    "\n",
    "`Aid`: Amount and type of aid received by students\n",
    "\n",
    "`Completion`: Number and types of students that completed degrees\n",
    "\n",
    "`Cost`: Cost of attendance based on various factors\n",
    "\n",
    "`Earnings`: Student financial information post-graduation\n",
    "\n",
    "`Repayment`: Numbers regarding student debt repayment\n",
    "\n",
    "`School`: General information about the institution\n",
    "\n",
    "`Student`: Demographic, social, and financial information regarding the student body"
   ]
  },
  {
   "cell_type": "markdown",
   "id": "f09a42c3",
   "metadata": {},
   "source": [
    "## Data Collection and Access"
   ]
  },
  {
   "cell_type": "markdown",
   "id": "f5fb06e2",
   "metadata": {},
   "source": [
    "The dataset is available as a downloadable file, but as the raw data files are extremely large, we used the web API maintained by the U.S. Department of Education to query the dataset. We developed a few helper functions to simplify the process of querying from the web API. "
   ]
  },
  {
   "cell_type": "markdown",
   "id": "fc4dce5f",
   "metadata": {},
   "source": [
    "### Environment Setup"
   ]
  },
  {
   "cell_type": "markdown",
   "id": "e6d5a080",
   "metadata": {},
   "source": [
    "The following are all of the packages and dependencies used throughout our analysis."
   ]
  },
  {
   "cell_type": "code",
   "execution_count": 1,
   "id": "5bfd90f2",
   "metadata": {},
   "outputs": [],
   "source": [
    "# Import necessary libraries\n",
    "import requests\n",
    "import requests_cache\n",
    "import time\n",
    "import pandas as pd\n",
    "import matplotlib.pyplot as plt\n",
    "import plotly.graph_objects as go\n",
    "import plotly.express as px\n",
    "import scipy.stats as stats\n",
    "import scipy\n",
    "import seaborn as sns\n",
    "import numpy as np\n",
    "\n",
    "# Import API Keys\n",
    "from keys import college_scorecard_key\n",
    "\n",
    "# Set up request caching\n",
    "requests_cache.install_cache('141b_project_cache')\n",
    "\n",
    "# Matplotlib jupyter integration\n",
    "%matplotlib inline\n",
    "\n",
    "# Suppress Pandas SettingWithCopyWarning Output\n",
    "pd.options.mode.chained_assignment = None"
   ]
  },
  {
   "cell_type": "markdown",
   "id": "ee121b1d",
   "metadata": {},
   "source": [
    "### Data Collection Functions"
   ]
  },
  {
   "cell_type": "markdown",
   "id": "e63c153c",
   "metadata": {},
   "source": [
    "We started by developing a simple function, `get_score_card_data` to query one feature from the database from a given year. This function abstracts away the complexity of making a request to the database (i.e. the need for an access key, the endpoint, the request format, etc.), making it easy to query the database throughout the project."
   ]
  },
  {
   "cell_type": "code",
   "execution_count": 2,
   "id": "89950a7c",
   "metadata": {},
   "outputs": [],
   "source": [
    "def get_scorecard_data(year, dev_category, var_name, page=0, per_page=100):\n",
    "    \"\"\"\n",
    "    Retrieves one feature for a specified year from College Scorecard database\n",
    "    \n",
    "    Parameters\n",
    "    ----------\n",
    "    year : string\n",
    "        The year you want to query from\n",
    "    dev_category: string\n",
    "        Top-level database category the feature is contained in\n",
    "    var_name: string\n",
    "        The feature you want to query\n",
    "    page: int\n",
    "        The page you want to query\n",
    "        Defaults to 0\n",
    "    per_page: int\n",
    "        How many entries to include in each request\n",
    "        Defaults to 100\n",
    "    \n",
    "    Returns\n",
    "    -------\n",
    "    res : Python Requests.response Object\n",
    "        A response object containing the API's resposne (data, response status, etc.)\n",
    "    \"\"\"\n",
    "    endpoint = \"https://api.data.gov/ed/collegescorecard/v1/schools\"\n",
    "    params = {\n",
    "        \"api_key\": college_scorecard_key,\n",
    "        \"page\": page,\n",
    "        \"per_page\": per_page,\n",
    "        \"fields\": \"id,school.name,school.state,school.ownership,{0}.{1}.{2}\".format(year, dev_category, var_name),\n",
    "        \"school.operating\": \"1\", # Currently certified as operating\n",
    "        \"school.degrees_awarded.predominant\": \"3\" # Predominantly bachelor's-degree granting\n",
    "    }\n",
    "    \n",
    "    res = requests.get(endpoint, params)\n",
    "    \n",
    "    if(res.status_code != 200):\n",
    "        print(\"Error:\", res)\n",
    "        return -1\n",
    "    else:\n",
    "        return res"
   ]
  },
  {
   "cell_type": "markdown",
   "id": "843c7d29",
   "metadata": {},
   "source": [
    "Since our project involves analyzing trends for different financial variables across years, we also developed a function, `get_all_data_for_year` to retrieve all data for a given feature for the entire year. This greatly simplifies the process of comparing trends in data points over time."
   ]
  },
  {
   "cell_type": "code",
   "execution_count": 3,
   "id": "f729f48c",
   "metadata": {},
   "outputs": [],
   "source": [
    "def get_all_data_for_year(year, dev_category, var_name):\n",
    "    \"\"\"\n",
    "    Retrieves all data for one feature for the specified year (i.e. all debt data for 2020)\n",
    "    \n",
    "    Parameters\n",
    "    ----------\n",
    "    year : string\n",
    "        The year you want to query from\n",
    "    dev_category: string\n",
    "        Top-level database category the feature is contained in\n",
    "    var_name: string\n",
    "        The feature you want to query\n",
    "    \n",
    "    Returns\n",
    "    -------\n",
    "    results: Pandas Data frame\n",
    "        A dataframe containing the entire year's data for the given feature\n",
    "    \"\"\"\n",
    "    data = get_scorecard_data(year = year, dev_category = dev_category, var_name = var_name)\n",
    "    \n",
    "    if(not data):\n",
    "        print(\"Error: Failed to get score card data.\")\n",
    "    \n",
    "    data = data.json()\n",
    "    num_pages = data[\"metadata\"][\"total\"] // 100 + 1\n",
    "    curr_page = data[\"metadata\"][\"page\"] + 1\n",
    "    \n",
    "    results = data[\"results\"]\n",
    "    for page in range(curr_page, num_pages+1):\n",
    "        results += get_scorecard_data(year = year, dev_category = dev_category, var_name = var_name, page = page).json()[\"results\"]\n",
    "        time.sleep(0.1)\n",
    "    \n",
    "    return pd.DataFrame(results)"
   ]
  },
  {
   "cell_type": "markdown",
   "id": "37363421",
   "metadata": {},
   "source": [
    "Having set up all of these data collection helper functions, we can move on to addressing the research questions posed."
   ]
  },
  {
   "cell_type": "markdown",
   "id": "c33fe5ff",
   "metadata": {},
   "source": [
    "## Research Limitiations/Decisions"
   ]
  },
  {
   "cell_type": "markdown",
   "id": "45274d1b",
   "metadata": {},
   "source": [
    "For this report, we have decided to analyze data between the years 2011 and 2018 due to scarce data availability for years outside of this range. Furthermore, the College Scorecard dataset also includes data on U.S. territories, but we have limited the scope of our analysis to only include the U.S. commonwealth (50 states)."
   ]
  },
  {
   "cell_type": "markdown",
   "id": "362cab6a",
   "metadata": {},
   "source": [
    "# Student Loan Debt vs College Graduate Income"
   ]
  },
  {
   "cell_type": "markdown",
   "id": "03c87ca4",
   "metadata": {},
   "source": [
    "In the past few years, there has been growing concern over whether attending college is a worthwhile investment. As the cost of attending college has increased substantially over the past few decades, student debt has become a nationwide concern.\n",
    "\n",
    "\n",
    "To explore whether or not attending college is a financially sound decision, we analyzed the cost of college and contrasted it to post-graduation salary perspectives for undergraduate students. More specifically, we wanted to **analyze how college debt and income have changed over the past decade** to see if the financial burdens associated with college are compensated by higher salaries."
   ]
  },
  {
   "cell_type": "markdown",
   "id": "78c4cac6",
   "metadata": {},
   "source": [
    "## Student Loan Debt Analysis"
   ]
  },
  {
   "cell_type": "markdown",
   "id": "f752c7fc",
   "metadata": {},
   "source": [
    "We start by analyzing student loan debt data from College Scorecard between the years 2011-2018 to see how it has evolved over the past few years.\n",
    "\n",
    "To do this, we simply use the `get_all_data_for_year` function developed to loop through the years we are interested in and concatenate all of the data into a single Pandas data frame."
   ]
  },
  {
   "cell_type": "code",
   "execution_count": 4,
   "id": "ca0fd3a0",
   "metadata": {},
   "outputs": [],
   "source": [
    "# Set the year range we are interested in\n",
    "START_YEAR = 2011\n",
    "END_YEAR = 2018\n",
    "\n",
    "# Generate a list of all years in the given range (years are converted to strings)\n",
    "years = range(START_YEAR, END_YEAR + 1)\n",
    "years = [str(year) for year in years]\n",
    "\n",
    "full_debt_data = pd.DataFrame()\n",
    "\n",
    "for year in years:\n",
    "    # Retrieve all debt data for the specified year from scorecard\n",
    "    year_debt_data = get_all_data_for_year(year = year, dev_category = \"aid\", var_name = \"loan_principal\")\n",
    "    \n",
    "    # Format the resulting data frame\n",
    "    year_debt_data = year_debt_data.rename(columns = { \"{0}.aid.loan_principal\".format(year): \"debt\", \"school.name\": \"name\", \"school.state\": \"state\", \"school.ownership\": \"ownership\" })\n",
    "    year_debt_data[\"year\"] = year\n",
    "    \n",
    "    # Append current year's debt data to larger data frame\n",
    "    full_debt_data = pd.concat([full_debt_data, year_debt_data], axis=0)\n",
    "\n",
    "# Remove data points for U.S. territories\n",
    "US_TERRITORIES = [\"GU\", \"DC\", \"PR\", \"VI\"]\n",
    "full_debt_data = full_debt_data[~full_debt_data[\"state\"].isin(US_TERRITORIES)]\n",
    "    \n",
    "# Set the college id as row indicies\n",
    "full_debt_data = full_debt_data.set_index(\"id\") "
   ]
  },
  {
   "cell_type": "code",
   "execution_count": 5,
   "id": "8c07fc08",
   "metadata": {},
   "outputs": [
    {
     "data": {
      "text/html": [
       "<div>\n",
       "<style scoped>\n",
       "    .dataframe tbody tr th:only-of-type {\n",
       "        vertical-align: middle;\n",
       "    }\n",
       "\n",
       "    .dataframe tbody tr th {\n",
       "        vertical-align: top;\n",
       "    }\n",
       "\n",
       "    .dataframe thead th {\n",
       "        text-align: right;\n",
       "    }\n",
       "</style>\n",
       "<table border=\"1\" class=\"dataframe\">\n",
       "  <thead>\n",
       "    <tr style=\"text-align: right;\">\n",
       "      <th></th>\n",
       "      <th>debt</th>\n",
       "      <th>name</th>\n",
       "      <th>state</th>\n",
       "      <th>ownership</th>\n",
       "      <th>year</th>\n",
       "    </tr>\n",
       "    <tr>\n",
       "      <th>id</th>\n",
       "      <th></th>\n",
       "      <th></th>\n",
       "      <th></th>\n",
       "      <th></th>\n",
       "      <th></th>\n",
       "    </tr>\n",
       "  </thead>\n",
       "  <tbody>\n",
       "    <tr>\n",
       "      <th>100654</th>\n",
       "      <td>11600.0</td>\n",
       "      <td>Alabama A &amp; M University</td>\n",
       "      <td>AL</td>\n",
       "      <td>1</td>\n",
       "      <td>2011</td>\n",
       "    </tr>\n",
       "    <tr>\n",
       "      <th>100663</th>\n",
       "      <td>10276.0</td>\n",
       "      <td>University of Alabama at Birmingham</td>\n",
       "      <td>AL</td>\n",
       "      <td>1</td>\n",
       "      <td>2011</td>\n",
       "    </tr>\n",
       "    <tr>\n",
       "      <th>100706</th>\n",
       "      <td>11250.0</td>\n",
       "      <td>University of Alabama in Huntsville</td>\n",
       "      <td>AL</td>\n",
       "      <td>1</td>\n",
       "      <td>2011</td>\n",
       "    </tr>\n",
       "    <tr>\n",
       "      <th>100724</th>\n",
       "      <td>9500.0</td>\n",
       "      <td>Alabama State University</td>\n",
       "      <td>AL</td>\n",
       "      <td>1</td>\n",
       "      <td>2011</td>\n",
       "    </tr>\n",
       "    <tr>\n",
       "      <th>100751</th>\n",
       "      <td>12527.0</td>\n",
       "      <td>The University of Alabama</td>\n",
       "      <td>AL</td>\n",
       "      <td>1</td>\n",
       "      <td>2011</td>\n",
       "    </tr>\n",
       "    <tr>\n",
       "      <th>100812</th>\n",
       "      <td>11192.0</td>\n",
       "      <td>Athens State University</td>\n",
       "      <td>AL</td>\n",
       "      <td>1</td>\n",
       "      <td>2011</td>\n",
       "    </tr>\n",
       "    <tr>\n",
       "      <th>100830</th>\n",
       "      <td>6762.0</td>\n",
       "      <td>Auburn University at Montgomery</td>\n",
       "      <td>AL</td>\n",
       "      <td>1</td>\n",
       "      <td>2011</td>\n",
       "    </tr>\n",
       "    <tr>\n",
       "      <th>100858</th>\n",
       "      <td>14750.0</td>\n",
       "      <td>Auburn University</td>\n",
       "      <td>AL</td>\n",
       "      <td>1</td>\n",
       "      <td>2011</td>\n",
       "    </tr>\n",
       "    <tr>\n",
       "      <th>100937</th>\n",
       "      <td>17500.0</td>\n",
       "      <td>Birmingham-Southern College</td>\n",
       "      <td>AL</td>\n",
       "      <td>2</td>\n",
       "      <td>2011</td>\n",
       "    </tr>\n",
       "    <tr>\n",
       "      <th>101116</th>\n",
       "      <td>4750.0</td>\n",
       "      <td>South University-Montgomery</td>\n",
       "      <td>AL</td>\n",
       "      <td>3</td>\n",
       "      <td>2011</td>\n",
       "    </tr>\n",
       "  </tbody>\n",
       "</table>\n",
       "</div>"
      ],
      "text/plain": [
       "           debt                                 name state  ownership  year\n",
       "id                                                                         \n",
       "100654  11600.0             Alabama A & M University    AL          1  2011\n",
       "100663  10276.0  University of Alabama at Birmingham    AL          1  2011\n",
       "100706  11250.0  University of Alabama in Huntsville    AL          1  2011\n",
       "100724   9500.0             Alabama State University    AL          1  2011\n",
       "100751  12527.0            The University of Alabama    AL          1  2011\n",
       "100812  11192.0              Athens State University    AL          1  2011\n",
       "100830   6762.0      Auburn University at Montgomery    AL          1  2011\n",
       "100858  14750.0                    Auburn University    AL          1  2011\n",
       "100937  17500.0          Birmingham-Southern College    AL          2  2011\n",
       "101116   4750.0          South University-Montgomery    AL          3  2011"
      ]
     },
     "execution_count": 5,
     "metadata": {},
     "output_type": "execute_result"
    }
   ],
   "source": [
    "full_debt_data.head(10)"
   ]
  },
  {
   "cell_type": "markdown",
   "id": "9c89ace4",
   "metadata": {},
   "source": [
    "If we look at the above, we can see that the dataset now contains a list of universities, the state they are in, and the average student loan debt the student body had in a given year. To more clearly see how this has evolved over the past few years, we made a choropleth map to display the average debt per state over the years 2011-2018."
   ]
  },
  {
   "cell_type": "code",
   "execution_count": null,
   "id": "7acae6ba",
   "metadata": {},
   "outputs": [],
   "source": [
    "# Compute average debt for each state for each year in the provided range\n",
    "mean_debt = full_debt_data.groupby([\"state\", \"year\"], as_index=False)[\"debt\"].mean()\n",
    "\n",
    "# Visualize debt in choropleth with a slider to view different years\n",
    "fig = px.choropleth(\n",
    "    mean_debt,\n",
    "    locations='state', \n",
    "    locationmode=\"USA-states\", \n",
    "    scope=\"usa\",\n",
    "    color='debt',\n",
    "    color_continuous_scale=\"Reds\", \n",
    "    animation_frame=\"year\",\n",
    "    range_color=(min(mean_debt[\"debt\"]), max(mean_debt[\"debt\"])) # Fix color scale\n",
    ");\n",
    "\n",
    "fig.update_layout(\n",
    "    title_text = 'Average Student Loan Debt by State (2011 - 2018)',\n",
    "    title_font_size = 20,\n",
    "    title_x=0.45, \n",
    ");\n",
    "\n",
    "fig.show()"
   ]
  },
  {
   "cell_type": "markdown",
   "id": "963673e6",
   "metadata": {},
   "source": [
    "From the above animation, it is clear that nationwide student loan debt has increased substantially over the past decade as all states appear a darker shade of red on the choropleth map over time. Some notable features that that the choropleth highlights:\n",
    "* Universities on the west and east coast have the highest student debt and this feature persists across all years\n",
    "* Debt levels rose at a slower rate nationwide between the years 2016-2018 relative to earlier years"
   ]
  },
  {
   "cell_type": "markdown",
   "id": "527a6554",
   "metadata": {},
   "source": [
    "While it is easy to analyze nationwide trends on the choropleth, it is difficult to analyze trends for specific states and between specific states. To better analyze each state's student loan debt trend, we made a barplot plotting each state's change in student debt from 2011 to 2018."
   ]
  },
  {
   "cell_type": "code",
   "execution_count": 7,
   "id": "e6dc09b7",
   "metadata": {},
   "outputs": [
    {
     "data": {
      "image/png": "[encoded data removed]",
      "text/plain": [
       "<Figure size 1152x576 with 3 Axes>"
      ]
     },
     "metadata": {
      "needs_background": "light"
     },
     "output_type": "display_data"
    }
   ],
   "source": [
    "# Subset mean debt to only include rows from 2011 and 2018\n",
    "state_debt_trends = mean_debt[np.logical_or(mean_debt[\"year\"] == \"2011\", mean_debt[\"year\"] == \"2018\")]\n",
    "state_debt_trends[\"Debt Change\"] = state_debt_trends.groupby([\"state\"])[\"debt\"].diff()\n",
    "\n",
    "plt.figure(figsize=(16, 8))\n",
    "\n",
    "# Plot all state trends\n",
    "plt.subplot(211)\n",
    "state_order = state_debt_trends.dropna().sort_values(\"Debt Change\").state\n",
    "\n",
    "all_states_plot = sns.barplot(data=state_debt_trends.dropna(), x=\"state\", y=\"Debt Change\", order=state_order)\n",
    "all_states_plot.set(xlabel=\"State\", ylabel=\"Student Loan Debt Change ($)\", title=\"Statewide Change in Student Loan Debt (2011-2018)\")\n",
    "\n",
    "# Plot bottom 5 states\n",
    "plt.subplot(223)\n",
    "bottom_five_states = state_debt_trends.dropna().sort_values(by=['Debt Change']).head(5)[\"state\"]\n",
    "bottom_five_states_data = state_debt_trends[state_debt_trends[\"state\"].isin(bottom_five_states)]\n",
    "state_order = bottom_five_states_data.dropna().sort_values(\"Debt Change\").state\n",
    "\n",
    "bot_states_plot = sns.barplot(data=bottom_five_states_data, x=\"state\", y=\"debt\", hue=\"year\", order=state_order)\n",
    "bot_states_plot.set(xlabel=\"State\", ylabel=\"Student Loan Debt ($)\", title=\"States w/Least Increase in Student Loan Debt (2011 vs. 2018)\")\n",
    "\n",
    "# Plot top 5 states\n",
    "plt.subplot(224)\n",
    "top_five_states = state_debt_trends.dropna().sort_values(by=['Debt Change']).tail(5)[\"state\"]\n",
    "top_five_states_data = state_debt_trends[state_debt_trends[\"state\"].isin(top_five_states)]\n",
    "state_order = top_five_states_data.dropna().sort_values(\"Debt Change\").state\n",
    "\n",
    "top_states_plot = sns.barplot(data=top_five_states_data, x=\"state\", y=\"debt\", hue=\"year\", order=state_order)\n",
    "top_states_plot.set(xlabel=\"State\", ylabel=\"Student Loan Debt ($)\", title=\"States w/Most Increase in Student Loan Debt (2011 vs. 2018)\");\n"
   ]
  },
  {
   "cell_type": "markdown",
   "id": "07075eaf",
   "metadata": {},
   "source": [
    "**All State Change in Student Loan Debt (Upper Plot)**:  \n",
    "In the upper plot, we graphed each state's change in student loan debt from 2011 to 2018. We can see that across all states, student loan debt has increased on average between \\\\$400 - \\\\$5,000 depending on the state. However, the distribution is clearly left-skewed with most states observing an increase of around \\\\$3,000.\n",
    "\n",
    "To further analyze the changes in debt, we created bar plots comparing average student loan debt from 2011 to 2018 for the states with the lowest increase in debt (left plot) and the states with the highest increase in debt (right plot).\n",
    "\n",
    "**States with Lowest Increase in Debt (Bottom Left Plot)**:  \n",
    "The state with the lowest increase, and a clear outlier in the dataset, was Washington with an average increase in student loan debt of \\\\$400. However, when looking at the bottom left plot, we can see that Washington already had a fairly high average student loan debt of \\\\$14,200 in 2011. A similar trend can be seen among all states in the bottom five, as all of them had fairly high average student debt in 2011. This likely explains the relatively minimal increases.\n",
    "\n",
    "**States with Highest Increase in Debt (Bottom Right Plot)**:  \n",
    "The opposite can be said about the states with the largest increases, Hawaii and Alabama with an average increase of approximately \\\\$5,000. However, in 2011, they were among the states with the lowest average student loan debt at \\\\$7,600 and \\\\$7,800 respectively.\n",
    "\n",
    "**Overall**:  \n",
    "From this analysis, we can see that the states that experience the highest increase in student loan debt had relatively low average student loan debt in 2011, and the states that experience the lowest increase had relatively high student loan debt in 2011. This potentially indicates that nationwide student loan debt is plateauing at the upper end of \\\\$16,000."
   ]
  },
  {
   "cell_type": "markdown",
   "id": "6857a25e",
   "metadata": {},
   "source": [
    "To look into this hypothesis and further our analysis, we looked at the nationwide trend in student loan debt."
   ]
  },
  {
   "cell_type": "code",
   "execution_count": 8,
   "id": "ae692a99",
   "metadata": {},
   "outputs": [
    {
     "data": {
      "image/png": "[encoded data removed]",
      "text/plain": [
       "<Figure size 432x288 with 1 Axes>"
      ]
     },
     "metadata": {
      "needs_background": "light"
     },
     "output_type": "display_data"
    }
   ],
   "source": [
    "# Group the debt data by year\n",
    "mean_yearly_debt = mean_debt.groupby([\"year\"], as_index=False).mean()\n",
    "\n",
    "# Convert year into a float from string so we can fit a regression line\n",
    "mean_yearly_debt[\"year\"] = mean_yearly_debt[\"year\"].astype(\"float64\")\n",
    "\n",
    "# Plot yearly debt and fit a regression line to visualize trend\n",
    "lin_plot = sns.regplot(data = mean_yearly_debt, x = \"year\", y = \"debt\")\n",
    "lin_plot.set(xlabel='Year', ylabel=\"Average Nation-wide Student Loan Debt ($)\", title=\"Nationwide Student Loan Debt Trend\");"
   ]
  },
  {
   "cell_type": "markdown",
   "id": "9273f0a0",
   "metadata": {},
   "source": [
    "From the plot, we can see that, on average, student-loan debt has increased from \\\\$12,500 to \\\\$16,000 from 2011 to 2018. If we examine the individual data points more carefully, we can notice a slight dip from the original linear increase that is observed between 2011 to 2016 in the last few years. This indicates that debt levels nationwide may be plateauing."
   ]
  },
  {
   "cell_type": "markdown",
   "id": "25a1b9d7",
   "metadata": {},
   "source": [
    "## College Graduate Income Analysis"
   ]
  },
  {
   "cell_type": "markdown",
   "id": "cf2e9382",
   "metadata": {},
   "source": [
    "Now we move on to looking at college graduate salaries. We perform a similar analysis by first collecting all the needed data from College Scorecard and making a choropleth chart to visualize the data.\n",
    "\n",
    "The one noteworthy aspect of data collection in this section is we had to limit our list of years to [\"2011\", \"2012\", \"2013\", \"2014\", \"2018\"]. This is because College Scorecard did not have data for the years in between these."
   ]
  },
  {
   "cell_type": "code",
   "execution_count": 9,
   "id": "5cd0d756",
   "metadata": {},
   "outputs": [],
   "source": [
    "# Set the year range we are interested in\n",
    "START_YEAR = 2011\n",
    "END_YEAR = 2018\n",
    "\n",
    "# Manually set years: only 2011, 2012, 2013, 2014, 2018 available\n",
    "years = [\"2011\", \"2012\", \"2013\", \"2014\", \"2018\"]\n",
    "\n",
    "full_income_data = pd.DataFrame()\n",
    "\n",
    "for year in years:\n",
    "    # Retrieve all income data for the specified year from scorecard\n",
    "    year_income_data = get_all_data_for_year(year = year, dev_category = \"earnings\", var_name = \"10_yrs_after_entry.median\")\n",
    "    \n",
    "    # Format the resulting data frame\n",
    "    year_income_data = year_income_data.rename(columns = { \"{0}.earnings.10_yrs_after_entry.median\".format(year): \"income\", \"school.name\": \"name\", \"school.state\": \"state\", \"school.ownership\": \"ownership\" })\n",
    "    year_income_data[\"year\"] = year\n",
    "    \n",
    "    # Remove any NA entries\n",
    "    year_income_data = year_income_data.dropna(subset=[\"income\"])\n",
    "    \n",
    "    # Append current year's income data to larger data frame\n",
    "    full_income_data = pd.concat([full_income_data, year_income_data], axis=0)\n",
    "\n",
    "# Remove data points for U.S. territories\n",
    "US_TERRITORIES = [\"GU\", \"DC\", \"PR\", \"VI\"]\n",
    "full_income_data = full_income_data[~full_income_data[\"state\"].isin(US_TERRITORIES)]\n",
    "\n",
    "# Set the college id as row indicies\n",
    "full_income_data = full_income_data.set_index(\"id\") "
   ]
  },
  {
   "cell_type": "code",
   "execution_count": 10,
   "id": "a015dc31",
   "metadata": {},
   "outputs": [
    {
     "data": {
      "text/html": [
       "<div>\n",
       "<style scoped>\n",
       "    .dataframe tbody tr th:only-of-type {\n",
       "        vertical-align: middle;\n",
       "    }\n",
       "\n",
       "    .dataframe tbody tr th {\n",
       "        vertical-align: top;\n",
       "    }\n",
       "\n",
       "    .dataframe thead th {\n",
       "        text-align: right;\n",
       "    }\n",
       "</style>\n",
       "<table border=\"1\" class=\"dataframe\">\n",
       "  <thead>\n",
       "    <tr style=\"text-align: right;\">\n",
       "      <th></th>\n",
       "      <th>income</th>\n",
       "      <th>name</th>\n",
       "      <th>state</th>\n",
       "      <th>ownership</th>\n",
       "      <th>year</th>\n",
       "    </tr>\n",
       "    <tr>\n",
       "      <th>id</th>\n",
       "      <th></th>\n",
       "      <th></th>\n",
       "      <th></th>\n",
       "      <th></th>\n",
       "      <th></th>\n",
       "    </tr>\n",
       "  </thead>\n",
       "  <tbody>\n",
       "    <tr>\n",
       "      <th>100654</th>\n",
       "      <td>31400.0</td>\n",
       "      <td>Alabama A &amp; M University</td>\n",
       "      <td>AL</td>\n",
       "      <td>1</td>\n",
       "      <td>2011</td>\n",
       "    </tr>\n",
       "    <tr>\n",
       "      <th>100663</th>\n",
       "      <td>40300.0</td>\n",
       "      <td>University of Alabama at Birmingham</td>\n",
       "      <td>AL</td>\n",
       "      <td>1</td>\n",
       "      <td>2011</td>\n",
       "    </tr>\n",
       "    <tr>\n",
       "      <th>100706</th>\n",
       "      <td>46600.0</td>\n",
       "      <td>University of Alabama in Huntsville</td>\n",
       "      <td>AL</td>\n",
       "      <td>1</td>\n",
       "      <td>2011</td>\n",
       "    </tr>\n",
       "    <tr>\n",
       "      <th>100724</th>\n",
       "      <td>27800.0</td>\n",
       "      <td>Alabama State University</td>\n",
       "      <td>AL</td>\n",
       "      <td>1</td>\n",
       "      <td>2011</td>\n",
       "    </tr>\n",
       "    <tr>\n",
       "      <th>100751</th>\n",
       "      <td>42400.0</td>\n",
       "      <td>The University of Alabama</td>\n",
       "      <td>AL</td>\n",
       "      <td>1</td>\n",
       "      <td>2011</td>\n",
       "    </tr>\n",
       "    <tr>\n",
       "      <th>100812</th>\n",
       "      <td>39700.0</td>\n",
       "      <td>Athens State University</td>\n",
       "      <td>AL</td>\n",
       "      <td>1</td>\n",
       "      <td>2011</td>\n",
       "    </tr>\n",
       "    <tr>\n",
       "      <th>100830</th>\n",
       "      <td>34800.0</td>\n",
       "      <td>Auburn University at Montgomery</td>\n",
       "      <td>AL</td>\n",
       "      <td>1</td>\n",
       "      <td>2011</td>\n",
       "    </tr>\n",
       "    <tr>\n",
       "      <th>100858</th>\n",
       "      <td>45400.0</td>\n",
       "      <td>Auburn University</td>\n",
       "      <td>AL</td>\n",
       "      <td>1</td>\n",
       "      <td>2011</td>\n",
       "    </tr>\n",
       "    <tr>\n",
       "      <th>100937</th>\n",
       "      <td>41900.0</td>\n",
       "      <td>Birmingham-Southern College</td>\n",
       "      <td>AL</td>\n",
       "      <td>2</td>\n",
       "      <td>2011</td>\n",
       "    </tr>\n",
       "    <tr>\n",
       "      <th>101116</th>\n",
       "      <td>29800.0</td>\n",
       "      <td>South University-Montgomery</td>\n",
       "      <td>AL</td>\n",
       "      <td>3</td>\n",
       "      <td>2011</td>\n",
       "    </tr>\n",
       "  </tbody>\n",
       "</table>\n",
       "</div>"
      ],
      "text/plain": [
       "         income                                 name state  ownership  year\n",
       "id                                                                         \n",
       "100654  31400.0             Alabama A & M University    AL          1  2011\n",
       "100663  40300.0  University of Alabama at Birmingham    AL          1  2011\n",
       "100706  46600.0  University of Alabama in Huntsville    AL          1  2011\n",
       "100724  27800.0             Alabama State University    AL          1  2011\n",
       "100751  42400.0            The University of Alabama    AL          1  2011\n",
       "100812  39700.0              Athens State University    AL          1  2011\n",
       "100830  34800.0      Auburn University at Montgomery    AL          1  2011\n",
       "100858  45400.0                    Auburn University    AL          1  2011\n",
       "100937  41900.0          Birmingham-Southern College    AL          2  2011\n",
       "101116  29800.0          South University-Montgomery    AL          3  2011"
      ]
     },
     "execution_count": 10,
     "metadata": {},
     "output_type": "execute_result"
    }
   ],
   "source": [
    "full_income_data.head(10)"
   ]
  },
  {
   "cell_type": "markdown",
   "id": "6c3a9c0f",
   "metadata": {},
   "source": [
    "If we look at the above, we can see that the dataset now contains a list of universities, the state they are in, and the average student post-graduation income in a given year. To see how post-graduation income has evolved over time, we made a choropleth map to display the average post-graduation income per state over the years 2011-2018."
   ]
  },
  {
   "cell_type": "code",
   "execution_count": 11,
   "id": "475e6e2f",
   "metadata": {},
   "outputs": [
    {
     "data": {
      "application/vnd.plotly.v1+json": {
       "config": {
        "plotlyServerURL": "https://plot.ly"
       },
       "data": [
        {
         "coloraxis": "coloraxis",
         "geo": "geo",
         "hovertemplate": "year=2011<br>state=%{location}<br>income=%{z}<extra></extra>",
         "locationmode": "USA-states",
         "locations": [
          "AK",
          "AL",
          "AR",
          "AZ",
          "CA",
          "CO",
          "CT",
          "DE",
          "FL",
          "GA",
          "HI",
          "IA",
          "ID",
          "IL",
          "IN",
          "KS",
          "KY",
          "LA",
          "MA",
          "MD",
          "ME",
          "MI",
          "MN",
          "MO",
          "MS",
          "MT",
          "NC",
          "ND",
          "NE",
          "NH",
          "NJ",
          "NM",
          "NV",
          "NY",
          "OH",
          "OK",
          "OR",
          "PA",
          "RI",
          "SC",
          "SD",
          "TN",
          "TX",
          "UT",
          "VA",
          "VT",
          "WA",
          "WI",
          "WV",
          "WY"
         ],
         "name": "",
         "type": "choropleth",
         "z": [
          42533.333333333336,
          36789.28571428572,
          37242.857142857145,
          44290,
          48940.816326530614,
          41814.28571428572,
          48262.5,
          44750,
          39296.153846153844,
          37872.34042553192,
          39725,
          41403.22580645161,
          36814.28571428572,
          46027.41935483871,
          40657.142857142855,
          38274.07407407407,
          35539.28571428572,
          38904.34782608696,
          49716.92307692308,
          49585.18518518518,
          38958.82352941176,
          41461.90476190476,
          42905.26315789474,
          39966,
          34893.75,
          36255.555555555555,
          37630.188679245286,
          38766.666666666664,
          42855,
          43625,
          49016.12903225807,
          33550,
          43833.333333333336,
          46071.875,
          40646.3768115942,
          36848,
          42632,
          45937.37373737374,
          48200,
          36497.05882352941,
          38153.846153846156,
          37455.26315789474,
          42402.35294117647,
          38275,
          44393.87755102041,
          38722.22222222222,
          44195.65217391304,
          42051.35135135135,
          37788.88888888889,
          46200
         ]
        }
       ],
       "frames": [
        {
         "data": [
          {
           "coloraxis": "coloraxis",
           "geo": "geo",
           "hovertemplate": "year=2011<br>state=%{location}<br>income=%{z}<extra></extra>",
           "locationmode": "USA-states",
           "locations": [
            "AK",
            "AL",
            "AR",
            "AZ",
            "CA",
            "CO",
            "CT",
            "DE",
            "FL",
            "GA",
            "HI",
            "IA",
            "ID",
            "IL",
            "IN",
            "KS",
            "KY",
            "LA",
            "MA",
            "MD",
            "ME",
            "MI",
            "MN",
            "MO",
            "MS",
            "MT",
            "NC",
            "ND",
            "NE",
            "NH",
            "NJ",
            "NM",
            "NV",
            "NY",
            "OH",
            "OK",
            "OR",
            "PA",
            "RI",
            "SC",
            "SD",
            "TN",
            "TX",
            "UT",
            "VA",
            "VT",
            "WA",
            "WI",
            "WV",
            "WY"
           ],
           "name": "",
           "type": "choropleth",
           "z": [
            42533.333333333336,
            36789.28571428572,
            37242.857142857145,
            44290,
            48940.816326530614,
            41814.28571428572,
            48262.5,
            44750,
            39296.153846153844,
            37872.34042553192,
            39725,
            41403.22580645161,
            36814.28571428572,
            46027.41935483871,
            40657.142857142855,
            38274.07407407407,
            35539.28571428572,
            38904.34782608696,
            49716.92307692308,
            49585.18518518518,
            38958.82352941176,
            41461.90476190476,
            42905.26315789474,
            39966,
            34893.75,
            36255.555555555555,
            37630.188679245286,
            38766.666666666664,
            42855,
            43625,
            49016.12903225807,
            33550,
            43833.333333333336,
            46071.875,
            40646.3768115942,
            36848,
            42632,
            45937.37373737374,
            48200,
            36497.05882352941,
            38153.846153846156,
            37455.26315789474,
            42402.35294117647,
            38275,
            44393.87755102041,
            38722.22222222222,
            44195.65217391304,
            42051.35135135135,
            37788.88888888889,
            46200
           ]
          }
         ],
         "name": "2011"
        },
        {
         "data": [
          {
           "coloraxis": "coloraxis",
           "geo": "geo",
           "hovertemplate": "year=2012<br>state=%{location}<br>income=%{z}<extra></extra>",
           "locationmode": "USA-states",
           "locations": [
            "AK",
            "AL",
            "AR",
            "AZ",
            "CA",
            "CO",
            "CT",
            "DE",
            "FL",
            "GA",
            "HI",
            "IA",
            "ID",
            "IL",
            "IN",
            "KS",
            "KY",
            "LA",
            "MA",
            "MD",
            "ME",
            "MI",
            "MN",
            "MO",
            "MS",
            "MT",
            "NC",
            "ND",
            "NE",
            "NH",
            "NJ",
            "NM",
            "NV",
            "NY",
            "OH",
            "OK",
            "OR",
            "PA",
            "RI",
            "SC",
            "SD",
            "TN",
            "TX",
            "UT",
            "VA",
            "VT",
            "WA",
            "WI",
            "WV",
            "WY"
           ],
           "name": "",
           "type": "choropleth",
           "z": [
            41900,
            36400,
            36804.76190476191,
            44150,
            48139.21568627451,
            40719.04761904762,
            48633.333333333336,
            43550,
            39333.96226415094,
            37962.5,
            39412.5,
            40850,
            35212.5,
            45082.25806451613,
            41058.13953488372,
            38400,
            35467.857142857145,
            45275,
            49718.46153846154,
            49125.92592592593,
            39223.529411764706,
            41300,
            43434.21052631579,
            39990,
            34312.5,
            36288.88888888889,
            36820.75471698113,
            39200,
            43280,
            43083.333333333336,
            48629.032258064515,
            32970,
            43833.333333333336,
            45557.8125,
            40605.79710144927,
            37140,
            42600,
            45994.9494949495,
            48060,
            36438.23529411765,
            37630.769230769234,
            37263.15789473684,
            42317.441860465115,
            38016.666666666664,
            43600,
            38766.666666666664,
            45132,
            41775.67567567567,
            37161.11111111111,
            46100
           ]
          }
         ],
         "name": "2012"
        },
        {
         "data": [
          {
           "coloraxis": "coloraxis",
           "geo": "geo",
           "hovertemplate": "year=2013<br>state=%{location}<br>income=%{z}<extra></extra>",
           "locationmode": "USA-states",
           "locations": [
            "AK",
            "AL",
            "AR",
            "AZ",
            "CA",
            "CO",
            "CT",
            "DE",
            "FL",
            "GA",
            "HI",
            "IA",
            "ID",
            "IL",
            "IN",
            "KS",
            "KY",
            "LA",
            "MA",
            "MD",
            "ME",
            "MI",
            "MN",
            "MO",
            "MS",
            "MT",
            "NC",
            "ND",
            "NE",
            "NH",
            "NJ",
            "NM",
            "NV",
            "NY",
            "OH",
            "OK",
            "OR",
            "PA",
            "RI",
            "SC",
            "SD",
            "TN",
            "TX",
            "UT",
            "VA",
            "VT",
            "WA",
            "WI",
            "WV",
            "WY"
           ],
           "name": "",
           "type": "choropleth",
           "z": [
            39800,
            36337.03703703704,
            36857.142857142855,
            44466.666666666664,
            48697.19626168224,
            41114.28571428572,
            50154.166666666664,
            43500,
            40107.27272727273,
            38450,
            39750,
            41550,
            36162.5,
            46084.61538461538,
            41446.51162790698,
            39396.2962962963,
            35678.57142857143,
            43487.5,
            50580.59701492537,
            50000,
            40347.05882352941,
            41980.95238095238,
            44134.21052631579,
            40764,
            34193.75,
            36444.444444444445,
            37174.07407407407,
            40255.555555555555,
            43795,
            44233.333333333336,
            49412.5,
            34155.555555555555,
            44800,
            46331.53846153846,
            41064.28571428572,
            37632,
            43576.92307692308,
            46535.35353535353,
            49900,
            36808.82352941176,
            38146.153846153844,
            37755.26315789474,
            42914.444444444445,
            40008.333333333336,
            43970,
            39733.333333333336,
            45676,
            42721.62162162162,
            36716.666666666664,
            46200
           ]
          }
         ],
         "name": "2013"
        },
        {
         "data": [
          {
           "coloraxis": "coloraxis",
           "geo": "geo",
           "hovertemplate": "year=2014<br>state=%{location}<br>income=%{z}<extra></extra>",
           "locationmode": "USA-states",
           "locations": [
            "AK",
            "AL",
            "AR",
            "AZ",
            "CA",
            "CO",
            "CT",
            "DE",
            "FL",
            "GA",
            "HI",
            "IA",
            "ID",
            "IL",
            "IN",
            "KS",
            "KY",
            "LA",
            "MA",
            "MD",
            "ME",
            "MI",
            "MN",
            "MO",
            "MS",
            "MT",
            "NC",
            "ND",
            "NE",
            "NH",
            "NJ",
            "NM",
            "NV",
            "NY",
            "OH",
            "OK",
            "OR",
            "PA",
            "RI",
            "SC",
            "SD",
            "TN",
            "TX",
            "UT",
            "VA",
            "VT",
            "WA",
            "WI",
            "WV",
            "WY"
           ],
           "name": "",
           "type": "choropleth",
           "z": [
            41433.333333333336,
            37229.62962962963,
            37133.333333333336,
            46184.61538461538,
            50841.28440366973,
            42933.333333333336,
            52450,
            44766.666666666664,
            42147.36842105263,
            39663.46153846154,
            41175,
            43428.125,
            37625,
            47970.769230769234,
            43274.41860465116,
            40788.88888888889,
            37221.42857142857,
            43695.833333333336,
            53207.46268656717,
            51596.2962962963,
            42988.23529411765,
            43885.71428571428,
            45423.68421052631,
            42398,
            34918.75,
            37744.444444444445,
            39033.333333333336,
            41911.11111111111,
            45470,
            47341.666666666664,
            50228.125,
            32470,
            45060,
            48307.57575757576,
            42954.28571428572,
            39148,
            46688.46153846154,
            48333.333333333336,
            52790,
            38270.58823529412,
            39546.153846153844,
            39410.52631578947,
            44770.65217391304,
            43100,
            45738,
            42377.77777777778,
            47604,
            44056.75675675676,
            39084.21052631579,
            47300
           ]
          }
         ],
         "name": "2014"
        },
        {
         "data": [
          {
           "coloraxis": "coloraxis",
           "geo": "geo",
           "hovertemplate": "year=2018<br>state=%{location}<br>income=%{z}<extra></extra>",
           "locationmode": "USA-states",
           "locations": [
            "AK",
            "AL",
            "AR",
            "AZ",
            "CA",
            "CO",
            "CT",
            "DE",
            "FL",
            "GA",
            "HI",
            "IA",
            "ID",
            "IL",
            "IN",
            "KS",
            "KY",
            "LA",
            "MA",
            "MD",
            "ME",
            "MI",
            "MN",
            "MO",
            "MS",
            "MT",
            "NC",
            "ND",
            "NE",
            "NH",
            "NJ",
            "NM",
            "NV",
            "NY",
            "OH",
            "OK",
            "OR",
            "PA",
            "RI",
            "SC",
            "SD",
            "TN",
            "TX",
            "UT",
            "VA",
            "VT",
            "WA",
            "WI",
            "WV",
            "WY"
           ],
           "name": "",
           "type": "choropleth",
           "z": [
            46295.333333333336,
            42905.2,
            41778.90909090909,
            50167.73333333333,
            60063.78151260504,
            50170.59090909091,
            62036.625,
            49202.5,
            47626.639344262294,
            44197.03703703704,
            47813.857142857145,
            49220.21875,
            43892.625,
            53258.28358208955,
            49540.85106382979,
            46222.92592592593,
            42253.8275862069,
            48101.846153846156,
            62452.35294117647,
            56147.71428571428,
            47167.23529411765,
            51766.604651162794,
            51469.13157894737,
            48024.339622641506,
            38884.9375,
            44940.444444444445,
            44881.14035087719,
            48283.444444444445,
            51145.7,
            52790.153846153844,
            56922.64705882353,
            38458.1,
            57285.6,
            55373.21323529412,
            48931.27536231884,
            43666.04,
            53525.61538461538,
            54795.87128712871,
            63044.5,
            43731.05714285714,
            45714.46153846154,
            44596.5,
            49838.50537634409,
            49259.230769230766,
            50897.34,
            51860.444444444445,
            55857.77777777778,
            49914.5641025641,
            43702.05263157895,
            50685
           ]
          }
         ],
         "name": "2018"
        }
       ],
       "layout": {
        "coloraxis": {
         "cmax": 63044.5,
         "cmin": 32470,
         "colorbar": {
          "title": {
           "text": "income"
          }
         },
         "colorscale": [
          [
           0,
           "rgb(247,252,245)"
          ],
          [
           0.125,
           "rgb(229,245,224)"
          ],
          [
           0.25,
           "rgb(199,233,192)"
          ],
          [
           0.375,
           "rgb(161,217,155)"
          ],
          [
           0.5,
           "rgb(116,196,118)"
          ],
          [
           0.625,
           "rgb(65,171,93)"
          ],
          [
           0.75,
           "rgb(35,139,69)"
          ],
          [
           0.875,
           "rgb(0,109,44)"
          ],
          [
           1,
           "rgb(0,68,27)"
          ]
         ]
        },
        "geo": {
         "center": {},
         "domain": {
          "x": [
           0,
           1
          ],
          "y": [
           0,
           1
          ]
         },
         "scope": "usa"
        },
        "legend": {
         "tracegroupgap": 0
        },
        "margin": {
         "t": 60
        },
        "sliders": [
         {
          "active": 0,
          "currentvalue": {
           "prefix": "year="
          },
          "len": 0.9,
          "pad": {
           "b": 10,
           "t": 60
          },
          "steps": [
           {
            "args": [
             [
              "2011"
             ],
             {
              "frame": {
               "duration": 0,
               "redraw": true
              },
              "fromcurrent": true,
              "mode": "immediate",
              "transition": {
               "duration": 0,
               "easing": "linear"
              }
             }
            ],
            "label": "2011",
            "method": "animate"
           },
           {
            "args": [
             [
              "2012"
             ],
             {
              "frame": {
               "duration": 0,
               "redraw": true
              },
              "fromcurrent": true,
              "mode": "immediate",
              "transition": {
               "duration": 0,
               "easing": "linear"
              }
             }
            ],
            "label": "2012",
            "method": "animate"
           },
           {
            "args": [
             [
              "2013"
             ],
             {
              "frame": {
               "duration": 0,
               "redraw": true
              },
              "fromcurrent": true,
              "mode": "immediate",
              "transition": {
               "duration": 0,
               "easing": "linear"
              }
             }
            ],
            "label": "2013",
            "method": "animate"
           },
           {
            "args": [
             [
              "2014"
             ],
             {
              "frame": {
               "duration": 0,
               "redraw": true
              },
              "fromcurrent": true,
              "mode": "immediate",
              "transition": {
               "duration": 0,
               "easing": "linear"
              }
             }
            ],
            "label": "2014",
            "method": "animate"
           },
           {
            "args": [
             [
              "2018"
             ],
             {
              "frame": {
               "duration": 0,
               "redraw": true
              },
              "fromcurrent": true,
              "mode": "immediate",
              "transition": {
               "duration": 0,
               "easing": "linear"
              }
             }
            ],
            "label": "2018",
            "method": "animate"
           }
          ],
          "x": 0.1,
          "xanchor": "left",
          "y": 0,
          "yanchor": "top"
         }
        ],
        "template": {
         "data": {
          "bar": [
           {
            "error_x": {
             "color": "#2a3f5f"
            },
            "error_y": {
             "color": "#2a3f5f"
            },
            "marker": {
             "line": {
              "color": "#E5ECF6",
              "width": 0.5
             },
             "pattern": {
              "fillmode": "overlay",
              "size": 10,
              "solidity": 0.2
             }
            },
            "type": "bar"
           }
          ],
          "barpolar": [
           {
            "marker": {
             "line": {
              "color": "#E5ECF6",
              "width": 0.5
             },
             "pattern": {
              "fillmode": "overlay",
              "size": 10,
              "solidity": 0.2
             }
            },
            "type": "barpolar"
           }
          ],
          "carpet": [
           {
            "aaxis": {
             "endlinecolor": "#2a3f5f",
             "gridcolor": "white",
             "linecolor": "white",
             "minorgridcolor": "white",
             "startlinecolor": "#2a3f5f"
            },
            "baxis": {
             "endlinecolor": "#2a3f5f",
             "gridcolor": "white",
             "linecolor": "white",
             "minorgridcolor": "white",
             "startlinecolor": "#2a3f5f"
            },
            "type": "carpet"
           }
          ],
          "choropleth": [
           {
            "colorbar": {
             "outlinewidth": 0,
             "ticks": ""
            },
            "type": "choropleth"
           }
          ],
          "contour": [
           {
            "colorbar": {
             "outlinewidth": 0,
             "ticks": ""
            },
            "colorscale": [
             [
              0,
              "#0d0887"
             ],
             [
              0.1111111111111111,
              "#46039f"
             ],
             [
              0.2222222222222222,
              "#7201a8"
             ],
             [
              0.3333333333333333,
              "#9c179e"
             ],
             [
              0.4444444444444444,
              "#bd3786"
             ],
             [
              0.5555555555555556,
              "#d8576b"
             ],
             [
              0.6666666666666666,
              "#ed7953"
             ],
             [
              0.7777777777777778,
              "#fb9f3a"
             ],
             [
              0.8888888888888888,
              "#fdca26"
             ],
             [
              1,
              "#f0f921"
             ]
            ],
            "type": "contour"
           }
          ],
          "contourcarpet": [
           {
            "colorbar": {
             "outlinewidth": 0,
             "ticks": ""
            },
            "type": "contourcarpet"
           }
          ],
          "heatmap": [
           {
            "colorbar": {
             "outlinewidth": 0,
             "ticks": ""
            },
            "colorscale": [
             [
              0,
              "#0d0887"
             ],
             [
              0.1111111111111111,
              "#46039f"
             ],
             [
              0.2222222222222222,
              "#7201a8"
             ],
             [
              0.3333333333333333,
              "#9c179e"
             ],
             [
              0.4444444444444444,
              "#bd3786"
             ],
             [
              0.5555555555555556,
              "#d8576b"
             ],
             [
              0.6666666666666666,
              "#ed7953"
             ],
             [
              0.7777777777777778,
              "#fb9f3a"
             ],
             [
              0.8888888888888888,
              "#fdca26"
             ],
             [
              1,
              "#f0f921"
             ]
            ],
            "type": "heatmap"
           }
          ],
          "heatmapgl": [
           {
            "colorbar": {
             "outlinewidth": 0,
             "ticks": ""
            },
            "colorscale": [
             [
              0,
              "#0d0887"
             ],
             [
              0.1111111111111111,
              "#46039f"
             ],
             [
              0.2222222222222222,
              "#7201a8"
             ],
             [
              0.3333333333333333,
              "#9c179e"
             ],
             [
              0.4444444444444444,
              "#bd3786"
             ],
             [
              0.5555555555555556,
              "#d8576b"
             ],
             [
              0.6666666666666666,
              "#ed7953"
             ],
             [
              0.7777777777777778,
              "#fb9f3a"
             ],
             [
              0.8888888888888888,
              "#fdca26"
             ],
             [
              1,
              "#f0f921"
             ]
            ],
            "type": "heatmapgl"
           }
          ],
          "histogram": [
           {
            "marker": {
             "pattern": {
              "fillmode": "overlay",
              "size": 10,
              "solidity": 0.2
             }
            },
            "type": "histogram"
           }
          ],
          "histogram2d": [
           {
            "colorbar": {
             "outlinewidth": 0,
             "ticks": ""
            },
            "colorscale": [
             [
              0,
              "#0d0887"
             ],
             [
              0.1111111111111111,
              "#46039f"
             ],
             [
              0.2222222222222222,
              "#7201a8"
             ],
             [
              0.3333333333333333,
              "#9c179e"
             ],
             [
              0.4444444444444444,
              "#bd3786"
             ],
             [
              0.5555555555555556,
              "#d8576b"
             ],
             [
              0.6666666666666666,
              "#ed7953"
             ],
             [
              0.7777777777777778,
              "#fb9f3a"
             ],
             [
              0.8888888888888888,
              "#fdca26"
             ],
             [
              1,
              "#f0f921"
             ]
            ],
            "type": "histogram2d"
           }
          ],
          "histogram2dcontour": [
           {
            "colorbar": {
             "outlinewidth": 0,
             "ticks": ""
            },
            "colorscale": [
             [
              0,
              "#0d0887"
             ],
             [
              0.1111111111111111,
              "#46039f"
             ],
             [
              0.2222222222222222,
              "#7201a8"
             ],
             [
              0.3333333333333333,
              "#9c179e"
             ],
             [
              0.4444444444444444,
              "#bd3786"
             ],
             [
              0.5555555555555556,
              "#d8576b"
             ],
             [
              0.6666666666666666,
              "#ed7953"
             ],
             [
              0.7777777777777778,
              "#fb9f3a"
             ],
             [
              0.8888888888888888,
              "#fdca26"
             ],
             [
              1,
              "#f0f921"
             ]
            ],
            "type": "histogram2dcontour"
           }
          ],
          "mesh3d": [
           {
            "colorbar": {
             "outlinewidth": 0,
             "ticks": ""
            },
            "type": "mesh3d"
           }
          ],
          "parcoords": [
           {
            "line": {
             "colorbar": {
              "outlinewidth": 0,
              "ticks": ""
             }
            },
            "type": "parcoords"
           }
          ],
          "pie": [
           {
            "automargin": true,
            "type": "pie"
           }
          ],
          "scatter": [
           {
            "fillpattern": {
             "fillmode": "overlay",
             "size": 10,
             "solidity": 0.2
            },
            "type": "scatter"
           }
          ],
          "scatter3d": [
           {
            "line": {
             "colorbar": {
              "outlinewidth": 0,
              "ticks": ""
             }
            },
            "marker": {
             "colorbar": {
              "outlinewidth": 0,
              "ticks": ""
             }
            },
            "type": "scatter3d"
           }
          ],
          "scattercarpet": [
           {
            "marker": {
             "colorbar": {
              "outlinewidth": 0,
              "ticks": ""
             }
            },
            "type": "scattercarpet"
           }
          ],
          "scattergeo": [
           {
            "marker": {
             "colorbar": {
              "outlinewidth": 0,
              "ticks": ""
             }
            },
            "type": "scattergeo"
           }
          ],
          "scattergl": [
           {
            "marker": {
             "colorbar": {
              "outlinewidth": 0,
              "ticks": ""
             }
            },
            "type": "scattergl"
           }
          ],
          "scattermapbox": [
           {
            "marker": {
             "colorbar": {
              "outlinewidth": 0,
              "ticks": ""
             }
            },
            "type": "scattermapbox"
           }
          ],
          "scatterpolar": [
           {
            "marker": {
             "colorbar": {
              "outlinewidth": 0,
              "ticks": ""
             }
            },
            "type": "scatterpolar"
           }
          ],
          "scatterpolargl": [
           {
            "marker": {
             "colorbar": {
              "outlinewidth": 0,
              "ticks": ""
             }
            },
            "type": "scatterpolargl"
           }
          ],
          "scatterternary": [
           {
            "marker": {
             "colorbar": {
              "outlinewidth": 0,
              "ticks": ""
             }
            },
            "type": "scatterternary"
           }
          ],
          "surface": [
           {
            "colorbar": {
             "outlinewidth": 0,
             "ticks": ""
            },
            "colorscale": [
             [
              0,
              "#0d0887"
             ],
             [
              0.1111111111111111,
              "#46039f"
             ],
             [
              0.2222222222222222,
              "#7201a8"
             ],
             [
              0.3333333333333333,
              "#9c179e"
             ],
             [
              0.4444444444444444,
              "#bd3786"
             ],
             [
              0.5555555555555556,
              "#d8576b"
             ],
             [
              0.6666666666666666,
              "#ed7953"
             ],
             [
              0.7777777777777778,
              "#fb9f3a"
             ],
             [
              0.8888888888888888,
              "#fdca26"
             ],
             [
              1,
              "#f0f921"
             ]
            ],
            "type": "surface"
           }
          ],
          "table": [
           {
            "cells": {
             "fill": {
              "color": "#EBF0F8"
             },
             "line": {
              "color": "white"
             }
            },
            "header": {
             "fill": {
              "color": "#C8D4E3"
             },
             "line": {
              "color": "white"
             }
            },
            "type": "table"
           }
          ]
         },
         "layout": {
          "annotationdefaults": {
           "arrowcolor": "#2a3f5f",
           "arrowhead": 0,
           "arrowwidth": 1
          },
          "autotypenumbers": "strict",
          "coloraxis": {
           "colorbar": {
            "outlinewidth": 0,
            "ticks": ""
           }
          },
          "colorscale": {
           "diverging": [
            [
             0,
             "#8e0152"
            ],
            [
             0.1,
             "#c51b7d"
            ],
            [
             0.2,
             "#de77ae"
            ],
            [
             0.3,
             "#f1b6da"
            ],
            [
             0.4,
             "#fde0ef"
            ],
            [
             0.5,
             "#f7f7f7"
            ],
            [
             0.6,
             "#e6f5d0"
            ],
            [
             0.7,
             "#b8e186"
            ],
            [
             0.8,
             "#7fbc41"
            ],
            [
             0.9,
             "#4d9221"
            ],
            [
             1,
             "#276419"
            ]
           ],
           "sequential": [
            [
             0,
             "#0d0887"
            ],
            [
             0.1111111111111111,
             "#46039f"
            ],
            [
             0.2222222222222222,
             "#7201a8"
            ],
            [
             0.3333333333333333,
             "#9c179e"
            ],
            [
             0.4444444444444444,
             "#bd3786"
            ],
            [
             0.5555555555555556,
             "#d8576b"
            ],
            [
             0.6666666666666666,
             "#ed7953"
            ],
            [
             0.7777777777777778,
             "#fb9f3a"
            ],
            [
             0.8888888888888888,
             "#fdca26"
            ],
            [
             1,
             "#f0f921"
            ]
           ],
           "sequentialminus": [
            [
             0,
             "#0d0887"
            ],
            [
             0.1111111111111111,
             "#46039f"
            ],
            [
             0.2222222222222222,
             "#7201a8"
            ],
            [
             0.3333333333333333,
             "#9c179e"
            ],
            [
             0.4444444444444444,
             "#bd3786"
            ],
            [
             0.5555555555555556,
             "#d8576b"
            ],
            [
             0.6666666666666666,
             "#ed7953"
            ],
            [
             0.7777777777777778,
             "#fb9f3a"
            ],
            [
             0.8888888888888888,
             "#fdca26"
            ],
            [
             1,
             "#f0f921"
            ]
           ]
          },
          "colorway": [
           "#636efa",
           "#EF553B",
           "#00cc96",
           "#ab63fa",
           "#FFA15A",
           "#19d3f3",
           "#FF6692",
           "#B6E880",
           "#FF97FF",
           "#FECB52"
          ],
          "font": {
           "color": "#2a3f5f"
          },
          "geo": {
           "bgcolor": "white",
           "lakecolor": "white",
           "landcolor": "#E5ECF6",
           "showlakes": true,
           "showland": true,
           "subunitcolor": "white"
          },
          "hoverlabel": {
           "align": "left"
          },
          "hovermode": "closest",
          "mapbox": {
           "style": "light"
          },
          "paper_bgcolor": "white",
          "plot_bgcolor": "#E5ECF6",
          "polar": {
           "angularaxis": {
            "gridcolor": "white",
            "linecolor": "white",
            "ticks": ""
           },
           "bgcolor": "#E5ECF6",
           "radialaxis": {
            "gridcolor": "white",
            "linecolor": "white",
            "ticks": ""
           }
          },
          "scene": {
           "xaxis": {
            "backgroundcolor": "#E5ECF6",
            "gridcolor": "white",
            "gridwidth": 2,
            "linecolor": "white",
            "showbackground": true,
            "ticks": "",
            "zerolinecolor": "white"
           },
           "yaxis": {
            "backgroundcolor": "#E5ECF6",
            "gridcolor": "white",
            "gridwidth": 2,
            "linecolor": "white",
            "showbackground": true,
            "ticks": "",
            "zerolinecolor": "white"
           },
           "zaxis": {
            "backgroundcolor": "#E5ECF6",
            "gridcolor": "white",
            "gridwidth": 2,
            "linecolor": "white",
            "showbackground": true,
            "ticks": "",
            "zerolinecolor": "white"
           }
          },
          "shapedefaults": {
           "line": {
            "color": "#2a3f5f"
           }
          },
          "ternary": {
           "aaxis": {
            "gridcolor": "white",
            "linecolor": "white",
            "ticks": ""
           },
           "baxis": {
            "gridcolor": "white",
            "linecolor": "white",
            "ticks": ""
           },
           "bgcolor": "#E5ECF6",
           "caxis": {
            "gridcolor": "white",
            "linecolor": "white",
            "ticks": ""
           }
          },
          "title": {
           "x": 0.05
          },
          "xaxis": {
           "automargin": true,
           "gridcolor": "white",
           "linecolor": "white",
           "ticks": "",
           "title": {
            "standoff": 15
           },
           "zerolinecolor": "white",
           "zerolinewidth": 2
          },
          "yaxis": {
           "automargin": true,
           "gridcolor": "white",
           "linecolor": "white",
           "ticks": "",
           "title": {
            "standoff": 15
           },
           "zerolinecolor": "white",
           "zerolinewidth": 2
          }
         }
        },
        "title": {
         "font": {
          "color": "black",
          "family": "Times New Roman",
          "size": 20
         },
         "text": "Average Student Income 10 Years After Graduation by State (2011 - 2018)",
         "x": 0.45
        },
        "updatemenus": [
         {
          "buttons": [
           {
            "args": [
             null,
             {
              "frame": {
               "duration": 500,
               "redraw": true
              },
              "fromcurrent": true,
              "mode": "immediate",
              "transition": {
               "duration": 500,
               "easing": "linear"
              }
             }
            ],
            "label": "&#9654;",
            "method": "animate"
           },
           {
            "args": [
             [
              null
             ],
             {
              "frame": {
               "duration": 0,
               "redraw": true
              },
              "fromcurrent": true,
              "mode": "immediate",
              "transition": {
               "duration": 0,
               "easing": "linear"
              }
             }
            ],
            "label": "&#9724;",
            "method": "animate"
           }
          ],
          "direction": "left",
          "pad": {
           "r": 10,
           "t": 70
          },
          "showactive": false,
          "type": "buttons",
          "x": 0.1,
          "xanchor": "right",
          "y": 0,
          "yanchor": "top"
         }
        ]
       }
      },
      "text/html": [
       "<div>                            <div id=\"613a55d9-457a-42e2-a83e-225aa577c73f\" class=\"plotly-graph-div\" style=\"height:525px; width:100%;\"></div>            <script type=\"text/javascript\">                require([\"plotly\"], function(Plotly) {                    window.PLOTLYENV=window.PLOTLYENV || {};                                    if (document.getElementById(\"613a55d9-457a-42e2-a83e-225aa577c73f\")) {                    Plotly.newPlot(                        \"613a55d9-457a-42e2-a83e-225aa577c73f\",                        [{\"coloraxis\":\"coloraxis\",\"geo\":\"geo\",\"hovertemplate\":\"year=2011<br>state=%{location}<br>income=%{z}<extra></extra>\",\"locationmode\":\"USA-states\",\"locations\":[\"AK\",\"AL\",\"AR\",\"AZ\",\"CA\",\"CO\",\"CT\",\"DE\",\"FL\",\"GA\",\"HI\",\"IA\",\"ID\",\"IL\",\"IN\",\"KS\",\"KY\",\"LA\",\"MA\",\"MD\",\"ME\",\"MI\",\"MN\",\"MO\",\"MS\",\"MT\",\"NC\",\"ND\",\"NE\",\"NH\",\"NJ\",\"NM\",\"NV\",\"NY\",\"OH\",\"OK\",\"OR\",\"PA\",\"RI\",\"SC\",\"SD\",\"TN\",\"TX\",\"UT\",\"VA\",\"VT\",\"WA\",\"WI\",\"WV\",\"WY\"],\"name\":\"\",\"z\":[42533.333333333336,36789.28571428572,37242.857142857145,44290.0,48940.816326530614,41814.28571428572,48262.5,44750.0,39296.153846153844,37872.34042553192,39725.0,41403.22580645161,36814.28571428572,46027.41935483871,40657.142857142855,38274.07407407407,35539.28571428572,38904.34782608696,49716.92307692308,49585.18518518518,38958.82352941176,41461.90476190476,42905.26315789474,39966.0,34893.75,36255.555555555555,37630.188679245286,38766.666666666664,42855.0,43625.0,49016.12903225807,33550.0,43833.333333333336,46071.875,40646.3768115942,36848.0,42632.0,45937.37373737374,48200.0,36497.05882352941,38153.846153846156,37455.26315789474,42402.35294117647,38275.0,44393.87755102041,38722.22222222222,44195.65217391304,42051.35135135135,37788.88888888889,46200.0],\"type\":\"choropleth\"}],                        {\"template\":{\"data\":{\"histogram2dcontour\":[{\"type\":\"histogram2dcontour\",\"colorbar\":{\"outlinewidth\":0,\"ticks\":\"\"},\"colorscale\":[[0.0,\"#0d0887\"],[0.1111111111111111,\"#46039f\"],[0.2222222222222222,\"#7201a8\"],[0.3333333333333333,\"#9c179e\"],[0.4444444444444444,\"#bd3786\"],[0.5555555555555556,\"#d8576b\"],[0.6666666666666666,\"#ed7953\"],[0.7777777777777778,\"#fb9f3a\"],[0.8888888888888888,\"#fdca26\"],[1.0,\"#f0f921\"]]}],\"choropleth\":[{\"type\":\"choropleth\",\"colorbar\":{\"outlinewidth\":0,\"ticks\":\"\"}}],\"histogram2d\":[{\"type\":\"histogram2d\",\"colorbar\":{\"outlinewidth\":0,\"ticks\":\"\"},\"colorscale\":[[0.0,\"#0d0887\"],[0.1111111111111111,\"#46039f\"],[0.2222222222222222,\"#7201a8\"],[0.3333333333333333,\"#9c179e\"],[0.4444444444444444,\"#bd3786\"],[0.5555555555555556,\"#d8576b\"],[0.6666666666666666,\"#ed7953\"],[0.7777777777777778,\"#fb9f3a\"],[0.8888888888888888,\"#fdca26\"],[1.0,\"#f0f921\"]]}],\"heatmap\":[{\"type\":\"heatmap\",\"colorbar\":{\"outlinewidth\":0,\"ticks\":\"\"},\"colorscale\":[[0.0,\"#0d0887\"],[0.1111111111111111,\"#46039f\"],[0.2222222222222222,\"#7201a8\"],[0.3333333333333333,\"#9c179e\"],[0.4444444444444444,\"#bd3786\"],[0.5555555555555556,\"#d8576b\"],[0.6666666666666666,\"#ed7953\"],[0.7777777777777778,\"#fb9f3a\"],[0.8888888888888888,\"#fdca26\"],[1.0,\"#f0f921\"]]}],\"heatmapgl\":[{\"type\":\"heatmapgl\",\"colorbar\":{\"outlinewidth\":0,\"ticks\":\"\"},\"colorscale\":[[0.0,\"#0d0887\"],[0.1111111111111111,\"#46039f\"],[0.2222222222222222,\"#7201a8\"],[0.3333333333333333,\"#9c179e\"],[0.4444444444444444,\"#bd3786\"],[0.5555555555555556,\"#d8576b\"],[0.6666666666666666,\"#ed7953\"],[0.7777777777777778,\"#fb9f3a\"],[0.8888888888888888,\"#fdca26\"],[1.0,\"#f0f921\"]]}],\"contourcarpet\":[{\"type\":\"contourcarpet\",\"colorbar\":{\"outlinewidth\":0,\"ticks\":\"\"}}],\"contour\":[{\"type\":\"contour\",\"colorbar\":{\"outlinewidth\":0,\"ticks\":\"\"},\"colorscale\":[[0.0,\"#0d0887\"],[0.1111111111111111,\"#46039f\"],[0.2222222222222222,\"#7201a8\"],[0.3333333333333333,\"#9c179e\"],[0.4444444444444444,\"#bd3786\"],[0.5555555555555556,\"#d8576b\"],[0.6666666666666666,\"#ed7953\"],[0.7777777777777778,\"#fb9f3a\"],[0.8888888888888888,\"#fdca26\"],[1.0,\"#f0f921\"]]}],\"surface\":[{\"type\":\"surface\",\"colorbar\":{\"outlinewidth\":0,\"ticks\":\"\"},\"colorscale\":[[0.0,\"#0d0887\"],[0.1111111111111111,\"#46039f\"],[0.2222222222222222,\"#7201a8\"],[0.3333333333333333,\"#9c179e\"],[0.4444444444444444,\"#bd3786\"],[0.5555555555555556,\"#d8576b\"],[0.6666666666666666,\"#ed7953\"],[0.7777777777777778,\"#fb9f3a\"],[0.8888888888888888,\"#fdca26\"],[1.0,\"#f0f921\"]]}],\"mesh3d\":[{\"type\":\"mesh3d\",\"colorbar\":{\"outlinewidth\":0,\"ticks\":\"\"}}],\"scatter\":[{\"fillpattern\":{\"fillmode\":\"overlay\",\"size\":10,\"solidity\":0.2},\"type\":\"scatter\"}],\"parcoords\":[{\"type\":\"parcoords\",\"line\":{\"colorbar\":{\"outlinewidth\":0,\"ticks\":\"\"}}}],\"scatterpolargl\":[{\"type\":\"scatterpolargl\",\"marker\":{\"colorbar\":{\"outlinewidth\":0,\"ticks\":\"\"}}}],\"bar\":[{\"error_x\":{\"color\":\"#2a3f5f\"},\"error_y\":{\"color\":\"#2a3f5f\"},\"marker\":{\"line\":{\"color\":\"#E5ECF6\",\"width\":0.5},\"pattern\":{\"fillmode\":\"overlay\",\"size\":10,\"solidity\":0.2}},\"type\":\"bar\"}],\"scattergeo\":[{\"type\":\"scattergeo\",\"marker\":{\"colorbar\":{\"outlinewidth\":0,\"ticks\":\"\"}}}],\"scatterpolar\":[{\"type\":\"scatterpolar\",\"marker\":{\"colorbar\":{\"outlinewidth\":0,\"ticks\":\"\"}}}],\"histogram\":[{\"marker\":{\"pattern\":{\"fillmode\":\"overlay\",\"size\":10,\"solidity\":0.2}},\"type\":\"histogram\"}],\"scattergl\":[{\"type\":\"scattergl\",\"marker\":{\"colorbar\":{\"outlinewidth\":0,\"ticks\":\"\"}}}],\"scatter3d\":[{\"type\":\"scatter3d\",\"line\":{\"colorbar\":{\"outlinewidth\":0,\"ticks\":\"\"}},\"marker\":{\"colorbar\":{\"outlinewidth\":0,\"ticks\":\"\"}}}],\"scattermapbox\":[{\"type\":\"scattermapbox\",\"marker\":{\"colorbar\":{\"outlinewidth\":0,\"ticks\":\"\"}}}],\"scatterternary\":[{\"type\":\"scatterternary\",\"marker\":{\"colorbar\":{\"outlinewidth\":0,\"ticks\":\"\"}}}],\"scattercarpet\":[{\"type\":\"scattercarpet\",\"marker\":{\"colorbar\":{\"outlinewidth\":0,\"ticks\":\"\"}}}],\"carpet\":[{\"aaxis\":{\"endlinecolor\":\"#2a3f5f\",\"gridcolor\":\"white\",\"linecolor\":\"white\",\"minorgridcolor\":\"white\",\"startlinecolor\":\"#2a3f5f\"},\"baxis\":{\"endlinecolor\":\"#2a3f5f\",\"gridcolor\":\"white\",\"linecolor\":\"white\",\"minorgridcolor\":\"white\",\"startlinecolor\":\"#2a3f5f\"},\"type\":\"carpet\"}],\"table\":[{\"cells\":{\"fill\":{\"color\":\"#EBF0F8\"},\"line\":{\"color\":\"white\"}},\"header\":{\"fill\":{\"color\":\"#C8D4E3\"},\"line\":{\"color\":\"white\"}},\"type\":\"table\"}],\"barpolar\":[{\"marker\":{\"line\":{\"color\":\"#E5ECF6\",\"width\":0.5},\"pattern\":{\"fillmode\":\"overlay\",\"size\":10,\"solidity\":0.2}},\"type\":\"barpolar\"}],\"pie\":[{\"automargin\":true,\"type\":\"pie\"}]},\"layout\":{\"autotypenumbers\":\"strict\",\"colorway\":[\"#636efa\",\"#EF553B\",\"#00cc96\",\"#ab63fa\",\"#FFA15A\",\"#19d3f3\",\"#FF6692\",\"#B6E880\",\"#FF97FF\",\"#FECB52\"],\"font\":{\"color\":\"#2a3f5f\"},\"hovermode\":\"closest\",\"hoverlabel\":{\"align\":\"left\"},\"paper_bgcolor\":\"white\",\"plot_bgcolor\":\"#E5ECF6\",\"polar\":{\"bgcolor\":\"#E5ECF6\",\"angularaxis\":{\"gridcolor\":\"white\",\"linecolor\":\"white\",\"ticks\":\"\"},\"radialaxis\":{\"gridcolor\":\"white\",\"linecolor\":\"white\",\"ticks\":\"\"}},\"ternary\":{\"bgcolor\":\"#E5ECF6\",\"aaxis\":{\"gridcolor\":\"white\",\"linecolor\":\"white\",\"ticks\":\"\"},\"baxis\":{\"gridcolor\":\"white\",\"linecolor\":\"white\",\"ticks\":\"\"},\"caxis\":{\"gridcolor\":\"white\",\"linecolor\":\"white\",\"ticks\":\"\"}},\"coloraxis\":{\"colorbar\":{\"outlinewidth\":0,\"ticks\":\"\"}},\"colorscale\":{\"sequential\":[[0.0,\"#0d0887\"],[0.1111111111111111,\"#46039f\"],[0.2222222222222222,\"#7201a8\"],[0.3333333333333333,\"#9c179e\"],[0.4444444444444444,\"#bd3786\"],[0.5555555555555556,\"#d8576b\"],[0.6666666666666666,\"#ed7953\"],[0.7777777777777778,\"#fb9f3a\"],[0.8888888888888888,\"#fdca26\"],[1.0,\"#f0f921\"]],\"sequentialminus\":[[0.0,\"#0d0887\"],[0.1111111111111111,\"#46039f\"],[0.2222222222222222,\"#7201a8\"],[0.3333333333333333,\"#9c179e\"],[0.4444444444444444,\"#bd3786\"],[0.5555555555555556,\"#d8576b\"],[0.6666666666666666,\"#ed7953\"],[0.7777777777777778,\"#fb9f3a\"],[0.8888888888888888,\"#fdca26\"],[1.0,\"#f0f921\"]],\"diverging\":[[0,\"#8e0152\"],[0.1,\"#c51b7d\"],[0.2,\"#de77ae\"],[0.3,\"#f1b6da\"],[0.4,\"#fde0ef\"],[0.5,\"#f7f7f7\"],[0.6,\"#e6f5d0\"],[0.7,\"#b8e186\"],[0.8,\"#7fbc41\"],[0.9,\"#4d9221\"],[1,\"#276419\"]]},\"xaxis\":{\"gridcolor\":\"white\",\"linecolor\":\"white\",\"ticks\":\"\",\"title\":{\"standoff\":15},\"zerolinecolor\":\"white\",\"automargin\":true,\"zerolinewidth\":2},\"yaxis\":{\"gridcolor\":\"white\",\"linecolor\":\"white\",\"ticks\":\"\",\"title\":{\"standoff\":15},\"zerolinecolor\":\"white\",\"automargin\":true,\"zerolinewidth\":2},\"scene\":{\"xaxis\":{\"backgroundcolor\":\"#E5ECF6\",\"gridcolor\":\"white\",\"linecolor\":\"white\",\"showbackground\":true,\"ticks\":\"\",\"zerolinecolor\":\"white\",\"gridwidth\":2},\"yaxis\":{\"backgroundcolor\":\"#E5ECF6\",\"gridcolor\":\"white\",\"linecolor\":\"white\",\"showbackground\":true,\"ticks\":\"\",\"zerolinecolor\":\"white\",\"gridwidth\":2},\"zaxis\":{\"backgroundcolor\":\"#E5ECF6\",\"gridcolor\":\"white\",\"linecolor\":\"white\",\"showbackground\":true,\"ticks\":\"\",\"zerolinecolor\":\"white\",\"gridwidth\":2}},\"shapedefaults\":{\"line\":{\"color\":\"#2a3f5f\"}},\"annotationdefaults\":{\"arrowcolor\":\"#2a3f5f\",\"arrowhead\":0,\"arrowwidth\":1},\"geo\":{\"bgcolor\":\"white\",\"landcolor\":\"#E5ECF6\",\"subunitcolor\":\"white\",\"showland\":true,\"showlakes\":true,\"lakecolor\":\"white\"},\"title\":{\"x\":0.05},\"mapbox\":{\"style\":\"light\"}}},\"geo\":{\"domain\":{\"x\":[0.0,1.0],\"y\":[0.0,1.0]},\"center\":{},\"scope\":\"usa\"},\"coloraxis\":{\"colorbar\":{\"title\":{\"text\":\"income\"}},\"colorscale\":[[0.0,\"rgb(247,252,245)\"],[0.125,\"rgb(229,245,224)\"],[0.25,\"rgb(199,233,192)\"],[0.375,\"rgb(161,217,155)\"],[0.5,\"rgb(116,196,118)\"],[0.625,\"rgb(65,171,93)\"],[0.75,\"rgb(35,139,69)\"],[0.875,\"rgb(0,109,44)\"],[1.0,\"rgb(0,68,27)\"]],\"cmin\":32470.0,\"cmax\":63044.5},\"legend\":{\"tracegroupgap\":0},\"margin\":{\"t\":60},\"updatemenus\":[{\"buttons\":[{\"args\":[null,{\"frame\":{\"duration\":500,\"redraw\":true},\"mode\":\"immediate\",\"fromcurrent\":true,\"transition\":{\"duration\":500,\"easing\":\"linear\"}}],\"label\":\"&#9654;\",\"method\":\"animate\"},{\"args\":[[null],{\"frame\":{\"duration\":0,\"redraw\":true},\"mode\":\"immediate\",\"fromcurrent\":true,\"transition\":{\"duration\":0,\"easing\":\"linear\"}}],\"label\":\"&#9724;\",\"method\":\"animate\"}],\"direction\":\"left\",\"pad\":{\"r\":10,\"t\":70},\"showactive\":false,\"type\":\"buttons\",\"x\":0.1,\"xanchor\":\"right\",\"y\":0,\"yanchor\":\"top\"}],\"sliders\":[{\"active\":0,\"currentvalue\":{\"prefix\":\"year=\"},\"len\":0.9,\"pad\":{\"b\":10,\"t\":60},\"steps\":[{\"args\":[[\"2011\"],{\"frame\":{\"duration\":0,\"redraw\":true},\"mode\":\"immediate\",\"fromcurrent\":true,\"transition\":{\"duration\":0,\"easing\":\"linear\"}}],\"label\":\"2011\",\"method\":\"animate\"},{\"args\":[[\"2012\"],{\"frame\":{\"duration\":0,\"redraw\":true},\"mode\":\"immediate\",\"fromcurrent\":true,\"transition\":{\"duration\":0,\"easing\":\"linear\"}}],\"label\":\"2012\",\"method\":\"animate\"},{\"args\":[[\"2013\"],{\"frame\":{\"duration\":0,\"redraw\":true},\"mode\":\"immediate\",\"fromcurrent\":true,\"transition\":{\"duration\":0,\"easing\":\"linear\"}}],\"label\":\"2013\",\"method\":\"animate\"},{\"args\":[[\"2014\"],{\"frame\":{\"duration\":0,\"redraw\":true},\"mode\":\"immediate\",\"fromcurrent\":true,\"transition\":{\"duration\":0,\"easing\":\"linear\"}}],\"label\":\"2014\",\"method\":\"animate\"},{\"args\":[[\"2018\"],{\"frame\":{\"duration\":0,\"redraw\":true},\"mode\":\"immediate\",\"fromcurrent\":true,\"transition\":{\"duration\":0,\"easing\":\"linear\"}}],\"label\":\"2018\",\"method\":\"animate\"}],\"x\":0.1,\"xanchor\":\"left\",\"y\":0,\"yanchor\":\"top\"}],\"title\":{\"font\":{\"family\":\"Times New Roman\",\"size\":20,\"color\":\"black\"},\"text\":\"Average Student Income 10 Years After Graduation by State (2011 - 2018)\",\"x\":0.45}},                        {\"responsive\": true}                    ).then(function(){\n",
       "                            Plotly.addFrames('613a55d9-457a-42e2-a83e-225aa577c73f', [{\"data\":[{\"coloraxis\":\"coloraxis\",\"geo\":\"geo\",\"hovertemplate\":\"year=2011<br>state=%{location}<br>income=%{z}<extra></extra>\",\"locationmode\":\"USA-states\",\"locations\":[\"AK\",\"AL\",\"AR\",\"AZ\",\"CA\",\"CO\",\"CT\",\"DE\",\"FL\",\"GA\",\"HI\",\"IA\",\"ID\",\"IL\",\"IN\",\"KS\",\"KY\",\"LA\",\"MA\",\"MD\",\"ME\",\"MI\",\"MN\",\"MO\",\"MS\",\"MT\",\"NC\",\"ND\",\"NE\",\"NH\",\"NJ\",\"NM\",\"NV\",\"NY\",\"OH\",\"OK\",\"OR\",\"PA\",\"RI\",\"SC\",\"SD\",\"TN\",\"TX\",\"UT\",\"VA\",\"VT\",\"WA\",\"WI\",\"WV\",\"WY\"],\"name\":\"\",\"z\":[42533.333333333336,36789.28571428572,37242.857142857145,44290.0,48940.816326530614,41814.28571428572,48262.5,44750.0,39296.153846153844,37872.34042553192,39725.0,41403.22580645161,36814.28571428572,46027.41935483871,40657.142857142855,38274.07407407407,35539.28571428572,38904.34782608696,49716.92307692308,49585.18518518518,38958.82352941176,41461.90476190476,42905.26315789474,39966.0,34893.75,36255.555555555555,37630.188679245286,38766.666666666664,42855.0,43625.0,49016.12903225807,33550.0,43833.333333333336,46071.875,40646.3768115942,36848.0,42632.0,45937.37373737374,48200.0,36497.05882352941,38153.846153846156,37455.26315789474,42402.35294117647,38275.0,44393.87755102041,38722.22222222222,44195.65217391304,42051.35135135135,37788.88888888889,46200.0],\"type\":\"choropleth\"}],\"name\":\"2011\"},{\"data\":[{\"coloraxis\":\"coloraxis\",\"geo\":\"geo\",\"hovertemplate\":\"year=2012<br>state=%{location}<br>income=%{z}<extra></extra>\",\"locationmode\":\"USA-states\",\"locations\":[\"AK\",\"AL\",\"AR\",\"AZ\",\"CA\",\"CO\",\"CT\",\"DE\",\"FL\",\"GA\",\"HI\",\"IA\",\"ID\",\"IL\",\"IN\",\"KS\",\"KY\",\"LA\",\"MA\",\"MD\",\"ME\",\"MI\",\"MN\",\"MO\",\"MS\",\"MT\",\"NC\",\"ND\",\"NE\",\"NH\",\"NJ\",\"NM\",\"NV\",\"NY\",\"OH\",\"OK\",\"OR\",\"PA\",\"RI\",\"SC\",\"SD\",\"TN\",\"TX\",\"UT\",\"VA\",\"VT\",\"WA\",\"WI\",\"WV\",\"WY\"],\"name\":\"\",\"z\":[41900.0,36400.0,36804.76190476191,44150.0,48139.21568627451,40719.04761904762,48633.333333333336,43550.0,39333.96226415094,37962.5,39412.5,40850.0,35212.5,45082.25806451613,41058.13953488372,38400.0,35467.857142857145,45275.0,49718.46153846154,49125.92592592593,39223.529411764706,41300.0,43434.21052631579,39990.0,34312.5,36288.88888888889,36820.75471698113,39200.0,43280.0,43083.333333333336,48629.032258064515,32970.0,43833.333333333336,45557.8125,40605.79710144927,37140.0,42600.0,45994.9494949495,48060.0,36438.23529411765,37630.769230769234,37263.15789473684,42317.441860465115,38016.666666666664,43600.0,38766.666666666664,45132.0,41775.67567567567,37161.11111111111,46100.0],\"type\":\"choropleth\"}],\"name\":\"2012\"},{\"data\":[{\"coloraxis\":\"coloraxis\",\"geo\":\"geo\",\"hovertemplate\":\"year=2013<br>state=%{location}<br>income=%{z}<extra></extra>\",\"locationmode\":\"USA-states\",\"locations\":[\"AK\",\"AL\",\"AR\",\"AZ\",\"CA\",\"CO\",\"CT\",\"DE\",\"FL\",\"GA\",\"HI\",\"IA\",\"ID\",\"IL\",\"IN\",\"KS\",\"KY\",\"LA\",\"MA\",\"MD\",\"ME\",\"MI\",\"MN\",\"MO\",\"MS\",\"MT\",\"NC\",\"ND\",\"NE\",\"NH\",\"NJ\",\"NM\",\"NV\",\"NY\",\"OH\",\"OK\",\"OR\",\"PA\",\"RI\",\"SC\",\"SD\",\"TN\",\"TX\",\"UT\",\"VA\",\"VT\",\"WA\",\"WI\",\"WV\",\"WY\"],\"name\":\"\",\"z\":[39800.0,36337.03703703704,36857.142857142855,44466.666666666664,48697.19626168224,41114.28571428572,50154.166666666664,43500.0,40107.27272727273,38450.0,39750.0,41550.0,36162.5,46084.61538461538,41446.51162790698,39396.2962962963,35678.57142857143,43487.5,50580.59701492537,50000.0,40347.05882352941,41980.95238095238,44134.21052631579,40764.0,34193.75,36444.444444444445,37174.07407407407,40255.555555555555,43795.0,44233.333333333336,49412.5,34155.555555555555,44800.0,46331.53846153846,41064.28571428572,37632.0,43576.92307692308,46535.35353535353,49900.0,36808.82352941176,38146.153846153844,37755.26315789474,42914.444444444445,40008.333333333336,43970.0,39733.333333333336,45676.0,42721.62162162162,36716.666666666664,46200.0],\"type\":\"choropleth\"}],\"name\":\"2013\"},{\"data\":[{\"coloraxis\":\"coloraxis\",\"geo\":\"geo\",\"hovertemplate\":\"year=2014<br>state=%{location}<br>income=%{z}<extra></extra>\",\"locationmode\":\"USA-states\",\"locations\":[\"AK\",\"AL\",\"AR\",\"AZ\",\"CA\",\"CO\",\"CT\",\"DE\",\"FL\",\"GA\",\"HI\",\"IA\",\"ID\",\"IL\",\"IN\",\"KS\",\"KY\",\"LA\",\"MA\",\"MD\",\"ME\",\"MI\",\"MN\",\"MO\",\"MS\",\"MT\",\"NC\",\"ND\",\"NE\",\"NH\",\"NJ\",\"NM\",\"NV\",\"NY\",\"OH\",\"OK\",\"OR\",\"PA\",\"RI\",\"SC\",\"SD\",\"TN\",\"TX\",\"UT\",\"VA\",\"VT\",\"WA\",\"WI\",\"WV\",\"WY\"],\"name\":\"\",\"z\":[41433.333333333336,37229.62962962963,37133.333333333336,46184.61538461538,50841.28440366973,42933.333333333336,52450.0,44766.666666666664,42147.36842105263,39663.46153846154,41175.0,43428.125,37625.0,47970.769230769234,43274.41860465116,40788.88888888889,37221.42857142857,43695.833333333336,53207.46268656717,51596.2962962963,42988.23529411765,43885.71428571428,45423.68421052631,42398.0,34918.75,37744.444444444445,39033.333333333336,41911.11111111111,45470.0,47341.666666666664,50228.125,32470.0,45060.0,48307.57575757576,42954.28571428572,39148.0,46688.46153846154,48333.333333333336,52790.0,38270.58823529412,39546.153846153844,39410.52631578947,44770.65217391304,43100.0,45738.0,42377.77777777778,47604.0,44056.75675675676,39084.21052631579,47300.0],\"type\":\"choropleth\"}],\"name\":\"2014\"},{\"data\":[{\"coloraxis\":\"coloraxis\",\"geo\":\"geo\",\"hovertemplate\":\"year=2018<br>state=%{location}<br>income=%{z}<extra></extra>\",\"locationmode\":\"USA-states\",\"locations\":[\"AK\",\"AL\",\"AR\",\"AZ\",\"CA\",\"CO\",\"CT\",\"DE\",\"FL\",\"GA\",\"HI\",\"IA\",\"ID\",\"IL\",\"IN\",\"KS\",\"KY\",\"LA\",\"MA\",\"MD\",\"ME\",\"MI\",\"MN\",\"MO\",\"MS\",\"MT\",\"NC\",\"ND\",\"NE\",\"NH\",\"NJ\",\"NM\",\"NV\",\"NY\",\"OH\",\"OK\",\"OR\",\"PA\",\"RI\",\"SC\",\"SD\",\"TN\",\"TX\",\"UT\",\"VA\",\"VT\",\"WA\",\"WI\",\"WV\",\"WY\"],\"name\":\"\",\"z\":[46295.333333333336,42905.2,41778.90909090909,50167.73333333333,60063.78151260504,50170.59090909091,62036.625,49202.5,47626.639344262294,44197.03703703704,47813.857142857145,49220.21875,43892.625,53258.28358208955,49540.85106382979,46222.92592592593,42253.8275862069,48101.846153846156,62452.35294117647,56147.71428571428,47167.23529411765,51766.604651162794,51469.13157894737,48024.339622641506,38884.9375,44940.444444444445,44881.14035087719,48283.444444444445,51145.7,52790.153846153844,56922.64705882353,38458.1,57285.6,55373.21323529412,48931.27536231884,43666.04,53525.61538461538,54795.87128712871,63044.5,43731.05714285714,45714.46153846154,44596.5,49838.50537634409,49259.230769230766,50897.34,51860.444444444445,55857.77777777778,49914.5641025641,43702.05263157895,50685.0],\"type\":\"choropleth\"}],\"name\":\"2018\"}]);\n",
       "                        }).then(function(){\n",
       "                            \n",
       "var gd = document.getElementById('613a55d9-457a-42e2-a83e-225aa577c73f');\n",
       "var x = new MutationObserver(function (mutations, observer) {{\n",
       "        var display = window.getComputedStyle(gd).display;\n",
       "        if (!display || display === 'none') {{\n",
       "            console.log([gd, 'removed!']);\n",
       "            Plotly.purge(gd);\n",
       "            observer.disconnect();\n",
       "        }}\n",
       "}});\n",
       "\n",
       "// Listen for the removal of the full notebook cells\n",
       "var notebookContainer = gd.closest('#notebook-container');\n",
       "if (notebookContainer) {{\n",
       "    x.observe(notebookContainer, {childList: true});\n",
       "}}\n",
       "\n",
       "// Listen for the clearing of the current output cell\n",
       "var outputEl = gd.closest('.output');\n",
       "if (outputEl) {{\n",
       "    x.observe(outputEl, {childList: true});\n",
       "}}\n",
       "\n",
       "                        })                };                });            </script>        </div>"
      ]
     },
     "metadata": {},
     "output_type": "display_data"
    }
   ],
   "source": [
    "# Compute average income for each state for each year in the provided range\n",
    "mean_income = full_income_data.groupby([\"state\", \"year\"], as_index=False)[\"income\"].mean()\n",
    "\n",
    "# Visualize income in choropleth with a slider to view different years\n",
    "fig = px.choropleth(\n",
    "    mean_income,\n",
    "    locations='state', \n",
    "    locationmode=\"USA-states\", \n",
    "    scope=\"usa\",\n",
    "    color='income',\n",
    "    color_continuous_scale=\"Greens\", \n",
    "    animation_frame=\"year\",\n",
    "    range_color=(min(mean_income[\"income\"]), max(mean_income[\"income\"])) # Fix color scale\n",
    ");\n",
    "\n",
    "fig.update_layout(\n",
    "    title_text = 'Average Student Income 10 Years After Graduation by State (2011 - 2018)',\n",
    "    title_font_family=\"Times New Roman\",\n",
    "    title_font_size = 20,\n",
    "    title_font_color=\"black\", \n",
    "    title_x=0.45, \n",
    ");\n",
    "\n",
    "fig.show()"
   ]
  },
  {
   "cell_type": "markdown",
   "id": "8c2e8e18",
   "metadata": {},
   "source": [
    "From the above animation, it is clear that nationwide student post-graduation income has also increased considerably over the past decade as all states appear a darker shade of green over time. Some notable features that that the choropleth highlights:\n",
    "* Universities on the west and east coast have the highest post-graduation income and this feature persists across all years\n",
    "* Income levels rose at a slower rate nationwide between the years 2011-2013 relative to later years  \n",
    "\n",
    "However, it is worth mentioning that the increase in post-graduation income between 2014 and 2018 is hard to analyze due to the lack of data for the years in between."
   ]
  },
  {
   "cell_type": "markdown",
   "id": "10578661",
   "metadata": {},
   "source": [
    "We continue our analysis by making a barplot plotting each state's change in student debt from 2011 to 2018."
   ]
  },
  {
   "cell_type": "code",
   "execution_count": 12,
   "id": "40a91032",
   "metadata": {},
   "outputs": [
    {
     "data": {
      "image/png": "[encoded data removed]",
      "text/plain": [
       "<Figure size 1152x576 with 3 Axes>"
      ]
     },
     "metadata": {
      "needs_background": "light"
     },
     "output_type": "display_data"
    }
   ],
   "source": [
    "# Subset mean income to only include rows from 2011 and 2018\n",
    "state_income_trends = mean_income[np.logical_or(mean_income[\"year\"] == \"2011\", mean_income[\"year\"] == \"2018\")]\n",
    "state_income_trends[\"Income Change\"] = state_income_trends.groupby([\"state\"])[\"income\"].diff()\n",
    "\n",
    "plt.figure(figsize=(16, 8))\n",
    "\n",
    "# Plot all state trends\n",
    "plt.subplot(211)\n",
    "state_order = state_income_trends.dropna().sort_values(\"Income Change\").state\n",
    "\n",
    "all_states_plot = sns.barplot(data=state_income_trends.dropna(), x=\"state\", y=\"Income Change\", order=state_order)\n",
    "all_states_plot.set(xlabel=\"State\", ylabel=\"Student Post-Graduation Income Change ($)\", title=\"Statewide Change in Student Post-Graduation Income (2011-2018)\")\n",
    "\n",
    "# Plot bottom 5 states\n",
    "plt.subplot(223)\n",
    "bottom_five_states = state_income_trends.dropna().sort_values(by=['Income Change']).head(5)[\"state\"]\n",
    "bottom_five_states_data = state_income_trends[state_income_trends[\"state\"].isin(bottom_five_states)]\n",
    "state_order = bottom_five_states_data.dropna().sort_values(\"Income Change\").state\n",
    "\n",
    "plt.ylim(0, 70000)\n",
    "bot_states_plot = sns.barplot(data=bottom_five_states_data, x=\"state\", y=\"income\", hue=\"year\", order=state_order)\n",
    "bot_states_plot.set(xlabel=\"State\", ylabel=\"Student Post-Graduation Income ($)\", title=\"States w/Least Increase in Post-Graduation Income (2011 vs. 2018)\")\n",
    "\n",
    "# Plot top 5 states\n",
    "plt.subplot(224)\n",
    "top_five_states = state_income_trends.dropna().sort_values(by=['Income Change']).tail(5)[\"state\"]\n",
    "top_five_states_data = state_income_trends[state_income_trends[\"state\"].isin(top_five_states)]\n",
    "state_order = top_five_states_data.dropna().sort_values(\"Income Change\").state\n",
    "\n",
    "plt.ylim(0, 70000)\n",
    "top_states_plot = sns.barplot(data=top_five_states_data, x=\"state\", y=\"income\", hue=\"year\", order=state_order)\n",
    "top_states_plot.set(xlabel=\"State\", ylabel=\"Student Post-Graduation Income ($)\", title=\"States w/Most Increase in Post-Graduation Income (2011 vs. 2018)\");\n"
   ]
  },
  {
   "cell_type": "markdown",
   "id": "70b0ae89",
   "metadata": {},
   "source": [
    "**All States Change in Post Graduation Income (Upper Plot)**:  \n",
    "In the upper plot, we graphed each state's change in post-graduation income from 2011 to 2018. We can see that across all states, post-graduation income has increased on average between \\\\$4,000 to \\\\$15,000 depending on the state. Similar to the student debt distribution, the post-graduation income distribution is also left-skewed with most states observing an increase of around \\\\$8,000.  \n",
    "\n",
    "**States with Lowest Increase in Post-Graduation Income**:  \n",
    "The state with the lowest increase in income was Alaska with an average increase in post-graduation income of \\\\$4,000.  \n",
    "\n",
    "**States with Highest Increase in Post-Graduation Income**:  \n",
    "The states with the highest increases were Rhode Island and Connecticut with increases ranging from \\\\$12,000 to \\\\$14,000. A noteworthy feature about the states with the highest increase is that 4/5 of the states are on the east coast, which traditionally is known to have higher salaries than the rest of the country."
   ]
  },
  {
   "cell_type": "markdown",
   "id": "2dc5d63b",
   "metadata": {},
   "source": [
    "Finally, we analyzed nationwide average post-graduation income to see if there were any significant trends."
   ]
  },
  {
   "cell_type": "code",
   "execution_count": 13,
   "id": "fc7fe690",
   "metadata": {},
   "outputs": [
    {
     "data": {
      "image/png": "[encoded data removed]",
      "text/plain": [
       "<Figure size 432x288 with 1 Axes>"
      ]
     },
     "metadata": {
      "needs_background": "light"
     },
     "output_type": "display_data"
    }
   ],
   "source": [
    "mean_yearly_income = mean_income.groupby([\"year\"], as_index=False).mean()\n",
    "mean_yearly_income[\"year\"] = mean_yearly_income[\"year\"].astype(\"float64\")\n",
    "\n",
    "lin_plot = sns.regplot(data = mean_yearly_income, x = \"year\", y = \"income\")\n",
    "lin_plot.set(xlabel='Year', ylabel=\"Average Nation-wide Income ($)\", title=\"Nationwide Student Income Trend\");"
   ]
  },
  {
   "cell_type": "markdown",
   "id": "708e0999",
   "metadata": {},
   "source": [
    "From the plot, we can see that student post-graduation income has increased from \\\\$40,000 to \\\\$49,000 on average from 2011 to 2018. While we are missing data for the years 2015-2017, from the data for 2011-2014 we can see a gradually increasing trend for post-graduation income."
   ]
  },
  {
   "cell_type": "markdown",
   "id": "a92cf0c8",
   "metadata": {},
   "source": [
    "## Comparative Analysis"
   ]
  },
  {
   "cell_type": "markdown",
   "id": "90de951e",
   "metadata": {},
   "source": [
    "While we have seen that both debt and income have increased in the specified time range, this is an expected result due to various economic factors such as inflation. We are interested in comparing these two metrics directly. Consequently, we scaled the income and debt data to be percent increases from 2011 to put them on the same scale and compare their growth."
   ]
  },
  {
   "cell_type": "code",
   "execution_count": 14,
   "id": "57aa3161",
   "metadata": {},
   "outputs": [
    {
     "data": {
      "image/png": "[encoded data removed]",
      "text/plain": [
       "<Figure size 432x288 with 1 Axes>"
      ]
     },
     "metadata": {
      "needs_background": "light"
     },
     "output_type": "display_data"
    }
   ],
   "source": [
    "# Compute nationwide average debt for each year\n",
    "mean_yearly_debt = mean_debt.groupby([\"year\"], as_index=False).mean()\n",
    "\n",
    "# Normalize yearly debt to be percentage change from 2011\n",
    "debt_2011 = mean_yearly_debt[mean_yearly_debt[\"year\"] == \"2011\"][\"debt\"]\n",
    "mean_yearly_debt[\"debt\"] = mean_yearly_debt.apply(lambda row: row[\"debt\"] / debt_2011 - 1, axis=1)\n",
    "mean_yearly_debt.columns = [\"Year\", \"Debt\"]\n",
    "\n",
    "# Compute nationwide average income for each year\n",
    "mean_yearly_income = mean_income.groupby([\"year\"], as_index=False).mean()\n",
    "\n",
    "# Normalize yearly income to be percentage change from 2011\n",
    "income_2011 = mean_yearly_income[mean_yearly_income[\"year\"] == \"2011\"][\"income\"]\n",
    "mean_yearly_income[\"income\"] = mean_yearly_income.apply(lambda row: row[\"income\"] / income_2011 - 1, axis=1)\n",
    "mean_yearly_income.columns = [\"Year\", \"Income\"]\n",
    "\n",
    "# Merged dataframe\n",
    "debt_and_income_data = pd.merge(mean_yearly_debt, mean_yearly_income, on=\"Year\", how=\"left\")\n",
    "debt_and_income_data = pd.melt(debt_and_income_data, id_vars = [\"Year\"], value_vars = [\"Debt\", \"Income\"], var_name = \"Type\")\n",
    "\n",
    "# Plot both percent growths on same plot\n",
    "compare_plot = sns.lineplot(data=debt_and_income_data, x=\"Year\", y=\"value\", hue=\"Type\")\n",
    "compare_plot.set(xlabel='Year', ylabel=\"% Change Since 2011\", title=\"% Change of Post-Graduate Income and Student Loan Debt from 2011\");"
   ]
  },
  {
   "cell_type": "markdown",
   "id": "429e2a14",
   "metadata": {},
   "source": [
    "From this plot, we can see a more clear comparison between student loan debt and post-graduate income. While both have seen substantial increases over the past 10 years, **student loan debt has increased by nearly 30% since 2011 while post-graduate income has only increased by 20%**. This finding indicates that college is getting more expensive with time, and while college graduates are earning more year-by-year, the relationship between these factors is not one-to-one as college debt is increasing at a more rapid rate."
   ]
  },
  {
   "cell_type": "markdown",
   "id": "be1226cd",
   "metadata": {},
   "source": [
    "# Completion Rate vs Income vs Cost of College\n",
    "\n",
    "Since student loan debt has increased by a substantial amount, it's important to know if going to a higher costing college (and possibly taking out a bigger loan) correlates to anything. It's also important to know how likely it is someone is to graduate from that program, to ensure they get the most out of their money.\n",
    "\n",
    "First we gather these three statistics from the year 2018."
   ]
  },
  {
   "cell_type": "code",
   "execution_count": 15,
   "id": "cac09f64",
   "metadata": {},
   "outputs": [],
   "source": [
    "# Set the year range we are interested in\n",
    "START_YEAR = 2011\n",
    "END_YEAR = 2021\n",
    "\n",
    "# Generate a list of all years in the given range (years are converted to strings)\n",
    "years = range(START_YEAR, END_YEAR + 1)\n",
    "years = [str(year) for year in years]\n",
    "years = [\"2018\"]\n",
    "\n",
    "full_cmp = pd.DataFrame()\n",
    "\n",
    "for year in years:\n",
    "    # Retrieve all debt data for the specified year from scorecard\n",
    "    year_cmp = get_all_data_for_year(year = year, dev_category = \"completion\", var_name = \"completion_rate_4yr_100nt\")\n",
    "    \n",
    "    # Format the resulting data frame\n",
    "    year_cmp = year_cmp.rename(columns = { \"{0}.completion.completion_rate_4yr_100nt\".format(year): \"completion\", \"school.name\": \"name\", \"school.state\": \"state\", \"school.ownership\": \"ownership\" })\n",
    "    year_cmp[\"year\"] = year\n",
    "    \n",
    "    # Append current year's debt data to larger data frame\n",
    "    full_cmp = pd.concat([full_cmp, year_cmp], axis=0)\n",
    "\n",
    "# Remove data points for U.S. territories\n",
    "US_TERRITORIES = [\"GU\", \"DC\", \"PR\", \"VI\"]\n",
    "full_cmp = full_cmp[~full_cmp[\"state\"].isin(US_TERRITORIES)]\n",
    "    \n",
    "# Set the college id as row indicies\n",
    "full_cmp = full_cmp.set_index(\"id\") "
   ]
  },
  {
   "cell_type": "code",
   "execution_count": 16,
   "id": "20ac73c1",
   "metadata": {},
   "outputs": [],
   "source": [
    "# Set the year range we are interested in\n",
    "START_YEAR = 2011\n",
    "END_YEAR = 2021\n",
    "\n",
    "# Generate a list of all years in the given range (years are converted to strings)\n",
    "years = range(START_YEAR, END_YEAR + 1)\n",
    "years = [\"2018\"]\n",
    "\n",
    "full_cost = pd.DataFrame()\n",
    "\n",
    "for year in years:\n",
    "    # Retrieve all debt data for the specified year from scorecard\n",
    "    year_cost = get_all_data_for_year(year = year, dev_category = \"cost\", var_name = \"attendance.academic_year\")\n",
    "    \n",
    "    # Format the resulting data frame\n",
    "    year_cost = year_cost.rename(columns = { \"{0}.cost.attendance.academic_year\".format(year): \"cost\", \"school.name\": \"name\", \"school.state\": \"state\", \"school.ownership\": \"ownership\" })\n",
    "    year_cost[\"year\"] = year\n",
    "    \n",
    "    # Append current year's debt data to larger data frame\n",
    "    full_cost = pd.concat([full_cost, year_cost], axis=0)\n",
    "\n",
    "# Remove data points for U.S. territories\n",
    "US_TERRITORIES = [\"GU\", \"DC\", \"PR\", \"VI\"]\n",
    "full_cost = full_cost[~full_cost[\"state\"].isin(US_TERRITORIES)]\n",
    "    \n",
    "# Set the college id as row indicies\n",
    "full_cost = full_cost.set_index(\"id\") "
   ]
  },
  {
   "cell_type": "code",
   "execution_count": 17,
   "id": "faf9b0d2",
   "metadata": {},
   "outputs": [],
   "source": [
    "# Set the year range we are interested in\n",
    "START_YEAR = 2011\n",
    "END_YEAR = 2021\n",
    "\n",
    "# Generate a list of all years in the given range (years are converted to strings)\n",
    "years = range(START_YEAR, END_YEAR + 1)\n",
    "years = [\"2018\"]\n",
    "\n",
    "full_income = pd.DataFrame()\n",
    "\n",
    "for year in years:\n",
    "    # Retrieve all debt data for the specified year from scorecard\n",
    "    year_income = get_all_data_for_year(year = year, dev_category = \"earnings\", var_name = \"10_yrs_after_entry.median\")\n",
    "    \n",
    "    # Format the resulting data frame\n",
    "    year_income = year_income.rename(columns = { \"{0}.earnings.10_yrs_after_entry.median\".format(year): \"income\", \"school.name\": \"name\", \"school.state\": \"state\", \"school.ownership\": \"ownership\" })\n",
    "    year_income[\"year\"] = year\n",
    "    \n",
    "    # Append current year's debt data to larger data frame\n",
    "    full_income = pd.concat([full_income, year_income], axis=0)\n",
    "\n",
    "# Remove data points for U.S. territories\n",
    "US_TERRITORIES = [\"GU\", \"DC\", \"PR\", \"VI\"]\n",
    "full_income = full_income[~full_income[\"state\"].isin(US_TERRITORIES)]\n",
    "    \n",
    "# Set the college id as row indicies\n",
    "full_income = full_income.set_index(\"id\") "
   ]
  },
  {
   "cell_type": "code",
   "execution_count": 18,
   "id": "9cd5d816",
   "metadata": {},
   "outputs": [],
   "source": [
    "full_cmp = full_cmp.dropna()\n",
    "full_cost = full_cost.dropna()\n",
    "full_income = full_income.dropna()\n",
    "full = pd.concat([full_cmp, full_cost,full_income], axis=1)\n",
    "full = full.dropna()\n",
    "full = full.loc[:,~full.columns.duplicated()].copy()\n",
    "full['completion'] = full['completion'] * 100"
   ]
  },
  {
   "cell_type": "markdown",
   "id": "8e7d129e",
   "metadata": {},
   "source": [
    "Now we can plot each of these against each other and run a t test for significance."
   ]
  },
  {
   "cell_type": "code",
   "execution_count": 19,
   "id": "97b65f32",
   "metadata": {},
   "outputs": [
    {
     "name": "stdout",
     "output_type": "stream",
     "text": [
      "1.0066739192464156\n"
     ]
    },
    {
     "data": {
      "image/png": "[encoded data removed]",
      "text/plain": [
       "<Figure size 432x288 with 1 Axes>"
      ]
     },
     "metadata": {
      "needs_background": "light"
     },
     "output_type": "display_data"
    }
   ],
   "source": [
    "lin_plot = sns.regplot(data = full, x = \"cost\", y = \"completion\",line_kws={\"color\": \"red\"})\n",
    "lin_plot.set(xlabel='College Tuition ($)', ylabel=\"Completion Rate of College(%)\", title=\"Nationwide Cost vs Completion\");\n",
    "slope, intercept, r, p, sterr = stats.linregress(x=lin_plot.get_lines()[0].get_xdata(),\n",
    "                                                       y=lin_plot.get_lines()[0].get_ydata())\n",
    "print(slope*1000)\n",
    "#for every 1000 dollar increase in tuition, the completion percentage goes up by roughly 1%!"
   ]
  },
  {
   "cell_type": "code",
   "execution_count": 20,
   "id": "f291d48f",
   "metadata": {},
   "outputs": [
    {
     "data": {
      "text/plain": [
       "Ttest_indResult(statistic=93.60582098729353, pvalue=0.0)"
      ]
     },
     "execution_count": 20,
     "metadata": {},
     "output_type": "execute_result"
    }
   ],
   "source": [
    "stats.ttest_ind(full['cost'],\n",
    "                full['completion'])\n",
    "#p value less close to 0 definite correlation"
   ]
  },
  {
   "cell_type": "markdown",
   "id": "b287a6a7",
   "metadata": {},
   "source": [
    "We can see that cost of tuition and completion rate are significantly positively correlated, meaning **a percent increase in tuition increases the completion percentage by about a percent!**"
   ]
  },
  {
   "cell_type": "code",
   "execution_count": 21,
   "id": "8760351e",
   "metadata": {},
   "outputs": [
    {
     "name": "stdout",
     "output_type": "stream",
     "text": [
      "419.1477008702807\n"
     ]
    },
    {
     "data": {
      "image/png": "[encoded data removed]",
      "text/plain": [
       "<Figure size 432x288 with 1 Axes>"
      ]
     },
     "metadata": {
      "needs_background": "light"
     },
     "output_type": "display_data"
    }
   ],
   "source": [
    "lin_plot2 = sns.regplot(data = full, x = \"cost\", y = \"income\",line_kws={\"color\": \"red\"})\n",
    "lin_plot2.set(xlabel='College Tuition ($)', ylabel=\"Median Income, 10 Years After Graduation ($)\", title=\"Nationwide Cost vs Median Income\");\n",
    "slope, intercept, r, p, sterr = stats.linregress(x=lin_plot2.get_lines()[0].get_xdata(),\n",
    "                                                       y=lin_plot2.get_lines()[0].get_ydata())\n",
    "print(slope*1000)\n",
    "#for every 1000 dollar increase in tuition, the income goes up by 420 dollars."
   ]
  },
  {
   "cell_type": "code",
   "execution_count": 22,
   "id": "fc4324aa",
   "metadata": {},
   "outputs": [
    {
     "data": {
      "text/plain": [
       "Ttest_indResult(statistic=-26.427955134968617, pvalue=1.984183312664456e-139)"
      ]
     },
     "execution_count": 22,
     "metadata": {},
     "output_type": "execute_result"
    }
   ],
   "source": [
    "stats.ttest_ind(full['cost'],\n",
    "                full['income'])\n",
    "#p value close to 0, definite correlation"
   ]
  },
  {
   "cell_type": "markdown",
   "id": "60a2e30c",
   "metadata": {},
   "source": [
    "Next, we see that cost and income are significantly positively correlated, meaning **a thousand dollar increase in tuition increases the expected income by about 420 dollars!**"
   ]
  },
  {
   "cell_type": "code",
   "execution_count": 23,
   "id": "55f1ce88",
   "metadata": {},
   "outputs": [
    {
     "name": "stdout",
     "output_type": "stream",
     "text": [
      "349.60185770060394\n"
     ]
    },
    {
     "data": {
      "image/png": "[encoded data removed]",
      "text/plain": [
       "<Figure size 432x288 with 1 Axes>"
      ]
     },
     "metadata": {
      "needs_background": "light"
     },
     "output_type": "display_data"
    }
   ],
   "source": [
    "lin_plot5 = sns.regplot(data = full, x = \"completion\", y = \"income\",line_kws={\"color\": \"red\"})\n",
    "lin_plot5.set(xlabel='Completion Rate (%)', ylabel=\"Average Median Income, 10 Years After Graduation ($)\", title=\"Nationwide Completion vs Income\");\n",
    "slope, intercept, r, p, sterr = stats.linregress(x=lin_plot5.get_lines()[0].get_xdata(),\n",
    "                                                       y=lin_plot5.get_lines()[0].get_ydata())\n",
    "print(slope)\n",
    "#every time the completion rate goes up 1%, you're expected to make 350 dollars more."
   ]
  },
  {
   "cell_type": "code",
   "execution_count": 24,
   "id": "34da957f",
   "metadata": {},
   "outputs": [
    {
     "data": {
      "text/plain": [
       "Ttest_indResult(statistic=149.56450282456518, pvalue=0.0)"
      ]
     },
     "execution_count": 24,
     "metadata": {},
     "output_type": "execute_result"
    }
   ],
   "source": [
    "stats.ttest_ind(full['income'],\n",
    "                full['completion'])\n",
    "#p value less close to 0 definite correlation. higher completion = higher income"
   ]
  },
  {
   "cell_type": "markdown",
   "id": "1524fcee",
   "metadata": {},
   "source": [
    "Finally, we see that completion rate and income are significantly positively correlated, meaning **a percent increase in completion rate increases the expected income by 350 dollars!**"
   ]
  },
  {
   "cell_type": "code",
   "execution_count": 25,
   "id": "eacdd4c9",
   "metadata": {},
   "outputs": [
    {
     "data": {
      "text/html": [
       "<div>\n",
       "<style scoped>\n",
       "    .dataframe tbody tr th:only-of-type {\n",
       "        vertical-align: middle;\n",
       "    }\n",
       "\n",
       "    .dataframe tbody tr th {\n",
       "        vertical-align: top;\n",
       "    }\n",
       "\n",
       "    .dataframe thead th {\n",
       "        text-align: right;\n",
       "    }\n",
       "</style>\n",
       "<table border=\"1\" class=\"dataframe\">\n",
       "  <thead>\n",
       "    <tr style=\"text-align: right;\">\n",
       "      <th></th>\n",
       "      <th>income</th>\n",
       "      <th>name</th>\n",
       "      <th>state</th>\n",
       "      <th>ownership</th>\n",
       "      <th>year</th>\n",
       "    </tr>\n",
       "    <tr>\n",
       "      <th>id</th>\n",
       "      <th></th>\n",
       "      <th></th>\n",
       "      <th></th>\n",
       "      <th></th>\n",
       "      <th></th>\n",
       "    </tr>\n",
       "  </thead>\n",
       "  <tbody>\n",
       "    <tr>\n",
       "      <th>441982</th>\n",
       "      <td>132969.0</td>\n",
       "      <td>Franklin W Olin College of Engineering</td>\n",
       "      <td>MA</td>\n",
       "      <td>2</td>\n",
       "      <td>2018</td>\n",
       "    </tr>\n",
       "    <tr>\n",
       "      <th>122296</th>\n",
       "      <td>123966.0</td>\n",
       "      <td>Samuel Merritt University</td>\n",
       "      <td>CA</td>\n",
       "      <td>2</td>\n",
       "      <td>2018</td>\n",
       "    </tr>\n",
       "    <tr>\n",
       "      <th>179265</th>\n",
       "      <td>121576.0</td>\n",
       "      <td>University of Health Sciences and Pharmacy in ...</td>\n",
       "      <td>MO</td>\n",
       "      <td>2</td>\n",
       "      <td>2018</td>\n",
       "    </tr>\n",
       "    <tr>\n",
       "      <th>188526</th>\n",
       "      <td>119112.0</td>\n",
       "      <td>Albany College of Pharmacy and Health Sciences</td>\n",
       "      <td>NY</td>\n",
       "      <td>2</td>\n",
       "      <td>2018</td>\n",
       "    </tr>\n",
       "    <tr>\n",
       "      <th>166656</th>\n",
       "      <td>118171.0</td>\n",
       "      <td>MCPHS University</td>\n",
       "      <td>MA</td>\n",
       "      <td>2</td>\n",
       "      <td>2018</td>\n",
       "    </tr>\n",
       "    <tr>\n",
       "      <th>196255</th>\n",
       "      <td>114551.0</td>\n",
       "      <td>SUNY Downstate Health Sciences University</td>\n",
       "      <td>NY</td>\n",
       "      <td>1</td>\n",
       "      <td>2018</td>\n",
       "    </tr>\n",
       "    <tr>\n",
       "      <th>110404</th>\n",
       "      <td>112166.0</td>\n",
       "      <td>California Institute of Technology</td>\n",
       "      <td>CA</td>\n",
       "      <td>2</td>\n",
       "      <td>2018</td>\n",
       "    </tr>\n",
       "    <tr>\n",
       "      <th>166683</th>\n",
       "      <td>111222.0</td>\n",
       "      <td>Massachusetts Institute of Technology</td>\n",
       "      <td>MA</td>\n",
       "      <td>2</td>\n",
       "      <td>2018</td>\n",
       "    </tr>\n",
       "    <tr>\n",
       "      <th>115409</th>\n",
       "      <td>108988.0</td>\n",
       "      <td>Harvey Mudd College</td>\n",
       "      <td>CA</td>\n",
       "      <td>2</td>\n",
       "      <td>2018</td>\n",
       "    </tr>\n",
       "    <tr>\n",
       "      <th>164739</th>\n",
       "      <td>107974.0</td>\n",
       "      <td>Bentley University</td>\n",
       "      <td>MA</td>\n",
       "      <td>2</td>\n",
       "      <td>2018</td>\n",
       "    </tr>\n",
       "  </tbody>\n",
       "</table>\n",
       "</div>"
      ],
      "text/plain": [
       "          income                                               name state  \\\n",
       "id                                                                          \n",
       "441982  132969.0             Franklin W Olin College of Engineering    MA   \n",
       "122296  123966.0                          Samuel Merritt University    CA   \n",
       "179265  121576.0  University of Health Sciences and Pharmacy in ...    MO   \n",
       "188526  119112.0     Albany College of Pharmacy and Health Sciences    NY   \n",
       "166656  118171.0                                   MCPHS University    MA   \n",
       "196255  114551.0          SUNY Downstate Health Sciences University    NY   \n",
       "110404  112166.0                 California Institute of Technology    CA   \n",
       "166683  111222.0              Massachusetts Institute of Technology    MA   \n",
       "115409  108988.0                                Harvey Mudd College    CA   \n",
       "164739  107974.0                                 Bentley University    MA   \n",
       "\n",
       "        ownership  year  \n",
       "id                       \n",
       "441982          2  2018  \n",
       "122296          2  2018  \n",
       "179265          2  2018  \n",
       "188526          2  2018  \n",
       "166656          2  2018  \n",
       "196255          1  2018  \n",
       "110404          2  2018  \n",
       "166683          2  2018  \n",
       "115409          2  2018  \n",
       "164739          2  2018  "
      ]
     },
     "execution_count": 25,
     "metadata": {},
     "output_type": "execute_result"
    }
   ],
   "source": [
    "full_income.sort_values('income', ascending=False).head(10)\n",
    "#snapshot of the top 10 earning universities, engineering, health, technology based schools as expected would earn the most."
   ]
  },
  {
   "cell_type": "markdown",
   "id": "d831e63f",
   "metadata": {},
   "source": [
    "If we take a quick look at the snapshot of top earning universities, we can see that most of these are STEM specialized schools."
   ]
  },
  {
   "cell_type": "code",
   "execution_count": 26,
   "id": "6d818d49",
   "metadata": {},
   "outputs": [
    {
     "data": {
      "text/html": [
       "<div>\n",
       "<style scoped>\n",
       "    .dataframe tbody tr th:only-of-type {\n",
       "        vertical-align: middle;\n",
       "    }\n",
       "\n",
       "    .dataframe tbody tr th {\n",
       "        vertical-align: top;\n",
       "    }\n",
       "\n",
       "    .dataframe thead th {\n",
       "        text-align: right;\n",
       "    }\n",
       "</style>\n",
       "<table border=\"1\" class=\"dataframe\">\n",
       "  <thead>\n",
       "    <tr style=\"text-align: right;\">\n",
       "      <th></th>\n",
       "      <th>income</th>\n",
       "      <th>name</th>\n",
       "      <th>state</th>\n",
       "      <th>ownership</th>\n",
       "      <th>year</th>\n",
       "    </tr>\n",
       "    <tr>\n",
       "      <th>id</th>\n",
       "      <th></th>\n",
       "      <th></th>\n",
       "      <th></th>\n",
       "      <th></th>\n",
       "      <th></th>\n",
       "    </tr>\n",
       "  </thead>\n",
       "  <tbody>\n",
       "    <tr>\n",
       "      <th>197601</th>\n",
       "      <td>16792.0</td>\n",
       "      <td>Yeshiva Karlin Stolin</td>\n",
       "      <td>NY</td>\n",
       "      <td>2</td>\n",
       "      <td>2018</td>\n",
       "    </tr>\n",
       "    <tr>\n",
       "      <th>455257</th>\n",
       "      <td>17714.0</td>\n",
       "      <td>Yeshiva of Machzikai Hadas</td>\n",
       "      <td>NY</td>\n",
       "      <td>2</td>\n",
       "      <td>2018</td>\n",
       "    </tr>\n",
       "    <tr>\n",
       "      <th>197018</th>\n",
       "      <td>21284.0</td>\n",
       "      <td>United Talmudical Seminary</td>\n",
       "      <td>NY</td>\n",
       "      <td>2</td>\n",
       "      <td>2018</td>\n",
       "    </tr>\n",
       "    <tr>\n",
       "      <th>197735</th>\n",
       "      <td>21878.0</td>\n",
       "      <td>Yeshivath Viznitz</td>\n",
       "      <td>NY</td>\n",
       "      <td>2</td>\n",
       "      <td>2018</td>\n",
       "    </tr>\n",
       "    <tr>\n",
       "      <th>157030</th>\n",
       "      <td>22385.0</td>\n",
       "      <td>Kentucky Mountain Bible College</td>\n",
       "      <td>KY</td>\n",
       "      <td>2</td>\n",
       "      <td>2018</td>\n",
       "    </tr>\n",
       "    <tr>\n",
       "      <th>384254</th>\n",
       "      <td>22833.0</td>\n",
       "      <td>Beacon College</td>\n",
       "      <td>FL</td>\n",
       "      <td>2</td>\n",
       "      <td>2018</td>\n",
       "    </tr>\n",
       "    <tr>\n",
       "      <th>219505</th>\n",
       "      <td>23135.0</td>\n",
       "      <td>American Baptist College</td>\n",
       "      <td>TN</td>\n",
       "      <td>2</td>\n",
       "      <td>2018</td>\n",
       "    </tr>\n",
       "    <tr>\n",
       "      <th>192712</th>\n",
       "      <td>24000.0</td>\n",
       "      <td>Manhattan School of Music</td>\n",
       "      <td>NY</td>\n",
       "      <td>2</td>\n",
       "      <td>2018</td>\n",
       "    </tr>\n",
       "    <tr>\n",
       "      <th>444088</th>\n",
       "      <td>24653.0</td>\n",
       "      <td>Brookline College-Albuquerque</td>\n",
       "      <td>NM</td>\n",
       "      <td>3</td>\n",
       "      <td>2018</td>\n",
       "    </tr>\n",
       "    <tr>\n",
       "      <th>446604</th>\n",
       "      <td>24698.0</td>\n",
       "      <td>Uta Mesivta of Kiryas Joel</td>\n",
       "      <td>NY</td>\n",
       "      <td>2</td>\n",
       "      <td>2018</td>\n",
       "    </tr>\n",
       "  </tbody>\n",
       "</table>\n",
       "</div>"
      ],
      "text/plain": [
       "         income                             name state  ownership  year\n",
       "id                                                                     \n",
       "197601  16792.0            Yeshiva Karlin Stolin    NY          2  2018\n",
       "455257  17714.0       Yeshiva of Machzikai Hadas    NY          2  2018\n",
       "197018  21284.0       United Talmudical Seminary    NY          2  2018\n",
       "197735  21878.0                Yeshivath Viznitz    NY          2  2018\n",
       "157030  22385.0  Kentucky Mountain Bible College    KY          2  2018\n",
       "384254  22833.0                   Beacon College    FL          2  2018\n",
       "219505  23135.0         American Baptist College    TN          2  2018\n",
       "192712  24000.0        Manhattan School of Music    NY          2  2018\n",
       "444088  24653.0    Brookline College-Albuquerque    NM          3  2018\n",
       "446604  24698.0       Uta Mesivta of Kiryas Joel    NY          2  2018"
      ]
     },
     "execution_count": 26,
     "metadata": {},
     "output_type": "execute_result"
    }
   ],
   "source": [
    "full_income.sort_values('income', ascending=True).head(10)\n",
    "#snapshot of the top 10 earning universities, engineering, health, technology based schools as expected would earn the most."
   ]
  },
  {
   "cell_type": "markdown",
   "id": "0e3e91ca",
   "metadata": {},
   "source": [
    "We can also see that the bottom few earning schools are religious or humanities schools. Let's run to see if this trend is true."
   ]
  },
  {
   "cell_type": "code",
   "execution_count": 27,
   "id": "d6383a2c",
   "metadata": {},
   "outputs": [
    {
     "data": {
      "text/html": [
       "<div>\n",
       "<style scoped>\n",
       "    .dataframe tbody tr th:only-of-type {\n",
       "        vertical-align: middle;\n",
       "    }\n",
       "\n",
       "    .dataframe tbody tr th {\n",
       "        vertical-align: top;\n",
       "    }\n",
       "\n",
       "    .dataframe thead th {\n",
       "        text-align: right;\n",
       "    }\n",
       "</style>\n",
       "<table border=\"1\" class=\"dataframe\">\n",
       "  <thead>\n",
       "    <tr style=\"text-align: right;\">\n",
       "      <th></th>\n",
       "      <th>completion</th>\n",
       "      <th>name</th>\n",
       "      <th>state</th>\n",
       "      <th>ownership</th>\n",
       "      <th>year</th>\n",
       "    </tr>\n",
       "    <tr>\n",
       "      <th>id</th>\n",
       "      <th></th>\n",
       "      <th></th>\n",
       "      <th></th>\n",
       "      <th></th>\n",
       "      <th></th>\n",
       "    </tr>\n",
       "  </thead>\n",
       "  <tbody>\n",
       "    <tr>\n",
       "      <th>233356</th>\n",
       "      <td>1.0000</td>\n",
       "      <td>Bon Secours Memorial College of Nursing</td>\n",
       "      <td>VA</td>\n",
       "      <td>2</td>\n",
       "      <td>2018</td>\n",
       "    </tr>\n",
       "    <tr>\n",
       "      <th>449348</th>\n",
       "      <td>1.0000</td>\n",
       "      <td>Huntsville Bible College</td>\n",
       "      <td>AL</td>\n",
       "      <td>2</td>\n",
       "      <td>2018</td>\n",
       "    </tr>\n",
       "    <tr>\n",
       "      <th>260813</th>\n",
       "      <td>1.0000</td>\n",
       "      <td>Platt College-Aurora</td>\n",
       "      <td>CO</td>\n",
       "      <td>3</td>\n",
       "      <td>2018</td>\n",
       "    </tr>\n",
       "    <tr>\n",
       "      <th>132842</th>\n",
       "      <td>1.0000</td>\n",
       "      <td>Albizu University-Miami</td>\n",
       "      <td>FL</td>\n",
       "      <td>2</td>\n",
       "      <td>2018</td>\n",
       "    </tr>\n",
       "    <tr>\n",
       "      <th>447421</th>\n",
       "      <td>1.0000</td>\n",
       "      <td>Eagle Gate College-Layton</td>\n",
       "      <td>UT</td>\n",
       "      <td>3</td>\n",
       "      <td>2018</td>\n",
       "    </tr>\n",
       "    <tr>\n",
       "      <th>234207</th>\n",
       "      <td>0.9186</td>\n",
       "      <td>Washington and Lee University</td>\n",
       "      <td>VA</td>\n",
       "      <td>2</td>\n",
       "      <td>2018</td>\n",
       "    </tr>\n",
       "    <tr>\n",
       "      <th>152080</th>\n",
       "      <td>0.9148</td>\n",
       "      <td>University of Notre Dame</td>\n",
       "      <td>IN</td>\n",
       "      <td>2</td>\n",
       "      <td>2018</td>\n",
       "    </tr>\n",
       "    <tr>\n",
       "      <th>164155</th>\n",
       "      <td>0.9012</td>\n",
       "      <td>United States Naval Academy</td>\n",
       "      <td>MD</td>\n",
       "      <td>1</td>\n",
       "      <td>2018</td>\n",
       "    </tr>\n",
       "    <tr>\n",
       "      <th>168342</th>\n",
       "      <td>0.8958</td>\n",
       "      <td>Williams College</td>\n",
       "      <td>MA</td>\n",
       "      <td>2</td>\n",
       "      <td>2018</td>\n",
       "    </tr>\n",
       "    <tr>\n",
       "      <th>198385</th>\n",
       "      <td>0.8957</td>\n",
       "      <td>Davidson College</td>\n",
       "      <td>NC</td>\n",
       "      <td>2</td>\n",
       "      <td>2018</td>\n",
       "    </tr>\n",
       "  </tbody>\n",
       "</table>\n",
       "</div>"
      ],
      "text/plain": [
       "        completion                                     name state  ownership  \\\n",
       "id                                                                             \n",
       "233356      1.0000  Bon Secours Memorial College of Nursing    VA          2   \n",
       "449348      1.0000                 Huntsville Bible College    AL          2   \n",
       "260813      1.0000                     Platt College-Aurora    CO          3   \n",
       "132842      1.0000                  Albizu University-Miami    FL          2   \n",
       "447421      1.0000                Eagle Gate College-Layton    UT          3   \n",
       "234207      0.9186            Washington and Lee University    VA          2   \n",
       "152080      0.9148                 University of Notre Dame    IN          2   \n",
       "164155      0.9012              United States Naval Academy    MD          1   \n",
       "168342      0.8958                         Williams College    MA          2   \n",
       "198385      0.8957                         Davidson College    NC          2   \n",
       "\n",
       "        year  \n",
       "id            \n",
       "233356  2018  \n",
       "449348  2018  \n",
       "260813  2018  \n",
       "132842  2018  \n",
       "447421  2018  \n",
       "234207  2018  \n",
       "152080  2018  \n",
       "164155  2018  \n",
       "168342  2018  \n",
       "198385  2018  "
      ]
     },
     "execution_count": 27,
     "metadata": {},
     "output_type": "execute_result"
    }
   ],
   "source": [
    "full_cmp.sort_values('completion', ascending=False).head(10)\n",
    "#top ten most completion rate for the year 2018."
   ]
  },
  {
   "cell_type": "code",
   "execution_count": 28,
   "id": "2a4e1e54",
   "metadata": {},
   "outputs": [],
   "source": [
    "# Set the year range we are interested in\n",
    "START_YEAR = 2011\n",
    "END_YEAR = 2018\n",
    "\n",
    "# Generate a list of all years in the given range (years are converted to strings)\n",
    "years = range(START_YEAR, END_YEAR + 1)\n",
    "years = [str(year) for year in years]\n",
    "\n",
    "# MANUAL OVERWRITE: ONLY 2007, 2009, 2011, 2012, 2013, 2014, 2018 available\n",
    "years = [\"2018\"]\n",
    "\n",
    "full_hum_data = pd.DataFrame()\n",
    "\n",
    "for year in years:\n",
    "    # Retrieve all income data for the specified year from scorecard\n",
    "    year_hum_data = get_all_data_for_year(year = year, dev_category = \"academics\", var_name = \"program_percentage.humanities\")\n",
    "    \n",
    "    # Format the resulting data frame\n",
    "    year_hum_data = year_hum_data.rename(columns = { \"{0}.academics.program_percentage.humanities\".format(year): \"hum\", \"school.name\": \"name\", \"school.state\": \"state\", \"school.ownership\": \"ownership\" })\n",
    "    year_hum_data[\"year\"] = year\n",
    "    \n",
    "    # Remove any NA entries\n",
    "    year_hum_data = year_hum_data.dropna(subset=[\"hum\"])\n",
    "    \n",
    "    # Append current year's income data to larger data frame\n",
    "    full_hum_data = pd.concat([full_hum_data, year_hum_data], axis=0)\n",
    "\n",
    "# Remove data points for U.S. territories\n",
    "US_TERRITORIES = [\"GU\", \"DC\", \"PR\", \"VI\"]\n",
    "full_hum_data = full_hum_data[~full_hum_data[\"state\"].isin(US_TERRITORIES)]\n",
    "\n",
    "# Set the college id as row indicies\n",
    "full_hum_data = full_hum_data.set_index(\"id\") "
   ]
  },
  {
   "cell_type": "code",
   "execution_count": 29,
   "id": "6deaecfa",
   "metadata": {},
   "outputs": [],
   "source": [
    "full = pd.concat([full_hum_data, full], axis=1)\n",
    "full = full.dropna()\n",
    "full = full.loc[:,~full.columns.duplicated()].copy()"
   ]
  },
  {
   "cell_type": "code",
   "execution_count": 30,
   "id": "27d4fb51",
   "metadata": {},
   "outputs": [
    {
     "data": {
      "image/png": "[encoded data removed]",
      "text/plain": [
       "<Figure size 432x288 with 1 Axes>"
      ]
     },
     "metadata": {
      "needs_background": "light"
     },
     "output_type": "display_data"
    }
   ],
   "source": [
    "lin_plot3 = sns.regplot(data = full, x = \"hum\", y = \"income\",line_kws={\"color\": \"red\"})\n",
    "lin_plot3.set(xlabel='Ratio of Humanities Degrees', ylabel=\"Average Median Income 10 Years($)\", title=\"% of Humanities Degrees vs Income\");\n",
    "slope, intercept, r, p, sterr = stats.linregress(x=lin_plot3.get_lines()[0].get_xdata(),\n",
    "                                                       y=lin_plot3.get_lines()[0].get_ydata())"
   ]
  },
  {
   "cell_type": "code",
   "execution_count": 31,
   "id": "d43352de",
   "metadata": {},
   "outputs": [
    {
     "data": {
      "text/plain": [
       "Ttest_indResult(statistic=-149.68272729410415, pvalue=0.0)"
      ]
     },
     "execution_count": 31,
     "metadata": {},
     "output_type": "execute_result"
    }
   ],
   "source": [
    "stats.ttest_ind(full['hum'],\n",
    "                full['income'])\n",
    "#p value close to 0, definite correlation"
   ]
  },
  {
   "cell_type": "code",
   "execution_count": 32,
   "id": "295adf86",
   "metadata": {},
   "outputs": [],
   "source": [
    "# Set the year range we are interested in\n",
    "START_YEAR = 2011\n",
    "END_YEAR = 2018\n",
    "\n",
    "# Generate a list of all years in the given range (years are converted to strings)\n",
    "years = range(START_YEAR, END_YEAR + 1)\n",
    "years = [str(year) for year in years]\n",
    "\n",
    "# MANUAL OVERWRITE: ONLY 2007, 2009, 2011, 2012, 2013, 2014, 2018 available\n",
    "years = [\"2018\"]\n",
    "\n",
    "full_eng_data = pd.DataFrame()\n",
    "\n",
    "for year in years:\n",
    "    # Retrieve all income data for the specified year from scorecard\n",
    "    year_eng_data = get_all_data_for_year(year = year, dev_category = \"academics\", var_name = \"program_percentage.engineering\")\n",
    "    \n",
    "    # Format the resulting data frame\n",
    "    year_eng_data = year_eng_data.rename(columns = { \"{0}.academics.program_percentage.engineering\".format(year): \"eng\", \"school.name\": \"name\", \"school.state\": \"state\", \"school.ownership\": \"ownership\" })\n",
    "    year_eng_data[\"year\"] = year\n",
    "    \n",
    "    # Remove any NA entries\n",
    "    year_eng_data = year_eng_data.dropna(subset=[\"eng\"])\n",
    "    \n",
    "    # Append current year's income data to larger data frame\n",
    "    full_eng_data = pd.concat([full_eng_data, year_eng_data], axis=0)\n",
    "\n",
    "# Remove data points for U.S. territories\n",
    "US_TERRITORIES = [\"GU\", \"DC\", \"PR\", \"VI\"]\n",
    "full_eng_data = full_eng_data[~full_eng_data[\"state\"].isin(US_TERRITORIES)]\n",
    "\n",
    "# Set the college id as row indicies\n",
    "full_eng_data = full_eng_data.set_index(\"id\") "
   ]
  },
  {
   "cell_type": "code",
   "execution_count": 33,
   "id": "a25bbc09",
   "metadata": {},
   "outputs": [],
   "source": [
    "full = pd.concat([full_eng_data, full], axis=1)\n",
    "full = full.dropna()\n",
    "full = full.loc[:,~full.columns.duplicated()].copy()"
   ]
  },
  {
   "cell_type": "code",
   "execution_count": 34,
   "id": "af8fd685",
   "metadata": {},
   "outputs": [
    {
     "data": {
      "image/png": "[encoded data removed]",
      "text/plain": [
       "<Figure size 432x288 with 1 Axes>"
      ]
     },
     "metadata": {
      "needs_background": "light"
     },
     "output_type": "display_data"
    }
   ],
   "source": [
    "lin_plot4 = sns.regplot(data = full, x = \"eng\", y = \"income\",line_kws={\"color\": \"red\"})\n",
    "lin_plot4.set(xlabel='Ratio Engineering Degrees', ylabel=\"Median Income 10 Years After Graduation ($)\", title=\"Engineering Ratio vs Income\");\n",
    "slope, intercept, r, p, sterr = stats.linregress(x=lin_plot3.get_lines()[0].get_xdata(),\n",
    "                                                       y=lin_plot3.get_lines()[0].get_ydata())"
   ]
  },
  {
   "cell_type": "code",
   "execution_count": 35,
   "id": "7128efed",
   "metadata": {},
   "outputs": [
    {
     "data": {
      "text/plain": [
       "Ttest_indResult(statistic=-149.68273679401705, pvalue=0.0)"
      ]
     },
     "execution_count": 35,
     "metadata": {},
     "output_type": "execute_result"
    }
   ],
   "source": [
    "stats.ttest_ind(full['eng'],\n",
    "                full['income'])\n",
    "#p value close to 0, definite correlation"
   ]
  },
  {
   "cell_type": "code",
   "execution_count": 36,
   "id": "6ffd132c",
   "metadata": {},
   "outputs": [
    {
     "data": {
      "text/html": [
       "<div>\n",
       "<style scoped>\n",
       "    .dataframe tbody tr th:only-of-type {\n",
       "        vertical-align: middle;\n",
       "    }\n",
       "\n",
       "    .dataframe tbody tr th {\n",
       "        vertical-align: top;\n",
       "    }\n",
       "\n",
       "    .dataframe thead th {\n",
       "        text-align: right;\n",
       "    }\n",
       "</style>\n",
       "<table border=\"1\" class=\"dataframe\">\n",
       "  <thead>\n",
       "    <tr style=\"text-align: right;\">\n",
       "      <th></th>\n",
       "      <th>eng</th>\n",
       "      <th>name</th>\n",
       "      <th>state</th>\n",
       "      <th>ownership</th>\n",
       "      <th>year</th>\n",
       "      <th>hum</th>\n",
       "      <th>completion</th>\n",
       "      <th>cost</th>\n",
       "      <th>income</th>\n",
       "      <th>ioverc</th>\n",
       "    </tr>\n",
       "    <tr>\n",
       "      <th>id</th>\n",
       "      <th></th>\n",
       "      <th></th>\n",
       "      <th></th>\n",
       "      <th></th>\n",
       "      <th></th>\n",
       "      <th></th>\n",
       "      <th></th>\n",
       "      <th></th>\n",
       "      <th></th>\n",
       "      <th></th>\n",
       "    </tr>\n",
       "  </thead>\n",
       "  <tbody>\n",
       "    <tr>\n",
       "      <th>192712</th>\n",
       "      <td>0.0</td>\n",
       "      <td>Manhattan School of Music</td>\n",
       "      <td>NY</td>\n",
       "      <td>2</td>\n",
       "      <td>2018</td>\n",
       "      <td>0.0000</td>\n",
       "      <td>75.58</td>\n",
       "      <td>67051.0</td>\n",
       "      <td>24000.0</td>\n",
       "      <td>0.357936</td>\n",
       "    </tr>\n",
       "    <tr>\n",
       "      <th>384254</th>\n",
       "      <td>0.0</td>\n",
       "      <td>Beacon College</td>\n",
       "      <td>FL</td>\n",
       "      <td>2</td>\n",
       "      <td>2018</td>\n",
       "      <td>0.0517</td>\n",
       "      <td>41.94</td>\n",
       "      <td>55241.0</td>\n",
       "      <td>22833.0</td>\n",
       "      <td>0.413334</td>\n",
       "    </tr>\n",
       "    <tr>\n",
       "      <th>214971</th>\n",
       "      <td>0.0</td>\n",
       "      <td>Pennsylvania Academy of the Fine Arts</td>\n",
       "      <td>PA</td>\n",
       "      <td>2</td>\n",
       "      <td>2018</td>\n",
       "      <td>0.0000</td>\n",
       "      <td>63.64</td>\n",
       "      <td>56848.0</td>\n",
       "      <td>27570.0</td>\n",
       "      <td>0.484977</td>\n",
       "    </tr>\n",
       "    <tr>\n",
       "      <th>127653</th>\n",
       "      <td>0.0</td>\n",
       "      <td>Naropa University</td>\n",
       "      <td>CO</td>\n",
       "      <td>2</td>\n",
       "      <td>2018</td>\n",
       "      <td>0.0000</td>\n",
       "      <td>33.33</td>\n",
       "      <td>50081.0</td>\n",
       "      <td>26157.0</td>\n",
       "      <td>0.522294</td>\n",
       "    </tr>\n",
       "    <tr>\n",
       "      <th>122454</th>\n",
       "      <td>0.0</td>\n",
       "      <td>San Francisco Art Institute</td>\n",
       "      <td>CA</td>\n",
       "      <td>2</td>\n",
       "      <td>2018</td>\n",
       "      <td>0.0000</td>\n",
       "      <td>32.10</td>\n",
       "      <td>69525.0</td>\n",
       "      <td>37487.0</td>\n",
       "      <td>0.539187</td>\n",
       "    </tr>\n",
       "    <tr>\n",
       "      <th>164748</th>\n",
       "      <td>0.0</td>\n",
       "      <td>Berklee College of Music</td>\n",
       "      <td>MA</td>\n",
       "      <td>2</td>\n",
       "      <td>2018</td>\n",
       "      <td>0.0000</td>\n",
       "      <td>50.22</td>\n",
       "      <td>63027.0</td>\n",
       "      <td>34452.0</td>\n",
       "      <td>0.546623</td>\n",
       "    </tr>\n",
       "    <tr>\n",
       "      <th>111081</th>\n",
       "      <td>0.0</td>\n",
       "      <td>California Institute of the Arts</td>\n",
       "      <td>CA</td>\n",
       "      <td>2</td>\n",
       "      <td>2018</td>\n",
       "      <td>0.0000</td>\n",
       "      <td>50.84</td>\n",
       "      <td>69015.0</td>\n",
       "      <td>37733.0</td>\n",
       "      <td>0.546736</td>\n",
       "    </tr>\n",
       "    <tr>\n",
       "      <th>202073</th>\n",
       "      <td>0.0</td>\n",
       "      <td>Cleveland Institute of Music</td>\n",
       "      <td>OH</td>\n",
       "      <td>2</td>\n",
       "      <td>2018</td>\n",
       "      <td>0.0000</td>\n",
       "      <td>68.33</td>\n",
       "      <td>66966.0</td>\n",
       "      <td>38737.0</td>\n",
       "      <td>0.578458</td>\n",
       "    </tr>\n",
       "    <tr>\n",
       "      <th>122506</th>\n",
       "      <td>0.0</td>\n",
       "      <td>San Francisco Conservatory of Music</td>\n",
       "      <td>CA</td>\n",
       "      <td>2</td>\n",
       "      <td>2018</td>\n",
       "      <td>0.0000</td>\n",
       "      <td>50.00</td>\n",
       "      <td>65045.0</td>\n",
       "      <td>37744.0</td>\n",
       "      <td>0.580275</td>\n",
       "    </tr>\n",
       "    <tr>\n",
       "      <th>167057</th>\n",
       "      <td>0.0</td>\n",
       "      <td>The New England Conservatory of Music</td>\n",
       "      <td>MA</td>\n",
       "      <td>2</td>\n",
       "      <td>2018</td>\n",
       "      <td>0.0000</td>\n",
       "      <td>78.00</td>\n",
       "      <td>66030.0</td>\n",
       "      <td>38489.0</td>\n",
       "      <td>0.582902</td>\n",
       "    </tr>\n",
       "  </tbody>\n",
       "</table>\n",
       "</div>"
      ],
      "text/plain": [
       "        eng                                   name state  ownership  year  \\\n",
       "id                                                                          \n",
       "192712  0.0              Manhattan School of Music    NY          2  2018   \n",
       "384254  0.0                         Beacon College    FL          2  2018   \n",
       "214971  0.0  Pennsylvania Academy of the Fine Arts    PA          2  2018   \n",
       "127653  0.0                      Naropa University    CO          2  2018   \n",
       "122454  0.0            San Francisco Art Institute    CA          2  2018   \n",
       "164748  0.0               Berklee College of Music    MA          2  2018   \n",
       "111081  0.0       California Institute of the Arts    CA          2  2018   \n",
       "202073  0.0           Cleveland Institute of Music    OH          2  2018   \n",
       "122506  0.0    San Francisco Conservatory of Music    CA          2  2018   \n",
       "167057  0.0  The New England Conservatory of Music    MA          2  2018   \n",
       "\n",
       "           hum  completion     cost   income    ioverc  \n",
       "id                                                      \n",
       "192712  0.0000       75.58  67051.0  24000.0  0.357936  \n",
       "384254  0.0517       41.94  55241.0  22833.0  0.413334  \n",
       "214971  0.0000       63.64  56848.0  27570.0  0.484977  \n",
       "127653  0.0000       33.33  50081.0  26157.0  0.522294  \n",
       "122454  0.0000       32.10  69525.0  37487.0  0.539187  \n",
       "164748  0.0000       50.22  63027.0  34452.0  0.546623  \n",
       "111081  0.0000       50.84  69015.0  37733.0  0.546736  \n",
       "202073  0.0000       68.33  66966.0  38737.0  0.578458  \n",
       "122506  0.0000       50.00  65045.0  37744.0  0.580275  \n",
       "167057  0.0000       78.00  66030.0  38489.0  0.582902  "
      ]
     },
     "execution_count": 36,
     "metadata": {},
     "output_type": "execute_result"
    }
   ],
   "source": [
    "full['ioverc'] = full['income']/full['cost']\n",
    "full.sort_values('ioverc', ascending=False).head(10)\n",
    "#snapshot of the top 10 income per cost universities, engineering, health, technology based schools as expected would earn the most.\n",
    "\n",
    "full['ioverc'] = full['income']/full['cost']\n",
    "full.sort_values('ioverc', ascending=True).head(10)\n",
    "#snapshot of the bottom 10 income per cost universities, engineering, health, technology based schools as expected would earn the most."
   ]
  },
  {
   "cell_type": "markdown",
   "id": "befc0c41",
   "metadata": {},
   "source": [
    "We do indeed see a positive correlation between higher percentage of engineering students at the college and income, and a negative correlation between higher percentage of humanities students at the college and income."
   ]
  },
  {
   "cell_type": "markdown",
   "id": "45d3e41a",
   "metadata": {},
   "source": [
    "So what have we learned? The more you pay for college, the more your income is higher, and the more you're likely to graduate. Often times, the more expensive colleges are private institutions. So let's take a look at the distinction between private and public colleges."
   ]
  },
  {
   "cell_type": "markdown",
   "id": "fe629d39",
   "metadata": {},
   "source": [
    "# Income and Debt in Public vs Private Institutions"
   ]
  },
  {
   "cell_type": "markdown",
   "id": "370618b8",
   "metadata": {},
   "source": [
    "## Public vs Private Institutions Median Income Analysis"
   ]
  },
  {
   "cell_type": "markdown",
   "id": "ec8f6b67",
   "metadata": {},
   "source": [
    "There are many factors that play into why a student chooses to attend a college. If cost were to be their main consideration, many students would tend to attend in-state public universities due to streotypically lower costs and convenience. Consequently, we are also interested in investigating if there is a difference in the quality of education in __public vs. private institutions__ based on the __median earnings of graduates 10 years after graduation__."
   ]
  },
  {
   "cell_type": "code",
   "execution_count": 37,
   "id": "e9376593",
   "metadata": {},
   "outputs": [],
   "source": [
    "# Get data of the latest year (2018)\n",
    "ownership = get_scorecard_data(year = \"latest\", dev_category = \"earnings\", var_name = \"10_yrs_after_entry.median\")\n",
    "\n",
    "result = ownership.json()\n",
    "pages = result[\"metadata\"][\"page\"]\n",
    "results = result[\"results\"]\n",
    "max_page_num = result[\"metadata\"][\"total\"]//100 + 1\n",
    "\n",
    "# Loop over remaining pages\n",
    "for p in range(pages, max_page_num + 1):\n",
    "    results += get_scorecard_data(year = \"latest\", dev_category = \"earnings\", var_name = \"10_yrs_after_entry.median\", page = p).json()[\"results\"]\n",
    "    time.sleep(0.1) # Slow down request from API"
   ]
  },
  {
   "cell_type": "code",
   "execution_count": 38,
   "id": "cdf8bcf3",
   "metadata": {},
   "outputs": [],
   "source": [
    "# Create dataframe\n",
    "ownership_df = pd.DataFrame(results)\n",
    "ownership_df = ownership_df.set_index('id') # Set index by \"ID\"\n",
    "\n",
    "# Replace column name\n",
    "ownership_df = ownership_df.rename(columns={'latest.earnings.10_yrs_after_entry.median': 'median_earnings', 'school.name': 'name', 'school.state': 'state', 'school.ownership': 'ownership'})\n",
    "\n",
    "# Drop NAs value\n",
    "ownership_df = ownership_df.dropna(subset=['median_earnings'])\n"
   ]
  },
  {
   "cell_type": "markdown",
   "id": "dd8ea6cb",
   "metadata": {},
   "source": [
    "We decided to merge the `private for-profit` and `private non-profit` colleges into one category as they both do not receive funding from the government and falls under the same umbrella."
   ]
  },
  {
   "cell_type": "code",
   "execution_count": 39,
   "id": "33e0b3d5",
   "metadata": {},
   "outputs": [],
   "source": [
    "# Replace school.ownership = 1 to Public \n",
    "# school.ownership = 2 or 3 to Private \n",
    "ownership_df['ownership'] = ownership_df['ownership'].replace([1], 'Public')\n",
    "ownership_df['ownership'] = ownership_df['ownership'].replace([2,3], 'Private')\n",
    "\n",
    "# Remove duplicated entries I found while performing data exploration \n",
    "ownership_df = ownership_df.drop_duplicates()\n",
    "\n",
    "# Remove data points for U.S. territories\n",
    "US_TERRITORIES = [\"GU\", \"DC\", \"PR\", \"VI\"]\n",
    "ownership_df = ownership_df[~ownership_df[\"state\"].isin(US_TERRITORIES)]"
   ]
  },
  {
   "cell_type": "code",
   "execution_count": 40,
   "id": "bcd268ce",
   "metadata": {},
   "outputs": [],
   "source": [
    "# Number of public vs. private universities\n",
    "count_ownership = ownership_df.groupby(\"ownership\", as_index=False)[\"name\"].count()\n",
    "count_ownership = count_ownership.rename(columns={'ownership': 'ownership', 'name': 'count'})"
   ]
  },
  {
   "cell_type": "code",
   "execution_count": 41,
   "id": "b992d068",
   "metadata": {},
   "outputs": [
    {
     "data": {
      "image/png": "[encoded data removed]",
      "text/plain": [
       "<Figure size 432x288 with 1 Axes>"
      ]
     },
     "metadata": {},
     "output_type": "display_data"
    }
   ],
   "source": [
    "# Plot pie chart of percentage of public vs. private universities\n",
    "plt.pie(count_ownership['count'], labels=count_ownership['ownership'], autopct='%1.1f%%', colors = ['pink', 'green'])\n",
    "plt.title('Ownership Distribution')\n",
    "plt.show()"
   ]
  },
  {
   "cell_type": "markdown",
   "id": "ef561214",
   "metadata": {},
   "source": [
    "From the pie chart, we can see that there is a higher percentage of private institutions compared to public institutions in the United States."
   ]
  },
  {
   "cell_type": "code",
   "execution_count": 42,
   "id": "471a96f7",
   "metadata": {},
   "outputs": [
    {
     "data": {
      "application/vnd.plotly.v1+json": {
       "config": {
        "plotlyServerURL": "https://plot.ly"
       },
       "data": [
        {
         "colorbar": {
          "title": {
           "text": "USD"
          }
         },
         "colorscale": [
          [
           0,
           "rgb(247,252,245)"
          ],
          [
           0.125,
           "rgb(229,245,224)"
          ],
          [
           0.25,
           "rgb(199,233,192)"
          ],
          [
           0.375,
           "rgb(161,217,155)"
          ],
          [
           0.5,
           "rgb(116,196,118)"
          ],
          [
           0.625,
           "rgb(65,171,93)"
          ],
          [
           0.75,
           "rgb(35,139,69)"
          ],
          [
           0.875,
           "rgb(0,109,44)"
          ],
          [
           1,
           "rgb(0,68,27)"
          ]
         ],
         "locationmode": "USA-states",
         "locations": [
          "AK",
          "AL",
          "AR",
          "AZ",
          "CA",
          "CO",
          "CT",
          "DE",
          "FL",
          "GA",
          "HI",
          "IA",
          "ID",
          "IL",
          "IN",
          "KS",
          "KY",
          "LA",
          "MA",
          "MD",
          "ME",
          "MI",
          "MN",
          "MO",
          "MS",
          "MT",
          "NC",
          "ND",
          "NE",
          "NH",
          "NJ",
          "NM",
          "NV",
          "NY",
          "OH",
          "OK",
          "OR",
          "PA",
          "RI",
          "SC",
          "SD",
          "TN",
          "TX",
          "UT",
          "VA",
          "VT",
          "WA",
          "WI",
          "WV",
          "WY"
         ],
         "type": "choropleth",
         "z": [
          46295.333333333336,
          42905.2,
          41778.90909090909,
          50167.73333333333,
          60063.78151260504,
          50170.59090909091,
          62036.625,
          49202.5,
          47626.639344262294,
          44197.03703703704,
          47813.857142857145,
          49220.21875,
          43892.625,
          53258.28358208955,
          49540.85106382979,
          46222.92592592593,
          42253.8275862069,
          48101.846153846156,
          62452.35294117647,
          56147.71428571428,
          47167.23529411765,
          51766.604651162794,
          51469.13157894737,
          48024.339622641506,
          38884.9375,
          44940.444444444445,
          44881.14035087719,
          48283.444444444445,
          51145.7,
          52790.153846153844,
          56922.64705882353,
          38458.1,
          57285.6,
          55373.21323529412,
          48931.27536231884,
          43666.04,
          53525.61538461538,
          54795.87128712871,
          63044.5,
          43731.05714285714,
          45714.46153846154,
          44596.5,
          49838.50537634409,
          49259.230769230766,
          50897.34,
          51860.444444444445,
          55857.77777777778,
          49914.5641025641,
          43702.05263157895,
          50685
         ]
        }
       ],
       "layout": {
        "geo": {
         "scope": "usa"
        },
        "template": {
         "data": {
          "bar": [
           {
            "error_x": {
             "color": "#2a3f5f"
            },
            "error_y": {
             "color": "#2a3f5f"
            },
            "marker": {
             "line": {
              "color": "#E5ECF6",
              "width": 0.5
             },
             "pattern": {
              "fillmode": "overlay",
              "size": 10,
              "solidity": 0.2
             }
            },
            "type": "bar"
           }
          ],
          "barpolar": [
           {
            "marker": {
             "line": {
              "color": "#E5ECF6",
              "width": 0.5
             },
             "pattern": {
              "fillmode": "overlay",
              "size": 10,
              "solidity": 0.2
             }
            },
            "type": "barpolar"
           }
          ],
          "carpet": [
           {
            "aaxis": {
             "endlinecolor": "#2a3f5f",
             "gridcolor": "white",
             "linecolor": "white",
             "minorgridcolor": "white",
             "startlinecolor": "#2a3f5f"
            },
            "baxis": {
             "endlinecolor": "#2a3f5f",
             "gridcolor": "white",
             "linecolor": "white",
             "minorgridcolor": "white",
             "startlinecolor": "#2a3f5f"
            },
            "type": "carpet"
           }
          ],
          "choropleth": [
           {
            "colorbar": {
             "outlinewidth": 0,
             "ticks": ""
            },
            "type": "choropleth"
           }
          ],
          "contour": [
           {
            "colorbar": {
             "outlinewidth": 0,
             "ticks": ""
            },
            "colorscale": [
             [
              0,
              "#0d0887"
             ],
             [
              0.1111111111111111,
              "#46039f"
             ],
             [
              0.2222222222222222,
              "#7201a8"
             ],
             [
              0.3333333333333333,
              "#9c179e"
             ],
             [
              0.4444444444444444,
              "#bd3786"
             ],
             [
              0.5555555555555556,
              "#d8576b"
             ],
             [
              0.6666666666666666,
              "#ed7953"
             ],
             [
              0.7777777777777778,
              "#fb9f3a"
             ],
             [
              0.8888888888888888,
              "#fdca26"
             ],
             [
              1,
              "#f0f921"
             ]
            ],
            "type": "contour"
           }
          ],
          "contourcarpet": [
           {
            "colorbar": {
             "outlinewidth": 0,
             "ticks": ""
            },
            "type": "contourcarpet"
           }
          ],
          "heatmap": [
           {
            "colorbar": {
             "outlinewidth": 0,
             "ticks": ""
            },
            "colorscale": [
             [
              0,
              "#0d0887"
             ],
             [
              0.1111111111111111,
              "#46039f"
             ],
             [
              0.2222222222222222,
              "#7201a8"
             ],
             [
              0.3333333333333333,
              "#9c179e"
             ],
             [
              0.4444444444444444,
              "#bd3786"
             ],
             [
              0.5555555555555556,
              "#d8576b"
             ],
             [
              0.6666666666666666,
              "#ed7953"
             ],
             [
              0.7777777777777778,
              "#fb9f3a"
             ],
             [
              0.8888888888888888,
              "#fdca26"
             ],
             [
              1,
              "#f0f921"
             ]
            ],
            "type": "heatmap"
           }
          ],
          "heatmapgl": [
           {
            "colorbar": {
             "outlinewidth": 0,
             "ticks": ""
            },
            "colorscale": [
             [
              0,
              "#0d0887"
             ],
             [
              0.1111111111111111,
              "#46039f"
             ],
             [
              0.2222222222222222,
              "#7201a8"
             ],
             [
              0.3333333333333333,
              "#9c179e"
             ],
             [
              0.4444444444444444,
              "#bd3786"
             ],
             [
              0.5555555555555556,
              "#d8576b"
             ],
             [
              0.6666666666666666,
              "#ed7953"
             ],
             [
              0.7777777777777778,
              "#fb9f3a"
             ],
             [
              0.8888888888888888,
              "#fdca26"
             ],
             [
              1,
              "#f0f921"
             ]
            ],
            "type": "heatmapgl"
           }
          ],
          "histogram": [
           {
            "marker": {
             "pattern": {
              "fillmode": "overlay",
              "size": 10,
              "solidity": 0.2
             }
            },
            "type": "histogram"
           }
          ],
          "histogram2d": [
           {
            "colorbar": {
             "outlinewidth": 0,
             "ticks": ""
            },
            "colorscale": [
             [
              0,
              "#0d0887"
             ],
             [
              0.1111111111111111,
              "#46039f"
             ],
             [
              0.2222222222222222,
              "#7201a8"
             ],
             [
              0.3333333333333333,
              "#9c179e"
             ],
             [
              0.4444444444444444,
              "#bd3786"
             ],
             [
              0.5555555555555556,
              "#d8576b"
             ],
             [
              0.6666666666666666,
              "#ed7953"
             ],
             [
              0.7777777777777778,
              "#fb9f3a"
             ],
             [
              0.8888888888888888,
              "#fdca26"
             ],
             [
              1,
              "#f0f921"
             ]
            ],
            "type": "histogram2d"
           }
          ],
          "histogram2dcontour": [
           {
            "colorbar": {
             "outlinewidth": 0,
             "ticks": ""
            },
            "colorscale": [
             [
              0,
              "#0d0887"
             ],
             [
              0.1111111111111111,
              "#46039f"
             ],
             [
              0.2222222222222222,
              "#7201a8"
             ],
             [
              0.3333333333333333,
              "#9c179e"
             ],
             [
              0.4444444444444444,
              "#bd3786"
             ],
             [
              0.5555555555555556,
              "#d8576b"
             ],
             [
              0.6666666666666666,
              "#ed7953"
             ],
             [
              0.7777777777777778,
              "#fb9f3a"
             ],
             [
              0.8888888888888888,
              "#fdca26"
             ],
             [
              1,
              "#f0f921"
             ]
            ],
            "type": "histogram2dcontour"
           }
          ],
          "mesh3d": [
           {
            "colorbar": {
             "outlinewidth": 0,
             "ticks": ""
            },
            "type": "mesh3d"
           }
          ],
          "parcoords": [
           {
            "line": {
             "colorbar": {
              "outlinewidth": 0,
              "ticks": ""
             }
            },
            "type": "parcoords"
           }
          ],
          "pie": [
           {
            "automargin": true,
            "type": "pie"
           }
          ],
          "scatter": [
           {
            "fillpattern": {
             "fillmode": "overlay",
             "size": 10,
             "solidity": 0.2
            },
            "type": "scatter"
           }
          ],
          "scatter3d": [
           {
            "line": {
             "colorbar": {
              "outlinewidth": 0,
              "ticks": ""
             }
            },
            "marker": {
             "colorbar": {
              "outlinewidth": 0,
              "ticks": ""
             }
            },
            "type": "scatter3d"
           }
          ],
          "scattercarpet": [
           {
            "marker": {
             "colorbar": {
              "outlinewidth": 0,
              "ticks": ""
             }
            },
            "type": "scattercarpet"
           }
          ],
          "scattergeo": [
           {
            "marker": {
             "colorbar": {
              "outlinewidth": 0,
              "ticks": ""
             }
            },
            "type": "scattergeo"
           }
          ],
          "scattergl": [
           {
            "marker": {
             "colorbar": {
              "outlinewidth": 0,
              "ticks": ""
             }
            },
            "type": "scattergl"
           }
          ],
          "scattermapbox": [
           {
            "marker": {
             "colorbar": {
              "outlinewidth": 0,
              "ticks": ""
             }
            },
            "type": "scattermapbox"
           }
          ],
          "scatterpolar": [
           {
            "marker": {
             "colorbar": {
              "outlinewidth": 0,
              "ticks": ""
             }
            },
            "type": "scatterpolar"
           }
          ],
          "scatterpolargl": [
           {
            "marker": {
             "colorbar": {
              "outlinewidth": 0,
              "ticks": ""
             }
            },
            "type": "scatterpolargl"
           }
          ],
          "scatterternary": [
           {
            "marker": {
             "colorbar": {
              "outlinewidth": 0,
              "ticks": ""
             }
            },
            "type": "scatterternary"
           }
          ],
          "surface": [
           {
            "colorbar": {
             "outlinewidth": 0,
             "ticks": ""
            },
            "colorscale": [
             [
              0,
              "#0d0887"
             ],
             [
              0.1111111111111111,
              "#46039f"
             ],
             [
              0.2222222222222222,
              "#7201a8"
             ],
             [
              0.3333333333333333,
              "#9c179e"
             ],
             [
              0.4444444444444444,
              "#bd3786"
             ],
             [
              0.5555555555555556,
              "#d8576b"
             ],
             [
              0.6666666666666666,
              "#ed7953"
             ],
             [
              0.7777777777777778,
              "#fb9f3a"
             ],
             [
              0.8888888888888888,
              "#fdca26"
             ],
             [
              1,
              "#f0f921"
             ]
            ],
            "type": "surface"
           }
          ],
          "table": [
           {
            "cells": {
             "fill": {
              "color": "#EBF0F8"
             },
             "line": {
              "color": "white"
             }
            },
            "header": {
             "fill": {
              "color": "#C8D4E3"
             },
             "line": {
              "color": "white"
             }
            },
            "type": "table"
           }
          ]
         },
         "layout": {
          "annotationdefaults": {
           "arrowcolor": "#2a3f5f",
           "arrowhead": 0,
           "arrowwidth": 1
          },
          "autotypenumbers": "strict",
          "coloraxis": {
           "colorbar": {
            "outlinewidth": 0,
            "ticks": ""
           }
          },
          "colorscale": {
           "diverging": [
            [
             0,
             "#8e0152"
            ],
            [
             0.1,
             "#c51b7d"
            ],
            [
             0.2,
             "#de77ae"
            ],
            [
             0.3,
             "#f1b6da"
            ],
            [
             0.4,
             "#fde0ef"
            ],
            [
             0.5,
             "#f7f7f7"
            ],
            [
             0.6,
             "#e6f5d0"
            ],
            [
             0.7,
             "#b8e186"
            ],
            [
             0.8,
             "#7fbc41"
            ],
            [
             0.9,
             "#4d9221"
            ],
            [
             1,
             "#276419"
            ]
           ],
           "sequential": [
            [
             0,
             "#0d0887"
            ],
            [
             0.1111111111111111,
             "#46039f"
            ],
            [
             0.2222222222222222,
             "#7201a8"
            ],
            [
             0.3333333333333333,
             "#9c179e"
            ],
            [
             0.4444444444444444,
             "#bd3786"
            ],
            [
             0.5555555555555556,
             "#d8576b"
            ],
            [
             0.6666666666666666,
             "#ed7953"
            ],
            [
             0.7777777777777778,
             "#fb9f3a"
            ],
            [
             0.8888888888888888,
             "#fdca26"
            ],
            [
             1,
             "#f0f921"
            ]
           ],
           "sequentialminus": [
            [
             0,
             "#0d0887"
            ],
            [
             0.1111111111111111,
             "#46039f"
            ],
            [
             0.2222222222222222,
             "#7201a8"
            ],
            [
             0.3333333333333333,
             "#9c179e"
            ],
            [
             0.4444444444444444,
             "#bd3786"
            ],
            [
             0.5555555555555556,
             "#d8576b"
            ],
            [
             0.6666666666666666,
             "#ed7953"
            ],
            [
             0.7777777777777778,
             "#fb9f3a"
            ],
            [
             0.8888888888888888,
             "#fdca26"
            ],
            [
             1,
             "#f0f921"
            ]
           ]
          },
          "colorway": [
           "#636efa",
           "#EF553B",
           "#00cc96",
           "#ab63fa",
           "#FFA15A",
           "#19d3f3",
           "#FF6692",
           "#B6E880",
           "#FF97FF",
           "#FECB52"
          ],
          "font": {
           "color": "#2a3f5f"
          },
          "geo": {
           "bgcolor": "white",
           "lakecolor": "white",
           "landcolor": "#E5ECF6",
           "showlakes": true,
           "showland": true,
           "subunitcolor": "white"
          },
          "hoverlabel": {
           "align": "left"
          },
          "hovermode": "closest",
          "mapbox": {
           "style": "light"
          },
          "paper_bgcolor": "white",
          "plot_bgcolor": "#E5ECF6",
          "polar": {
           "angularaxis": {
            "gridcolor": "white",
            "linecolor": "white",
            "ticks": ""
           },
           "bgcolor": "#E5ECF6",
           "radialaxis": {
            "gridcolor": "white",
            "linecolor": "white",
            "ticks": ""
           }
          },
          "scene": {
           "xaxis": {
            "backgroundcolor": "#E5ECF6",
            "gridcolor": "white",
            "gridwidth": 2,
            "linecolor": "white",
            "showbackground": true,
            "ticks": "",
            "zerolinecolor": "white"
           },
           "yaxis": {
            "backgroundcolor": "#E5ECF6",
            "gridcolor": "white",
            "gridwidth": 2,
            "linecolor": "white",
            "showbackground": true,
            "ticks": "",
            "zerolinecolor": "white"
           },
           "zaxis": {
            "backgroundcolor": "#E5ECF6",
            "gridcolor": "white",
            "gridwidth": 2,
            "linecolor": "white",
            "showbackground": true,
            "ticks": "",
            "zerolinecolor": "white"
           }
          },
          "shapedefaults": {
           "line": {
            "color": "#2a3f5f"
           }
          },
          "ternary": {
           "aaxis": {
            "gridcolor": "white",
            "linecolor": "white",
            "ticks": ""
           },
           "baxis": {
            "gridcolor": "white",
            "linecolor": "white",
            "ticks": ""
           },
           "bgcolor": "#E5ECF6",
           "caxis": {
            "gridcolor": "white",
            "linecolor": "white",
            "ticks": ""
           }
          },
          "title": {
           "x": 0.05
          },
          "xaxis": {
           "automargin": true,
           "gridcolor": "white",
           "linecolor": "white",
           "ticks": "",
           "title": {
            "standoff": 15
           },
           "zerolinecolor": "white",
           "zerolinewidth": 2
          },
          "yaxis": {
           "automargin": true,
           "gridcolor": "white",
           "linecolor": "white",
           "ticks": "",
           "title": {
            "standoff": 15
           },
           "zerolinecolor": "white",
           "zerolinewidth": 2
          }
         }
        },
        "title": {
         "font": {
          "size": 20
         },
         "text": "Average Median Earnings by State 10 years after Graduation"
        }
       }
      },
      "text/html": [
       "<div>                            <div id=\"cc3bd531-58ef-4875-b4a7-2a8420b410d9\" class=\"plotly-graph-div\" style=\"height:525px; width:100%;\"></div>            <script type=\"text/javascript\">                require([\"plotly\"], function(Plotly) {                    window.PLOTLYENV=window.PLOTLYENV || {};                                    if (document.getElementById(\"cc3bd531-58ef-4875-b4a7-2a8420b410d9\")) {                    Plotly.newPlot(                        \"cc3bd531-58ef-4875-b4a7-2a8420b410d9\",                        [{\"colorbar\":{\"title\":{\"text\":\"USD\"}},\"colorscale\":[[0.0,\"rgb(247,252,245)\"],[0.125,\"rgb(229,245,224)\"],[0.25,\"rgb(199,233,192)\"],[0.375,\"rgb(161,217,155)\"],[0.5,\"rgb(116,196,118)\"],[0.625,\"rgb(65,171,93)\"],[0.75,\"rgb(35,139,69)\"],[0.875,\"rgb(0,109,44)\"],[1.0,\"rgb(0,68,27)\"]],\"locationmode\":\"USA-states\",\"locations\":[\"AK\",\"AL\",\"AR\",\"AZ\",\"CA\",\"CO\",\"CT\",\"DE\",\"FL\",\"GA\",\"HI\",\"IA\",\"ID\",\"IL\",\"IN\",\"KS\",\"KY\",\"LA\",\"MA\",\"MD\",\"ME\",\"MI\",\"MN\",\"MO\",\"MS\",\"MT\",\"NC\",\"ND\",\"NE\",\"NH\",\"NJ\",\"NM\",\"NV\",\"NY\",\"OH\",\"OK\",\"OR\",\"PA\",\"RI\",\"SC\",\"SD\",\"TN\",\"TX\",\"UT\",\"VA\",\"VT\",\"WA\",\"WI\",\"WV\",\"WY\"],\"z\":[46295.333333333336,42905.2,41778.90909090909,50167.73333333333,60063.78151260504,50170.59090909091,62036.625,49202.5,47626.639344262294,44197.03703703704,47813.857142857145,49220.21875,43892.625,53258.28358208955,49540.85106382979,46222.92592592593,42253.8275862069,48101.846153846156,62452.35294117647,56147.71428571428,47167.23529411765,51766.604651162794,51469.13157894737,48024.339622641506,38884.9375,44940.444444444445,44881.14035087719,48283.444444444445,51145.7,52790.153846153844,56922.64705882353,38458.1,57285.6,55373.21323529412,48931.27536231884,43666.04,53525.61538461538,54795.87128712871,63044.5,43731.05714285714,45714.46153846154,44596.5,49838.50537634409,49259.230769230766,50897.34,51860.444444444445,55857.77777777778,49914.5641025641,43702.05263157895,50685.0],\"type\":\"choropleth\"}],                        {\"template\":{\"data\":{\"histogram2dcontour\":[{\"type\":\"histogram2dcontour\",\"colorbar\":{\"outlinewidth\":0,\"ticks\":\"\"},\"colorscale\":[[0.0,\"#0d0887\"],[0.1111111111111111,\"#46039f\"],[0.2222222222222222,\"#7201a8\"],[0.3333333333333333,\"#9c179e\"],[0.4444444444444444,\"#bd3786\"],[0.5555555555555556,\"#d8576b\"],[0.6666666666666666,\"#ed7953\"],[0.7777777777777778,\"#fb9f3a\"],[0.8888888888888888,\"#fdca26\"],[1.0,\"#f0f921\"]]}],\"choropleth\":[{\"type\":\"choropleth\",\"colorbar\":{\"outlinewidth\":0,\"ticks\":\"\"}}],\"histogram2d\":[{\"type\":\"histogram2d\",\"colorbar\":{\"outlinewidth\":0,\"ticks\":\"\"},\"colorscale\":[[0.0,\"#0d0887\"],[0.1111111111111111,\"#46039f\"],[0.2222222222222222,\"#7201a8\"],[0.3333333333333333,\"#9c179e\"],[0.4444444444444444,\"#bd3786\"],[0.5555555555555556,\"#d8576b\"],[0.6666666666666666,\"#ed7953\"],[0.7777777777777778,\"#fb9f3a\"],[0.8888888888888888,\"#fdca26\"],[1.0,\"#f0f921\"]]}],\"heatmap\":[{\"type\":\"heatmap\",\"colorbar\":{\"outlinewidth\":0,\"ticks\":\"\"},\"colorscale\":[[0.0,\"#0d0887\"],[0.1111111111111111,\"#46039f\"],[0.2222222222222222,\"#7201a8\"],[0.3333333333333333,\"#9c179e\"],[0.4444444444444444,\"#bd3786\"],[0.5555555555555556,\"#d8576b\"],[0.6666666666666666,\"#ed7953\"],[0.7777777777777778,\"#fb9f3a\"],[0.8888888888888888,\"#fdca26\"],[1.0,\"#f0f921\"]]}],\"heatmapgl\":[{\"type\":\"heatmapgl\",\"colorbar\":{\"outlinewidth\":0,\"ticks\":\"\"},\"colorscale\":[[0.0,\"#0d0887\"],[0.1111111111111111,\"#46039f\"],[0.2222222222222222,\"#7201a8\"],[0.3333333333333333,\"#9c179e\"],[0.4444444444444444,\"#bd3786\"],[0.5555555555555556,\"#d8576b\"],[0.6666666666666666,\"#ed7953\"],[0.7777777777777778,\"#fb9f3a\"],[0.8888888888888888,\"#fdca26\"],[1.0,\"#f0f921\"]]}],\"contourcarpet\":[{\"type\":\"contourcarpet\",\"colorbar\":{\"outlinewidth\":0,\"ticks\":\"\"}}],\"contour\":[{\"type\":\"contour\",\"colorbar\":{\"outlinewidth\":0,\"ticks\":\"\"},\"colorscale\":[[0.0,\"#0d0887\"],[0.1111111111111111,\"#46039f\"],[0.2222222222222222,\"#7201a8\"],[0.3333333333333333,\"#9c179e\"],[0.4444444444444444,\"#bd3786\"],[0.5555555555555556,\"#d8576b\"],[0.6666666666666666,\"#ed7953\"],[0.7777777777777778,\"#fb9f3a\"],[0.8888888888888888,\"#fdca26\"],[1.0,\"#f0f921\"]]}],\"surface\":[{\"type\":\"surface\",\"colorbar\":{\"outlinewidth\":0,\"ticks\":\"\"},\"colorscale\":[[0.0,\"#0d0887\"],[0.1111111111111111,\"#46039f\"],[0.2222222222222222,\"#7201a8\"],[0.3333333333333333,\"#9c179e\"],[0.4444444444444444,\"#bd3786\"],[0.5555555555555556,\"#d8576b\"],[0.6666666666666666,\"#ed7953\"],[0.7777777777777778,\"#fb9f3a\"],[0.8888888888888888,\"#fdca26\"],[1.0,\"#f0f921\"]]}],\"mesh3d\":[{\"type\":\"mesh3d\",\"colorbar\":{\"outlinewidth\":0,\"ticks\":\"\"}}],\"scatter\":[{\"fillpattern\":{\"fillmode\":\"overlay\",\"size\":10,\"solidity\":0.2},\"type\":\"scatter\"}],\"parcoords\":[{\"type\":\"parcoords\",\"line\":{\"colorbar\":{\"outlinewidth\":0,\"ticks\":\"\"}}}],\"scatterpolargl\":[{\"type\":\"scatterpolargl\",\"marker\":{\"colorbar\":{\"outlinewidth\":0,\"ticks\":\"\"}}}],\"bar\":[{\"error_x\":{\"color\":\"#2a3f5f\"},\"error_y\":{\"color\":\"#2a3f5f\"},\"marker\":{\"line\":{\"color\":\"#E5ECF6\",\"width\":0.5},\"pattern\":{\"fillmode\":\"overlay\",\"size\":10,\"solidity\":0.2}},\"type\":\"bar\"}],\"scattergeo\":[{\"type\":\"scattergeo\",\"marker\":{\"colorbar\":{\"outlinewidth\":0,\"ticks\":\"\"}}}],\"scatterpolar\":[{\"type\":\"scatterpolar\",\"marker\":{\"colorbar\":{\"outlinewidth\":0,\"ticks\":\"\"}}}],\"histogram\":[{\"marker\":{\"pattern\":{\"fillmode\":\"overlay\",\"size\":10,\"solidity\":0.2}},\"type\":\"histogram\"}],\"scattergl\":[{\"type\":\"scattergl\",\"marker\":{\"colorbar\":{\"outlinewidth\":0,\"ticks\":\"\"}}}],\"scatter3d\":[{\"type\":\"scatter3d\",\"line\":{\"colorbar\":{\"outlinewidth\":0,\"ticks\":\"\"}},\"marker\":{\"colorbar\":{\"outlinewidth\":0,\"ticks\":\"\"}}}],\"scattermapbox\":[{\"type\":\"scattermapbox\",\"marker\":{\"colorbar\":{\"outlinewidth\":0,\"ticks\":\"\"}}}],\"scatterternary\":[{\"type\":\"scatterternary\",\"marker\":{\"colorbar\":{\"outlinewidth\":0,\"ticks\":\"\"}}}],\"scattercarpet\":[{\"type\":\"scattercarpet\",\"marker\":{\"colorbar\":{\"outlinewidth\":0,\"ticks\":\"\"}}}],\"carpet\":[{\"aaxis\":{\"endlinecolor\":\"#2a3f5f\",\"gridcolor\":\"white\",\"linecolor\":\"white\",\"minorgridcolor\":\"white\",\"startlinecolor\":\"#2a3f5f\"},\"baxis\":{\"endlinecolor\":\"#2a3f5f\",\"gridcolor\":\"white\",\"linecolor\":\"white\",\"minorgridcolor\":\"white\",\"startlinecolor\":\"#2a3f5f\"},\"type\":\"carpet\"}],\"table\":[{\"cells\":{\"fill\":{\"color\":\"#EBF0F8\"},\"line\":{\"color\":\"white\"}},\"header\":{\"fill\":{\"color\":\"#C8D4E3\"},\"line\":{\"color\":\"white\"}},\"type\":\"table\"}],\"barpolar\":[{\"marker\":{\"line\":{\"color\":\"#E5ECF6\",\"width\":0.5},\"pattern\":{\"fillmode\":\"overlay\",\"size\":10,\"solidity\":0.2}},\"type\":\"barpolar\"}],\"pie\":[{\"automargin\":true,\"type\":\"pie\"}]},\"layout\":{\"autotypenumbers\":\"strict\",\"colorway\":[\"#636efa\",\"#EF553B\",\"#00cc96\",\"#ab63fa\",\"#FFA15A\",\"#19d3f3\",\"#FF6692\",\"#B6E880\",\"#FF97FF\",\"#FECB52\"],\"font\":{\"color\":\"#2a3f5f\"},\"hovermode\":\"closest\",\"hoverlabel\":{\"align\":\"left\"},\"paper_bgcolor\":\"white\",\"plot_bgcolor\":\"#E5ECF6\",\"polar\":{\"bgcolor\":\"#E5ECF6\",\"angularaxis\":{\"gridcolor\":\"white\",\"linecolor\":\"white\",\"ticks\":\"\"},\"radialaxis\":{\"gridcolor\":\"white\",\"linecolor\":\"white\",\"ticks\":\"\"}},\"ternary\":{\"bgcolor\":\"#E5ECF6\",\"aaxis\":{\"gridcolor\":\"white\",\"linecolor\":\"white\",\"ticks\":\"\"},\"baxis\":{\"gridcolor\":\"white\",\"linecolor\":\"white\",\"ticks\":\"\"},\"caxis\":{\"gridcolor\":\"white\",\"linecolor\":\"white\",\"ticks\":\"\"}},\"coloraxis\":{\"colorbar\":{\"outlinewidth\":0,\"ticks\":\"\"}},\"colorscale\":{\"sequential\":[[0.0,\"#0d0887\"],[0.1111111111111111,\"#46039f\"],[0.2222222222222222,\"#7201a8\"],[0.3333333333333333,\"#9c179e\"],[0.4444444444444444,\"#bd3786\"],[0.5555555555555556,\"#d8576b\"],[0.6666666666666666,\"#ed7953\"],[0.7777777777777778,\"#fb9f3a\"],[0.8888888888888888,\"#fdca26\"],[1.0,\"#f0f921\"]],\"sequentialminus\":[[0.0,\"#0d0887\"],[0.1111111111111111,\"#46039f\"],[0.2222222222222222,\"#7201a8\"],[0.3333333333333333,\"#9c179e\"],[0.4444444444444444,\"#bd3786\"],[0.5555555555555556,\"#d8576b\"],[0.6666666666666666,\"#ed7953\"],[0.7777777777777778,\"#fb9f3a\"],[0.8888888888888888,\"#fdca26\"],[1.0,\"#f0f921\"]],\"diverging\":[[0,\"#8e0152\"],[0.1,\"#c51b7d\"],[0.2,\"#de77ae\"],[0.3,\"#f1b6da\"],[0.4,\"#fde0ef\"],[0.5,\"#f7f7f7\"],[0.6,\"#e6f5d0\"],[0.7,\"#b8e186\"],[0.8,\"#7fbc41\"],[0.9,\"#4d9221\"],[1,\"#276419\"]]},\"xaxis\":{\"gridcolor\":\"white\",\"linecolor\":\"white\",\"ticks\":\"\",\"title\":{\"standoff\":15},\"zerolinecolor\":\"white\",\"automargin\":true,\"zerolinewidth\":2},\"yaxis\":{\"gridcolor\":\"white\",\"linecolor\":\"white\",\"ticks\":\"\",\"title\":{\"standoff\":15},\"zerolinecolor\":\"white\",\"automargin\":true,\"zerolinewidth\":2},\"scene\":{\"xaxis\":{\"backgroundcolor\":\"#E5ECF6\",\"gridcolor\":\"white\",\"linecolor\":\"white\",\"showbackground\":true,\"ticks\":\"\",\"zerolinecolor\":\"white\",\"gridwidth\":2},\"yaxis\":{\"backgroundcolor\":\"#E5ECF6\",\"gridcolor\":\"white\",\"linecolor\":\"white\",\"showbackground\":true,\"ticks\":\"\",\"zerolinecolor\":\"white\",\"gridwidth\":2},\"zaxis\":{\"backgroundcolor\":\"#E5ECF6\",\"gridcolor\":\"white\",\"linecolor\":\"white\",\"showbackground\":true,\"ticks\":\"\",\"zerolinecolor\":\"white\",\"gridwidth\":2}},\"shapedefaults\":{\"line\":{\"color\":\"#2a3f5f\"}},\"annotationdefaults\":{\"arrowcolor\":\"#2a3f5f\",\"arrowhead\":0,\"arrowwidth\":1},\"geo\":{\"bgcolor\":\"white\",\"landcolor\":\"#E5ECF6\",\"subunitcolor\":\"white\",\"showland\":true,\"showlakes\":true,\"lakecolor\":\"white\"},\"title\":{\"x\":0.05},\"mapbox\":{\"style\":\"light\"}}},\"title\":{\"font\":{\"size\":20},\"text\":\"Average Median Earnings by State 10 years after Graduation\"},\"geo\":{\"scope\":\"usa\"}},                        {\"responsive\": true}                    ).then(function(){\n",
       "                            \n",
       "var gd = document.getElementById('cc3bd531-58ef-4875-b4a7-2a8420b410d9');\n",
       "var x = new MutationObserver(function (mutations, observer) {{\n",
       "        var display = window.getComputedStyle(gd).display;\n",
       "        if (!display || display === 'none') {{\n",
       "            console.log([gd, 'removed!']);\n",
       "            Plotly.purge(gd);\n",
       "            observer.disconnect();\n",
       "        }}\n",
       "}});\n",
       "\n",
       "// Listen for the removal of the full notebook cells\n",
       "var notebookContainer = gd.closest('#notebook-container');\n",
       "if (notebookContainer) {{\n",
       "    x.observe(notebookContainer, {childList: true});\n",
       "}}\n",
       "\n",
       "// Listen for the clearing of the current output cell\n",
       "var outputEl = gd.closest('.output');\n",
       "if (outputEl) {{\n",
       "    x.observe(outputEl, {childList: true});\n",
       "}}\n",
       "\n",
       "                        })                };                });            </script>        </div>"
      ]
     },
     "metadata": {},
     "output_type": "display_data"
    }
   ],
   "source": [
    "# Mean earnings by state\n",
    "state_earnings = ownership_df.groupby('state', as_index=False)['median_earnings'].mean()\n",
    "state_earnings = state_earnings.rename(columns={'median_earnings': 'average_median_earnings'})\n",
    "\n",
    "# Plot interactive map\n",
    "fig = go.Figure(data=go.Choropleth(locations = state_earnings['state'],z = state_earnings['average_median_earnings'].astype(float),\n",
    "                                colorscale = 'Greens', locationmode = 'USA-states', colorbar_title = \"USD\"))\n",
    "\n",
    "fig.update_layout(title_text = 'Average Median Earnings by State 10 years after Graduation', title_font_size=20, geo_scope='usa')\n",
    "fig.show()"
   ]
  },
  {
   "cell_type": "markdown",
   "id": "677b665b",
   "metadata": {},
   "source": [
    "From the interactive map, the states that stood out the most with the highest average median earnings are California and Massachusetts (darker green) and with the lowest average median earnings are the states New Mexico and Mississippi."
   ]
  },
  {
   "cell_type": "code",
   "execution_count": 43,
   "id": "bf37e8a2",
   "metadata": {},
   "outputs": [],
   "source": [
    "# Subset by public vs. private\n",
    "public = ownership_df[ownership_df[\"ownership\"] == \"Public\"]\n",
    "private = ownership_df[ownership_df[\"ownership\"] == \"Private\"]"
   ]
  },
  {
   "cell_type": "code",
   "execution_count": 44,
   "id": "b8980a60",
   "metadata": {},
   "outputs": [
    {
     "data": {
      "image/png": "[encoded data removed]",
      "text/plain": [
       "<Figure size 432x288 with 1 Axes>"
      ]
     },
     "metadata": {
      "needs_background": "light"
     },
     "output_type": "display_data"
    }
   ],
   "source": [
    "# create box plot\n",
    "plt.boxplot([public['median_earnings'], \n",
    "            private['median_earnings']], \n",
    "            labels=['Public', 'Private'], flierprops=dict(marker='o', markersize=3))\n",
    "plt.xlabel('Ownership')\n",
    "plt.ylabel('Median Earnings (USD)')\n",
    "plt.title('Median Earnings 10 years after Graduation in Public vs Private institutions')\n",
    "plt.show()"
   ]
  },
  {
   "cell_type": "code",
   "execution_count": 45,
   "id": "c993b9d9",
   "metadata": {},
   "outputs": [
    {
     "name": "stdout",
     "output_type": "stream",
     "text": [
      "50663.650994575044\n",
      "51259.32909245123\n"
     ]
    }
   ],
   "source": [
    "print(public['median_earnings'].mean())\n",
    "print(private['median_earnings'].mean())"
   ]
  },
  {
   "cell_type": "markdown",
   "id": "0860a8cf",
   "metadata": {},
   "source": [
    "From the box plot, we can see that students that graduated from public schools have average median earnings of `$50663.65` which is only __slightly lower__ than the earnings of students graduated from private schools, `$51259.33`. Private colleges have a larger interquartile range with more outliers skewed towards a higher median earning compared to public colleges. We will use the independent T-test, a parametric test, to test for a statistically significant difference in the means between public and private institutions."
   ]
  },
  {
   "cell_type": "code",
   "execution_count": 46,
   "id": "bd9cd05a",
   "metadata": {},
   "outputs": [
    {
     "data": {
      "text/plain": [
       "Ttest_indResult(statistic=0.0, pvalue=1.0)"
      ]
     },
     "execution_count": 46,
     "metadata": {},
     "output_type": "execute_result"
    }
   ],
   "source": [
    "stats.ttest_ind(public['median_earnings'],\n",
    "                public['median_earnings'])"
   ]
  },
  {
   "cell_type": "markdown",
   "id": "c4b3e972",
   "metadata": {},
   "source": [
    "The independent T-test shows that there is __no statistically significant difference__ in the average median earnings between public and private institutions as the p-value > 0.05."
   ]
  },
  {
   "cell_type": "code",
   "execution_count": 47,
   "id": "5384a795",
   "metadata": {},
   "outputs": [
    {
     "data": {
      "image/png": "[encoded data removed]",
      "text/plain": [
       "<Figure size 1152x576 with 1 Axes>"
      ]
     },
     "metadata": {
      "needs_background": "light"
     },
     "output_type": "display_data"
    }
   ],
   "source": [
    "# Create scatter plot to show the relationship between earnings and state for each ownership category\n",
    "fig, ax = plt.subplots(figsize=(16, 8)) # set the figure size to 10x6\n",
    "ax.scatter(public['state'], public['median_earnings'], label='Public', color = \"green\", s = 15)\n",
    "ax.scatter(private['state'], private['median_earnings'], label='Private', color = \"pink\", s = 15)\n",
    "ax.set_xlabel('State')\n",
    "ax.set_ylabel('Median Earnings (USD)')\n",
    "plt.title('Public vs. Private colleges median earnings 10 years after graduation by State')\n",
    "fig.legend(fontsize ='x-large', loc = 1) # legend\n",
    "\n",
    "fig.tight_layout()\n",
    "plt.show()"
   ]
  },
  {
   "cell_type": "markdown",
   "id": "96c591e0",
   "metadata": {},
   "source": [
    "The scatter plot shows the median earnings of each college by state and ownership. We can see that California, Massachusetts, and New York states have the largest ranges of earnings. There seem to be __no pattern__ between public and private institutions as we see both colors at the maximum/minimum median earnings in each state, which supports our independent T-test results. "
   ]
  },
  {
   "cell_type": "code",
   "execution_count": 48,
   "id": "f1fea4ac",
   "metadata": {},
   "outputs": [],
   "source": [
    "# Mean of public vs. private per state\n",
    "mean_public = public.groupby('state', as_index=False)['median_earnings'].mean()\n",
    "mean_public = mean_public.rename(columns={'median_earnings': 'public_average_median_earnings'})\n",
    "\n",
    "mean_private = private.groupby('state', as_index=False)['median_earnings'].mean()\n",
    "mean_private = mean_private.rename(columns={'median_earnings': 'private_average_median_earnings'})\n",
    "\n",
    "# Merge both dataframes together\n",
    "mean_earnings = mean_public.merge(mean_private, how='inner', on='state')\n",
    "\n",
    "# Merge averegae mean earnings of all ownership by state to `mean_earnings`\n",
    "mean_earnings = mean_earnings.merge(state_earnings, on='state')\n",
    "\n",
    "# sort merged dataframe by mean values\n",
    "mean_earnings = mean_earnings.sort_values(by='average_median_earnings', ascending = False)\n",
    "mean_earnings.set_index('state', inplace=True)  # Set index by \"state\""
   ]
  },
  {
   "cell_type": "code",
   "execution_count": 49,
   "id": "9336b823",
   "metadata": {},
   "outputs": [
    {
     "data": {
      "image/png": "[encoded data removed]",
      "text/plain": [
       "<Figure size 720x360 with 2 Axes>"
      ]
     },
     "metadata": {
      "needs_background": "light"
     },
     "output_type": "display_data"
    }
   ],
   "source": [
    "# Subset top 5 / bottom 5 states of average median earnings to be plotted on a grouped bar graph\n",
    "top5_state = mean_earnings.head(5)\n",
    "bottom5_state = mean_earnings.tail(5)\n",
    "\n",
    "# Select columns for plotting\n",
    "cols = ['public_average_median_earnings', 'private_average_median_earnings']\n",
    "\n",
    "# Create subplots\n",
    "fig, axs = plt.subplots(nrows=1, ncols=2, figsize=(10, 5))\n",
    "\n",
    "# Top 5 states\n",
    "top5_state[cols].plot(kind='bar', ax=axs[0], rot=0, legend=False, color = ['green', 'pink'])\n",
    "axs[0].set_xlabel('State')\n",
    "axs[0].set_ylabel('Average Median Earnings (USD)')\n",
    "axs[0].set_title('Average median earnings of top 5 States')\n",
    "axs[0].set_ylim([0, 70000])\n",
    "fig.legend(loc=3, fontsize ='xx-small') # legend\n",
    "\n",
    "# Bottom 5 states\n",
    "bottom5_state[cols].plot(kind='bar', ax=axs[1], rot=0, legend=False, color = ['green', 'pink'])\n",
    "axs[1].set_xlabel('State')\n",
    "axs[1].set_ylabel('Average Median Earnings (USD)')\n",
    "axs[1].set_title('Average median earnings of bottom 5 States')\n",
    "axs[1].set_ylim([0, 70000])\n",
    "\n",
    "fig.tight_layout()\n",
    "plt.show()"
   ]
  },
  {
   "cell_type": "markdown",
   "id": "70103cc5",
   "metadata": {},
   "source": [
    "We can see from the average median earnings from the top 5 and bottom 5 states that there is no clear trend in the difference in income from private and public institutions.\n",
    "\n",
    "Overall, from the visualizations and statistics calculated, we can conclude that there are __no significance difference__ in median earnings 10 years after graduation between public and private institutions in 2018."
   ]
  },
  {
   "cell_type": "markdown",
   "id": "bb501251",
   "metadata": {},
   "source": [
    "## Public vs Private Student Loan Debt Analysis\n",
    "Another big question many students have is regrading the cost difference and how much load a student takes out in public vs. private institutions. Stereotypically, students tend to take out more loans for private schools due to a higher tuition fee. We want to analyze if there is a significant difference in __student loan debt in public vs. private institutions__."
   ]
  },
  {
   "cell_type": "code",
   "execution_count": null,
   "id": "d6d45312",
   "metadata": {},
   "outputs": [],
   "source": [
    "# Get data of the latest year (2018)\n",
    "loan = get_scorecard_data(year = \"latest\", dev_category = \"aid\", var_name = \"loan_principal\")\n",
    "\n",
    "result = loan.json()\n",
    "pages = result[\"metadata\"][\"page\"]\n",
    "results = result[\"results\"]\n",
    "max_page_num = result[\"metadata\"][\"total\"]//100 + 1\n",
    "\n",
    "# Loop over remaining pages\n",
    "for p in range(pages, max_page_num + 1):\n",
    "    results += get_scorecard_data(year = \"latest\", dev_category = \"aid\", var_name = \"loan_principal\", page = p).json()[\"results\"]\n",
    "    time.sleep(0.1) # 1 seconds # Slow down request from API"
   ]
  },
  {
   "cell_type": "code",
   "execution_count": null,
   "id": "3920ccb2",
   "metadata": {},
   "outputs": [],
   "source": [
    "# Create dataframe\n",
    "loan_df = pd.DataFrame(results)\n",
    "loan_df = loan_df.set_index('id') # Set index by \"ID\"\n",
    "\n",
    "# Replace column name\n",
    "loan_df = loan_df.rename(columns={'latest.aid.loan_principal': 'loan_principal', 'school.name': 'name', 'school.state': 'state', 'school.ownership': 'ownership'})\n",
    "\n",
    "# Drop NAs value\n",
    "loan_df = loan_df.dropna(subset=['loan_principal'])\n",
    "\n",
    "# Remove data points for U.S. territories\n",
    "US_TERRITORIES = [\"GU\", \"DC\", \"PR\", \"VI\"]\n",
    "loan_df = loan_df[~loan_df[\"state\"].isin(US_TERRITORIES)]\n",
    "\n",
    "# Replace school.ownership = 1 to Public \n",
    "# school.ownership = 2 or 3 to Private \n",
    "loan_df['ownership'] = loan_df['ownership'].replace([1], 'Public')\n",
    "loan_df['ownership'] = loan_df['ownership'].replace([2,3], 'Private')\n",
    "\n",
    "# Remove duplicated entries\n",
    "loan_df = loan_df.drop_duplicates()"
   ]
  },
  {
   "cell_type": "code",
   "execution_count": null,
   "id": "c4daaa53",
   "metadata": {},
   "outputs": [],
   "source": [
    "# Mean Student Loan Debt by state\n",
    "state_loan = loan_df.groupby('state', as_index=False)['loan_principal'].mean()\n",
    "state_loan = state_loan.rename(columns={'loan_principal': 'average_loan_principal'})\n",
    "\n",
    "# Plot interactive map\n",
    "fig = go.Figure(data=go.Choropleth(locations = state_loan['state'],z = state_loan['average_loan_principal'].astype(float),\n",
    "                                colorscale = 'Reds', locationmode = 'USA-states', colorbar_title = \"USD\"))\n",
    "\n",
    "fig.update_layout(title_text = 'Average Student Loan Debt by State', title_font_size=20, geo_scope='usa')\n",
    "fig.show()"
   ]
  },
  {
   "cell_type": "markdown",
   "id": "b9d88e6e",
   "metadata": {},
   "source": [
    "The state with the higher student loan debt can be clearly seen from this cloropleth map to be Pennsylvania. Most states have a student loan debt between \\\\$15k and \\\\$18k. We will perform further analysis of the distribution by creating a box plot and perfoming an independent t-test, similar to the median income variable analysis we analyzed above."
   ]
  },
  {
   "cell_type": "code",
   "execution_count": null,
   "id": "456475fa",
   "metadata": {},
   "outputs": [],
   "source": [
    "# Subset by public vs. private\n",
    "public_loan = loan_df[loan_df[\"ownership\"] == \"Public\"]\n",
    "private_loan = loan_df[loan_df[\"ownership\"] == \"Private\"]"
   ]
  },
  {
   "cell_type": "code",
   "execution_count": null,
   "id": "8c60c231",
   "metadata": {},
   "outputs": [],
   "source": [
    "# Create box plot\n",
    "plt.boxplot([public_loan['loan_principal'], \n",
    "            private_loan['loan_principal']], \n",
    "            labels=['Public', 'Private'], flierprops=dict(marker='o', markersize=3))\n",
    "plt.xlabel('Ownership')\n",
    "plt.ylabel('Student Loan Debt (USD)')\n",
    "plt.title('Student Loan Debt in Public vs Private institutions')\n",
    "plt.show()"
   ]
  },
  {
   "cell_type": "code",
   "execution_count": null,
   "id": "da8c6260",
   "metadata": {},
   "outputs": [],
   "source": [
    "print(public_loan['loan_principal'].mean())\n",
    "print(private_loan['loan_principal'].mean())"
   ]
  },
  {
   "cell_type": "markdown",
   "id": "efedba43",
   "metadata": {},
   "source": [
    "From the box plot, we can see that students that graduated from public schools have average student loan debt of `$14745.43` which is lower than the student loan debt of students graduated from private schools, `$17041.89`. Private colleges have a larger interquartile range with more outliers skewed towards a higher median earning compared to public colleges. We will use the independent T-test, a parametric test, to test for a statistically significant difference in the means between public and private institutions."
   ]
  },
  {
   "cell_type": "code",
   "execution_count": null,
   "id": "fc9b5a75",
   "metadata": {},
   "outputs": [],
   "source": [
    "stats.ttest_ind(public_loan['loan_principal'],\n",
    "                private_loan['loan_principal'])"
   ]
  },
  {
   "cell_type": "markdown",
   "id": "34d5e267",
   "metadata": {},
   "source": [
    "The independent T-test shows that there is a __statistically significant difference__ in the average student loan debt between public and private institutions as the p-value < 0.05."
   ]
  },
  {
   "cell_type": "code",
   "execution_count": null,
   "id": "2a819eb0",
   "metadata": {},
   "outputs": [],
   "source": [
    "# Create scatter plot to show the relationship between earnings and state for each ownership category\n",
    "fig, ax = plt.subplots(figsize=(16, 8)) # set the figure size to 10x6\n",
    "ax.scatter(public_loan['state'], public_loan['loan_principal'], label='Public', color = \"green\", s = 15)\n",
    "ax.scatter(private_loan['state'], private_loan['loan_principal'], label='Private', color = \"pink\", s = 15)\n",
    "ax.set_xlabel('State')\n",
    "ax.set_ylabel('Student Loan Debt (USD)')\n",
    "plt.title('Public vs. Private Institutions Student Loan Debt by State')\n",
    "fig.legend(fontsize ='x-large', loc = 1) # legend\n",
    "\n",
    "fig.tight_layout()\n",
    "plt.show()"
   ]
  },
  {
   "cell_type": "markdown",
   "id": "89f39a2d",
   "metadata": {},
   "source": [
    "From the scatter plot, we can see that there is a pretty clear pattern where when there is a high student loan debt, most of the institutions are private for every state. However, with lower student loan debt, there exist both public and private institutions."
   ]
  },
  {
   "cell_type": "code",
   "execution_count": null,
   "id": "0d8eb3f9",
   "metadata": {},
   "outputs": [],
   "source": [
    "# Mean of public vs. private per state\n",
    "mean_public_loan = public_loan.groupby('state', as_index=False)['loan_principal'].mean()\n",
    "mean_public_loan = mean_public_loan.rename(columns={'loan_principal': 'public_loan_principal'})\n",
    "\n",
    "mean_private_loan = private_loan.groupby('state', as_index=False)['loan_principal'].mean()\n",
    "mean_private_loan = mean_private_loan.rename(columns={'loan_principal': 'private_loan_principal'})\n",
    "\n",
    "# Merge both dataframes together\n",
    "mean_loan = mean_public_loan.merge(mean_private_loan, how='inner', on='state')\n",
    "\n",
    "# Merge averegae mean earnings of all ownership by state to `mean_earnings`\n",
    "mean_loan = mean_loan.merge(state_loan, on='state')\n",
    "\n",
    "# sort merged dataframe by mean values\n",
    "mean_loan = mean_loan.sort_values(by='average_loan_principal', ascending = False)\n",
    "mean_loan.set_index('state', inplace=True)  # Set index by \"state\""
   ]
  },
  {
   "cell_type": "code",
   "execution_count": null,
   "id": "c5507c66",
   "metadata": {},
   "outputs": [],
   "source": [
    "# Subset top 5 / bottom 5 states of average median earnings to be plotted on a grouped bar graph\n",
    "top5_state_loan = mean_loan.head(5)\n",
    "bottom5_state_loan = mean_loan.tail(5)\n",
    "\n",
    "# Select columns for plotting\n",
    "cols = ['public_loan_principal', 'private_loan_principal']\n",
    "\n",
    "# Create subplots\n",
    "fig, axs = plt.subplots(nrows=1, ncols=2, figsize=(10, 5))\n",
    "\n",
    "# Top 5 states\n",
    "top5_state_loan[cols].plot(kind='bar', ax=axs[0], rot=0, legend=False, color = ['green', 'pink'])\n",
    "axs[0].set_xlabel('State')\n",
    "axs[0].set_ylabel('Student Loan Debt (USD)')\n",
    "axs[0].set_title('Student Loan Debt of Top 5 States')\n",
    "axs[0].set_ylim([0, 25000])\n",
    "fig.legend(loc=3, fontsize ='xx-small') # legend\n",
    "\n",
    "# Bottom 5 states\n",
    "bottom5_state_loan[cols].plot(kind='bar', ax=axs[1], rot=0, legend=False, color = ['green', 'pink'])\n",
    "axs[1].set_xlabel('State')\n",
    "axs[1].set_ylabel('Student Loan Debt (USD)')\n",
    "axs[1].set_title('Student Loan Debt of Bottom 5 States')\n",
    "axs[1].set_ylim([0, 25000])\n",
    "\n",
    "fig.tight_layout()\n",
    "plt.show()"
   ]
  },
  {
   "cell_type": "markdown",
   "id": "f0b6d1b1",
   "metadata": {},
   "source": [
    "From the grouped bar graphs above, we can see that in 8/10 of the states, student loan debt is higher in private institutions compared to public institutions.\n",
    "\n",
    "Overall, from the visualizations and statistics calculated, we can conclude that there is a __significance difference__ in average student loan debt between public and private institutions in 2018."
   ]
  },
  {
   "cell_type": "markdown",
   "id": "9583d61e",
   "metadata": {},
   "source": [
    "# Conclusion"
   ]
  },
  {
   "cell_type": "markdown",
   "id": "79ab9271",
   "metadata": {},
   "source": [
    "In conclusion, despite the significant increase in student debt and post-graduation income over the years analyzed, it is still worth attending college. Our analysis found a positive correlation between post-graduation income, completion rate, and the cost of college. It is possible to find lower-costing, high-income colleges, especially in nursing and engineering-based STEM programs. Attending these colleges gives the highest income with the lowest debt.\n",
    "\n",
    "Furthermore, we found that while median income does not differ much between public and private institutions, student debt is significantly higher in private institutions. However, it is possible to graduate from a private institution with low student debt.\n",
    "\n",
    "Therefore, finding a balance between the amount of debt you incur and the amount you will make largely depends on the type of college you attend and the degree you choose to graduate with. It is important to research before attending college to ensure that you make an informed decision about your future financial stability. Overall, college is still worth it, and with careful planning and consideration, students can find success both academically and financially after graduation.\n",
    "\n"
   ]
  },
  {
   "cell_type": "markdown",
   "id": "77452ba1",
   "metadata": {},
   "source": [
    "# References"
   ]
  },
  {
   "cell_type": "markdown",
   "id": "7f7593a9",
   "metadata": {},
   "source": [
    "1. Choropleth Documentation: https://towardsdatascience.com/simplest-way-of-creating-a-choropleth-map-by-u-s-states-in-python-f359ada7735e\n",
    "\n",
    "2. College Scorecard Data Documentation: https://collegescorecard.ed.gov/data/documentation/\n",
    "\n",
    "3. Seaborn Documentation: https://seaborn.pydata.org/"
   ]
  }
 ],
 "metadata": {
  "kernelspec": {
   "display_name": "Python 3 (ipykernel)",
   "language": "python",
   "name": "python3"
  },
  "language_info": {
   "codemirror_mode": {
    "name": "ipython",
    "version": 3
   },
   "file_extension": ".py",
   "mimetype": "text/x-python",
   "name": "python",
   "nbconvert_exporter": "python",
   "pygments_lexer": "ipython3",
   "version": "3.9.2"
  },
  "vscode": {
   "interpreter": {
    "hash": "31f2aee4e71d21fbe5cf8b01ff0e069b9275f58929596ceb00d14d90e3e16cd6"
   }
  }
 },
 "nbformat": 4,
 "nbformat_minor": 5
}
